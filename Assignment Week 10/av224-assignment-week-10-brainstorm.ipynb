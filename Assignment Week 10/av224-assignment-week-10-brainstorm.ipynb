{
 "cells": [
  {
   "cell_type": "code",
   "execution_count": 30,
   "metadata": {},
   "outputs": [],
   "source": [
    "import pandas as pd\n",
    "import os\n",
    "from Bio import Entrez\n",
    "from Bio import SeqIO\n",
    "from Bio.Seq import Seq\n",
    "from Bio.SeqFeature import SeqFeature\n",
    "from Bio.SeqRecord import SeqRecord"
   ]
  },
  {
   "cell_type": "code",
   "execution_count": null,
   "metadata": {},
   "outputs": [],
   "source": []
  },
  {
   "cell_type": "code",
   "execution_count": 31,
   "metadata": {},
   "outputs": [],
   "source": [
    "keys = [1,2,3]\n",
    "values = [4,5,6]"
   ]
  },
  {
   "cell_type": "code",
   "execution_count": 32,
   "metadata": {},
   "outputs": [
    {
     "data": {
      "text/plain": [
       "<zip at 0x1ffc4799b00>"
      ]
     },
     "execution_count": 32,
     "metadata": {},
     "output_type": "execute_result"
    }
   ],
   "source": [
    "zip(keys, values)"
   ]
  },
  {
   "cell_type": "code",
   "execution_count": 33,
   "metadata": {},
   "outputs": [
    {
     "data": {
      "text/plain": [
       "{1: 4, 2: 5, 3: 6}"
      ]
     },
     "execution_count": 33,
     "metadata": {},
     "output_type": "execute_result"
    }
   ],
   "source": [
    "dict(zip(keys, values))"
   ]
  },
  {
   "cell_type": "code",
   "execution_count": null,
   "metadata": {},
   "outputs": [],
   "source": []
  },
  {
   "cell_type": "code",
   "execution_count": 34,
   "metadata": {
    "scrolled": true
   },
   "outputs": [
    {
     "data": {
      "text/html": [
       "<div>\n",
       "<style scoped>\n",
       "    .dataframe tbody tr th:only-of-type {\n",
       "        vertical-align: middle;\n",
       "    }\n",
       "\n",
       "    .dataframe tbody tr th {\n",
       "        vertical-align: top;\n",
       "    }\n",
       "\n",
       "    .dataframe thead th {\n",
       "        text-align: right;\n",
       "    }\n",
       "</style>\n",
       "<table border=\"1\" class=\"dataframe\">\n",
       "  <thead>\n",
       "    <tr style=\"text-align: right;\">\n",
       "      <th></th>\n",
       "      <th>Name</th>\n",
       "      <th>Accession</th>\n",
       "    </tr>\n",
       "  </thead>\n",
       "  <tbody>\n",
       "    <tr>\n",
       "      <th>0</th>\n",
       "      <td>Domestic dog</td>\n",
       "      <td>MT663955</td>\n",
       "    </tr>\n",
       "    <tr>\n",
       "      <th>1</th>\n",
       "      <td>Mexican free-tailed bat</td>\n",
       "      <td>MT663956</td>\n",
       "    </tr>\n",
       "    <tr>\n",
       "      <th>2</th>\n",
       "      <td>Chinese ferret badger</td>\n",
       "      <td>MT663957</td>\n",
       "    </tr>\n",
       "    <tr>\n",
       "      <th>3</th>\n",
       "      <td>Raccoon dog</td>\n",
       "      <td>MT663958</td>\n",
       "    </tr>\n",
       "    <tr>\n",
       "      <th>4</th>\n",
       "      <td>Domestic cat</td>\n",
       "      <td>MT663959</td>\n",
       "    </tr>\n",
       "    <tr>\n",
       "      <th>5</th>\n",
       "      <td>Rhesus monkey</td>\n",
       "      <td>MT663960</td>\n",
       "    </tr>\n",
       "    <tr>\n",
       "      <th>6</th>\n",
       "      <td>New Zealand White rabbit</td>\n",
       "      <td>MT663961</td>\n",
       "    </tr>\n",
       "    <tr>\n",
       "      <th>7</th>\n",
       "      <td>Hog badger</td>\n",
       "      <td>MT663962</td>\n",
       "    </tr>\n",
       "    <tr>\n",
       "      <th>8</th>\n",
       "      <td>Platypus</td>\n",
       "      <td>XM_001515547</td>\n",
       "    </tr>\n",
       "    <tr>\n",
       "      <th>9</th>\n",
       "      <td>Human</td>\n",
       "      <td>NM_001371415.1</td>\n",
       "    </tr>\n",
       "    <tr>\n",
       "      <th>10</th>\n",
       "      <td>Civet</td>\n",
       "      <td>AY881174.1</td>\n",
       "    </tr>\n",
       "    <tr>\n",
       "      <th>11</th>\n",
       "      <td>Rat</td>\n",
       "      <td>NM_001012006.1</td>\n",
       "    </tr>\n",
       "    <tr>\n",
       "      <th>12</th>\n",
       "      <td>Chinese horseshoe bat</td>\n",
       "      <td>KC881004.1</td>\n",
       "    </tr>\n",
       "    <tr>\n",
       "      <th>13</th>\n",
       "      <td>Pangolin</td>\n",
       "      <td>XM_017650263.1</td>\n",
       "    </tr>\n",
       "    <tr>\n",
       "      <th>14</th>\n",
       "      <td>Mouse</td>\n",
       "      <td>NM_001130513</td>\n",
       "    </tr>\n",
       "  </tbody>\n",
       "</table>\n",
       "</div>"
      ],
      "text/plain": [
       "                        Name       Accession\n",
       "0               Domestic dog        MT663955\n",
       "1    Mexican free-tailed bat        MT663956\n",
       "2      Chinese ferret badger        MT663957\n",
       "3                Raccoon dog        MT663958\n",
       "4               Domestic cat        MT663959\n",
       "5              Rhesus monkey        MT663960\n",
       "6   New Zealand White rabbit        MT663961\n",
       "7                 Hog badger        MT663962\n",
       "8                   Platypus    XM_001515547\n",
       "9                      Human  NM_001371415.1\n",
       "10                     Civet      AY881174.1\n",
       "11                       Rat  NM_001012006.1\n",
       "12     Chinese horseshoe bat      KC881004.1\n",
       "13                  Pangolin  XM_017650263.1\n",
       "14                     Mouse    NM_001130513"
      ]
     },
     "execution_count": 34,
     "metadata": {},
     "output_type": "execute_result"
    }
   ],
   "source": [
    "df = pd.read_csv(\"ACE2-accessions.csv\")\n",
    "df"
   ]
  },
  {
   "cell_type": "code",
   "execution_count": 35,
   "metadata": {
    "scrolled": true
   },
   "outputs": [
    {
     "data": {
      "text/plain": [
       "0                 Domestic dog\n",
       "1      Mexican free-tailed bat\n",
       "2        Chinese ferret badger\n",
       "3                  Raccoon dog\n",
       "4                 Domestic cat\n",
       "5                Rhesus monkey\n",
       "6     New Zealand White rabbit\n",
       "7                   Hog badger\n",
       "8                     Platypus\n",
       "9                        Human\n",
       "10                       Civet\n",
       "11                         Rat\n",
       "12       Chinese horseshoe bat\n",
       "13                    Pangolin\n",
       "14                       Mouse\n",
       "Name: Name, dtype: object"
      ]
     },
     "execution_count": 35,
     "metadata": {},
     "output_type": "execute_result"
    }
   ],
   "source": [
    "df.Name"
   ]
  },
  {
   "cell_type": "code",
   "execution_count": 36,
   "metadata": {},
   "outputs": [
    {
     "data": {
      "text/plain": [
       "0           MT663955\n",
       "1           MT663956\n",
       "2           MT663957\n",
       "3           MT663958\n",
       "4           MT663959\n",
       "5           MT663960\n",
       "6           MT663961\n",
       "7           MT663962\n",
       "8       XM_001515547\n",
       "9     NM_001371415.1\n",
       "10        AY881174.1\n",
       "11    NM_001012006.1\n",
       "12        KC881004.1\n",
       "13    XM_017650263.1\n",
       "14      NM_001130513\n",
       "Name: Accession, dtype: object"
      ]
     },
     "execution_count": 36,
     "metadata": {},
     "output_type": "execute_result"
    }
   ],
   "source": [
    "df.Accession"
   ]
  },
  {
   "cell_type": "code",
   "execution_count": 37,
   "metadata": {},
   "outputs": [
    {
     "data": {
      "text/plain": [
       "0                 Domestic dog\n",
       "1      Mexican free-tailed bat\n",
       "2        Chinese ferret badger\n",
       "3                  Raccoon dog\n",
       "4                 Domestic cat\n",
       "5                Rhesus monkey\n",
       "6     New Zealand White rabbit\n",
       "7                   Hog badger\n",
       "8                     Platypus\n",
       "9                        Human\n",
       "10                       Civet\n",
       "11                         Rat\n",
       "12       Chinese horseshoe bat\n",
       "13                    Pangolin\n",
       "14                       Mouse\n",
       "Name: Name, dtype: object"
      ]
     },
     "execution_count": 37,
     "metadata": {},
     "output_type": "execute_result"
    }
   ],
   "source": [
    "list1 = df.Name\n",
    "list1"
   ]
  },
  {
   "cell_type": "code",
   "execution_count": 38,
   "metadata": {},
   "outputs": [
    {
     "data": {
      "text/plain": [
       "0           MT663955\n",
       "1           MT663956\n",
       "2           MT663957\n",
       "3           MT663958\n",
       "4           MT663959\n",
       "5           MT663960\n",
       "6           MT663961\n",
       "7           MT663962\n",
       "8       XM_001515547\n",
       "9     NM_001371415.1\n",
       "10        AY881174.1\n",
       "11    NM_001012006.1\n",
       "12        KC881004.1\n",
       "13    XM_017650263.1\n",
       "14      NM_001130513\n",
       "Name: Accession, dtype: object"
      ]
     },
     "execution_count": 38,
     "metadata": {},
     "output_type": "execute_result"
    }
   ],
   "source": [
    "list2 = df.Accession\n",
    "list2"
   ]
  },
  {
   "cell_type": "code",
   "execution_count": 39,
   "metadata": {},
   "outputs": [
    {
     "data": {
      "text/plain": [
       "['Domestic dog',\n",
       " 'Mexican free-tailed bat',\n",
       " 'Chinese ferret badger',\n",
       " 'Raccoon dog',\n",
       " 'Domestic cat',\n",
       " 'Rhesus monkey',\n",
       " 'New Zealand White rabbit',\n",
       " 'Hog badger',\n",
       " 'Platypus',\n",
       " 'Human',\n",
       " 'Civet',\n",
       " 'Rat',\n",
       " 'Chinese horseshoe bat',\n",
       " 'Pangolin',\n",
       " 'Mouse']"
      ]
     },
     "execution_count": 39,
     "metadata": {},
     "output_type": "execute_result"
    }
   ],
   "source": [
    "listName = df.Name.tolist()\n",
    "listName"
   ]
  },
  {
   "cell_type": "code",
   "execution_count": 40,
   "metadata": {},
   "outputs": [
    {
     "data": {
      "text/plain": [
       "['MT663955',\n",
       " 'MT663956',\n",
       " 'MT663957',\n",
       " 'MT663958',\n",
       " 'MT663959',\n",
       " 'MT663960',\n",
       " 'MT663961',\n",
       " 'MT663962',\n",
       " 'XM_001515547',\n",
       " 'NM_001371415.1',\n",
       " 'AY881174.1',\n",
       " 'NM_001012006.1',\n",
       " 'KC881004.1',\n",
       " 'XM_017650263.1',\n",
       " 'NM_001130513']"
      ]
     },
     "execution_count": 40,
     "metadata": {},
     "output_type": "execute_result"
    }
   ],
   "source": [
    "listAccession = df.Accession.tolist()\n",
    "listAccession"
   ]
  },
  {
   "cell_type": "code",
   "execution_count": 41,
   "metadata": {},
   "outputs": [
    {
     "data": {
      "text/plain": [
       "<zip at 0x1ffc47bca40>"
      ]
     },
     "execution_count": 41,
     "metadata": {},
     "output_type": "execute_result"
    }
   ],
   "source": [
    "zip(listName, listAccession)"
   ]
  },
  {
   "cell_type": "code",
   "execution_count": 42,
   "metadata": {},
   "outputs": [
    {
     "data": {
      "text/plain": [
       "{'Domestic dog': 'MT663955',\n",
       " 'Mexican free-tailed bat': 'MT663956',\n",
       " 'Chinese ferret badger': 'MT663957',\n",
       " 'Raccoon dog': 'MT663958',\n",
       " 'Domestic cat': 'MT663959',\n",
       " 'Rhesus monkey': 'MT663960',\n",
       " 'New Zealand White rabbit': 'MT663961',\n",
       " 'Hog badger': 'MT663962',\n",
       " 'Platypus': 'XM_001515547',\n",
       " 'Human': 'NM_001371415.1',\n",
       " 'Civet': 'AY881174.1',\n",
       " 'Rat': 'NM_001012006.1',\n",
       " 'Chinese horseshoe bat': 'KC881004.1',\n",
       " 'Pangolin': 'XM_017650263.1',\n",
       " 'Mouse': 'NM_001130513'}"
      ]
     },
     "execution_count": 42,
     "metadata": {},
     "output_type": "execute_result"
    }
   ],
   "source": [
    "dict(zip(listName,listAccession))"
   ]
  },
  {
   "cell_type": "code",
   "execution_count": 43,
   "metadata": {
    "scrolled": true
   },
   "outputs": [
    {
     "data": {
      "text/plain": [
       "{'Domestic dog': 'MT663955',\n",
       " 'Mexican free-tailed bat': 'MT663956',\n",
       " 'Chinese ferret badger': 'MT663957',\n",
       " 'Raccoon dog': 'MT663958',\n",
       " 'Domestic cat': 'MT663959',\n",
       " 'Rhesus monkey': 'MT663960',\n",
       " 'New Zealand White rabbit': 'MT663961',\n",
       " 'Hog badger': 'MT663962',\n",
       " 'Platypus': 'XM_001515547',\n",
       " 'Human': 'NM_001371415.1',\n",
       " 'Civet': 'AY881174.1',\n",
       " 'Rat': 'NM_001012006.1',\n",
       " 'Chinese horseshoe bat': 'KC881004.1',\n",
       " 'Pangolin': 'XM_017650263.1',\n",
       " 'Mouse': 'NM_001130513'}"
      ]
     },
     "execution_count": 43,
     "metadata": {},
     "output_type": "execute_result"
    }
   ],
   "source": [
    "dict1 = dict(zip(listName,listAccession))\n",
    "dict1"
   ]
  },
  {
   "cell_type": "code",
   "execution_count": 44,
   "metadata": {},
   "outputs": [
    {
     "data": {
      "text/plain": [
       "dict_keys(['Domestic dog', 'Mexican free-tailed bat', 'Chinese ferret badger', 'Raccoon dog', 'Domestic cat', 'Rhesus monkey', 'New Zealand White rabbit', 'Hog badger', 'Platypus', 'Human', 'Civet', 'Rat', 'Chinese horseshoe bat', 'Pangolin', 'Mouse'])"
      ]
     },
     "execution_count": 44,
     "metadata": {},
     "output_type": "execute_result"
    }
   ],
   "source": [
    "dict1keys = dict1.keys()\n",
    "dict1keys"
   ]
  },
  {
   "cell_type": "code",
   "execution_count": 45,
   "metadata": {
    "scrolled": true
   },
   "outputs": [
    {
     "data": {
      "text/plain": [
       "['MT663955.gb',\n",
       " 'MT663956.gb',\n",
       " 'MT663957.gb',\n",
       " 'MT663958.gb',\n",
       " 'MT663959.gb',\n",
       " 'MT663960.gb',\n",
       " 'MT663961.gb',\n",
       " 'MT663962.gb',\n",
       " 'XM_001515547.gb',\n",
       " 'NM_001371415.1.gb',\n",
       " 'AY881174.1.gb',\n",
       " 'NM_001012006.1.gb',\n",
       " 'KC881004.1.gb',\n",
       " 'XM_017650263.1.gb',\n",
       " 'NM_001130513.gb']"
      ]
     },
     "execution_count": 45,
     "metadata": {},
     "output_type": "execute_result"
    }
   ],
   "source": [
    "fname = \"\"\n",
    "listfname = []\n",
    "for i in dict1.values():\n",
    "    listfname.append(i+'.gb')\n",
    "listfname"
   ]
  },
  {
   "cell_type": "code",
   "execution_count": 46,
   "metadata": {},
   "outputs": [
    {
     "data": {
      "text/plain": [
       "<zip at 0x1ffc47c4e80>"
      ]
     },
     "execution_count": 46,
     "metadata": {},
     "output_type": "execute_result"
    }
   ],
   "source": [
    "zip(dict1.keys(), listfname)"
   ]
  },
  {
   "cell_type": "code",
   "execution_count": 47,
   "metadata": {},
   "outputs": [
    {
     "data": {
      "text/plain": [
       "{'Domestic dog': 'MT663955.gb',\n",
       " 'Mexican free-tailed bat': 'MT663956.gb',\n",
       " 'Chinese ferret badger': 'MT663957.gb',\n",
       " 'Raccoon dog': 'MT663958.gb',\n",
       " 'Domestic cat': 'MT663959.gb',\n",
       " 'Rhesus monkey': 'MT663960.gb',\n",
       " 'New Zealand White rabbit': 'MT663961.gb',\n",
       " 'Hog badger': 'MT663962.gb',\n",
       " 'Platypus': 'XM_001515547.gb',\n",
       " 'Human': 'NM_001371415.1.gb',\n",
       " 'Civet': 'AY881174.1.gb',\n",
       " 'Rat': 'NM_001012006.1.gb',\n",
       " 'Chinese horseshoe bat': 'KC881004.1.gb',\n",
       " 'Pangolin': 'XM_017650263.1.gb',\n",
       " 'Mouse': 'NM_001130513.gb'}"
      ]
     },
     "execution_count": 47,
     "metadata": {},
     "output_type": "execute_result"
    }
   ],
   "source": [
    "dict(zip(dict1.keys(),listfname))"
   ]
  },
  {
   "cell_type": "code",
   "execution_count": 48,
   "metadata": {},
   "outputs": [
    {
     "data": {
      "text/plain": [
       "{'Domestic dog': 'MT663955.gb',\n",
       " 'Mexican free-tailed bat': 'MT663956.gb',\n",
       " 'Chinese ferret badger': 'MT663957.gb',\n",
       " 'Raccoon dog': 'MT663958.gb',\n",
       " 'Domestic cat': 'MT663959.gb',\n",
       " 'Rhesus monkey': 'MT663960.gb',\n",
       " 'New Zealand White rabbit': 'MT663961.gb',\n",
       " 'Hog badger': 'MT663962.gb',\n",
       " 'Platypus': 'XM_001515547.gb',\n",
       " 'Human': 'NM_001371415.1.gb',\n",
       " 'Civet': 'AY881174.1.gb',\n",
       " 'Rat': 'NM_001012006.1.gb',\n",
       " 'Chinese horseshoe bat': 'KC881004.1.gb',\n",
       " 'Pangolin': 'XM_017650263.1.gb',\n",
       " 'Mouse': 'NM_001130513.gb'}"
      ]
     },
     "execution_count": 48,
     "metadata": {},
     "output_type": "execute_result"
    }
   ],
   "source": [
    "dictret = dict(zip(dict1.keys(),listfname))\n",
    "dictret"
   ]
  },
  {
   "cell_type": "code",
   "execution_count": 49,
   "metadata": {},
   "outputs": [],
   "source": [
    "from Bio import Entrez\n",
    "from Bio import SeqIO"
   ]
  },
  {
   "cell_type": "code",
   "execution_count": 50,
   "metadata": {},
   "outputs": [
    {
     "name": "stdout",
     "output_type": "stream",
     "text": [
      "AF191665.1 with 3 features\n"
     ]
    }
   ],
   "source": [
    "# one Genebank file\n",
    "Entrez.email = \"ashrit.verma@duke.edu\"\n",
    "with Entrez.efetch(\n",
    "    db=\"nucleotide\", rettype=\"gb\", retmode=\"text\", id=\"6273291\"\n",
    ") as handle:\n",
    "    seq_record = SeqIO.read(handle, \"gb\")  # using \"gb\" as an alias for \"genbank\"\n",
    "print(\"%s with %i features\" % (seq_record.id, len(seq_record.features)))"
   ]
  },
  {
   "cell_type": "code",
   "execution_count": 51,
   "metadata": {
    "scrolled": false
   },
   "outputs": [
    {
     "name": "stdout",
     "output_type": "stream",
     "text": [
      "AF191665.1 Opuntia marenae rpl16 gene; chloroplast gene for c...\n",
      "Sequence length 902, 3 features, from: chloroplast Grusonia marenae\n",
      "AF191664.1 Opuntia clavata rpl16 gene; chloroplast gene for c...\n",
      "Sequence length 899, 3 features, from: chloroplast Grusonia clavata\n",
      "AF191663.1 Opuntia bradtiana rpl16 gene; chloroplast gene for...\n",
      "Sequence length 899, 3 features, from: chloroplast Grusonia bradtiana\n"
     ]
    }
   ],
   "source": [
    "# three Genebank files\n",
    "Entrez.email = \"ashrit.verma@duke.edu\"\n",
    "with Entrez.efetch(\n",
    "    db=\"nucleotide\", rettype=\"gb\", retmode=\"text\", id=\"6273291,6273290,6273289\"\n",
    ") as handle:\n",
    "    for seq_record in SeqIO.parse(handle, \"gb\"):\n",
    "        print(\"%s %s...\" % (seq_record.id, seq_record.description[:50]))\n",
    "        print(\n",
    "            \"Sequence length %i, %i features, from: %s\"\n",
    "            % (\n",
    "                len(seq_record),\n",
    "                len(seq_record.features),\n",
    "                seq_record.annotations[\"source\"],\n",
    "            )\n",
    "        )"
   ]
  },
  {
   "cell_type": "code",
   "execution_count": 52,
   "metadata": {},
   "outputs": [
    {
     "name": "stdout",
     "output_type": "stream",
     "text": [
      "Parsing...\n"
     ]
    },
    {
     "ename": "ValueError",
     "evalue": "No records found in handle",
     "output_type": "error",
     "traceback": [
      "\u001b[1;31m---------------------------------------------------------------------------\u001b[0m",
      "\u001b[1;31mValueError\u001b[0m                                Traceback (most recent call last)",
      "\u001b[1;32m<ipython-input-52-757961ba99f9>\u001b[0m in \u001b[0;36m<module>\u001b[1;34m\u001b[0m\n\u001b[0;32m     16\u001b[0m \u001b[1;33m\u001b[0m\u001b[0m\n\u001b[0;32m     17\u001b[0m \u001b[0mprint\u001b[0m\u001b[1;33m(\u001b[0m\u001b[1;34m\"Parsing...\"\u001b[0m\u001b[1;33m)\u001b[0m\u001b[1;33m\u001b[0m\u001b[1;33m\u001b[0m\u001b[0m\n\u001b[1;32m---> 18\u001b[1;33m \u001b[0mrecord\u001b[0m \u001b[1;33m=\u001b[0m \u001b[0mSeqIO\u001b[0m\u001b[1;33m.\u001b[0m\u001b[0mread\u001b[0m\u001b[1;33m(\u001b[0m\u001b[0mfilename\u001b[0m\u001b[1;33m,\u001b[0m \u001b[1;34m\"genbank\"\u001b[0m\u001b[1;33m)\u001b[0m\u001b[1;33m\u001b[0m\u001b[1;33m\u001b[0m\u001b[0m\n\u001b[0m\u001b[0;32m     19\u001b[0m \u001b[0mprint\u001b[0m\u001b[1;33m(\u001b[0m\u001b[0mrecord\u001b[0m\u001b[1;33m)\u001b[0m\u001b[1;33m\u001b[0m\u001b[1;33m\u001b[0m\u001b[0m\n",
      "\u001b[1;32m~\\anaconda3\\lib\\site-packages\\Bio\\SeqIO\\__init__.py\u001b[0m in \u001b[0;36mread\u001b[1;34m(handle, format, alphabet)\u001b[0m\n\u001b[0;32m    706\u001b[0m         \u001b[0mrecord\u001b[0m \u001b[1;33m=\u001b[0m \u001b[0mnext\u001b[0m\u001b[1;33m(\u001b[0m\u001b[0miterator\u001b[0m\u001b[1;33m)\u001b[0m\u001b[1;33m\u001b[0m\u001b[1;33m\u001b[0m\u001b[0m\n\u001b[0;32m    707\u001b[0m     \u001b[1;32mexcept\u001b[0m \u001b[0mStopIteration\u001b[0m\u001b[1;33m:\u001b[0m\u001b[1;33m\u001b[0m\u001b[1;33m\u001b[0m\u001b[0m\n\u001b[1;32m--> 708\u001b[1;33m         \u001b[1;32mraise\u001b[0m \u001b[0mValueError\u001b[0m\u001b[1;33m(\u001b[0m\u001b[1;34m\"No records found in handle\"\u001b[0m\u001b[1;33m)\u001b[0m \u001b[1;32mfrom\u001b[0m \u001b[1;32mNone\u001b[0m\u001b[1;33m\u001b[0m\u001b[1;33m\u001b[0m\u001b[0m\n\u001b[0m\u001b[0;32m    709\u001b[0m     \u001b[1;32mtry\u001b[0m\u001b[1;33m:\u001b[0m\u001b[1;33m\u001b[0m\u001b[1;33m\u001b[0m\u001b[0m\n\u001b[0;32m    710\u001b[0m         \u001b[0mnext\u001b[0m\u001b[1;33m(\u001b[0m\u001b[0miterator\u001b[0m\u001b[1;33m)\u001b[0m\u001b[1;33m\u001b[0m\u001b[1;33m\u001b[0m\u001b[0m\n",
      "\u001b[1;31mValueError\u001b[0m: No records found in handle"
     ]
    }
   ],
   "source": [
    "#How to SAVE as well as access one Genebank file\n",
    "import os\n",
    "\n",
    "Entrez.email = \"ashrit.verma@duke.edu\"  # Always tell NCBI who you are\n",
    "filename = \"EU490707.gb\"\n",
    "if not os.path.isfile(filename):\n",
    "    # Downloading...\n",
    "    net_handle = Entrez.efetch(\n",
    "        db=\"nucleotide\", id=\"EU490707\", rettype=\"gb\", retmode=\"text\"\n",
    "    )\n",
    "    out_handle = open(filename, \"w\")\n",
    "    out_handle.write(net_handle.read())\n",
    "    out_handle.close()\n",
    "    net_handle.close()\n",
    "    print(\"Saved\")\n",
    "\n",
    "print(\"Parsing...\")\n",
    "record = SeqIO.read(filename, \"genbank\")\n",
    "print(record)"
   ]
  },
  {
   "cell_type": "code",
   "execution_count": null,
   "metadata": {},
   "outputs": [],
   "source": [
    "# can make rettype=\"fasta\" to get Fasta format"
   ]
  },
  {
   "cell_type": "code",
   "execution_count": null,
   "metadata": {},
   "outputs": [],
   "source": []
  },
  {
   "cell_type": "code",
   "execution_count": 53,
   "metadata": {},
   "outputs": [],
   "source": [
    "from Bio import SeqIO\n",
    "from Bio.Seq import Seq\n",
    "from Bio.SeqFeature import SeqFeature\n",
    "from Bio.SeqRecord import SeqRecord\n",
    "import numpy as np\n",
    "import pandas as pd"
   ]
  },
  {
   "cell_type": "code",
   "execution_count": 54,
   "metadata": {},
   "outputs": [
    {
     "ename": "AttributeError",
     "evalue": "'str' object has no attribute 'id'",
     "output_type": "error",
     "traceback": [
      "\u001b[1;31m---------------------------------------------------------------------------\u001b[0m",
      "\u001b[1;31mAttributeError\u001b[0m                            Traceback (most recent call last)",
      "\u001b[1;32m<ipython-input-54-a3e0957be03e>\u001b[0m in \u001b[0;36m<module>\u001b[1;34m\u001b[0m\n\u001b[0;32m      1\u001b[0m \u001b[0msavedir\u001b[0m \u001b[1;33m=\u001b[0m \u001b[1;34m\"C:/Users/cleve/OneDrive/Documents/Notes/Notebooks Linked Materials/Duke University/Bio 208 Computing on the Genome/Assignment Week 10/\"\u001b[0m \u001b[1;33m+\u001b[0m \u001b[0mi\u001b[0m \u001b[1;33m+\u001b[0m \u001b[1;34m\".fsa\"\u001b[0m\u001b[1;33m\u001b[0m\u001b[1;33m\u001b[0m\u001b[0m\n\u001b[1;32m----> 2\u001b[1;33m \u001b[0mSeqIO\u001b[0m\u001b[1;33m.\u001b[0m\u001b[0mwrite\u001b[0m\u001b[1;33m(\u001b[0m\u001b[1;34m\"ACACCC\"\u001b[0m\u001b[1;33m,\u001b[0m \u001b[0msavedir\u001b[0m\u001b[1;33m,\u001b[0m \u001b[1;34m\"fasta\"\u001b[0m\u001b[1;33m)\u001b[0m\u001b[1;33m\u001b[0m\u001b[1;33m\u001b[0m\u001b[0m\n\u001b[0m",
      "\u001b[1;32m~\\anaconda3\\lib\\site-packages\\Bio\\SeqIO\\__init__.py\u001b[0m in \u001b[0;36mwrite\u001b[1;34m(sequences, handle, format)\u001b[0m\n\u001b[0;32m    523\u001b[0m         \u001b[1;32mwith\u001b[0m \u001b[0mas_handle\u001b[0m\u001b[1;33m(\u001b[0m\u001b[0mhandle\u001b[0m\u001b[1;33m,\u001b[0m \u001b[1;34m\"w\"\u001b[0m\u001b[1;33m)\u001b[0m \u001b[1;32mas\u001b[0m \u001b[0mfp\u001b[0m\u001b[1;33m:\u001b[0m\u001b[1;33m\u001b[0m\u001b[1;33m\u001b[0m\u001b[0m\n\u001b[0;32m    524\u001b[0m             \u001b[1;32mfor\u001b[0m \u001b[0mrecord\u001b[0m \u001b[1;32min\u001b[0m \u001b[0msequences\u001b[0m\u001b[1;33m:\u001b[0m\u001b[1;33m\u001b[0m\u001b[1;33m\u001b[0m\u001b[0m\n\u001b[1;32m--> 525\u001b[1;33m                 \u001b[0mfp\u001b[0m\u001b[1;33m.\u001b[0m\u001b[0mwrite\u001b[0m\u001b[1;33m(\u001b[0m\u001b[0mformat_function\u001b[0m\u001b[1;33m(\u001b[0m\u001b[0mrecord\u001b[0m\u001b[1;33m)\u001b[0m\u001b[1;33m)\u001b[0m\u001b[1;33m\u001b[0m\u001b[1;33m\u001b[0m\u001b[0m\n\u001b[0m\u001b[0;32m    526\u001b[0m                 \u001b[0mcount\u001b[0m \u001b[1;33m+=\u001b[0m \u001b[1;36m1\u001b[0m\u001b[1;33m\u001b[0m\u001b[1;33m\u001b[0m\u001b[0m\n\u001b[0;32m    527\u001b[0m         \u001b[1;32mreturn\u001b[0m \u001b[0mcount\u001b[0m\u001b[1;33m\u001b[0m\u001b[1;33m\u001b[0m\u001b[0m\n",
      "\u001b[1;32m~\\anaconda3\\lib\\site-packages\\Bio\\SeqIO\\FastaIO.py\u001b[0m in \u001b[0;36mas_fasta\u001b[1;34m(record)\u001b[0m\n\u001b[0;32m    384\u001b[0m     \u001b[0mmethod\u001b[0m \u001b[1;32mand\u001b[0m \u001b[0mby\u001b[0m \u001b[0mthe\u001b[0m \u001b[0mSeqIO\u001b[0m\u001b[1;33m.\u001b[0m\u001b[0mwrite\u001b[0m\u001b[1;33m(\u001b[0m\u001b[1;33m...\u001b[0m\u001b[1;33m,\u001b[0m \u001b[1;33m...\u001b[0m\u001b[1;33m,\u001b[0m \u001b[1;34m\"fasta\"\u001b[0m\u001b[1;33m)\u001b[0m \u001b[0mfunction\u001b[0m\u001b[1;33m.\u001b[0m\u001b[1;33m\u001b[0m\u001b[1;33m\u001b[0m\u001b[0m\n\u001b[0;32m    385\u001b[0m     \"\"\"\n\u001b[1;32m--> 386\u001b[1;33m     \u001b[0mid\u001b[0m \u001b[1;33m=\u001b[0m \u001b[0m_clean\u001b[0m\u001b[1;33m(\u001b[0m\u001b[0mrecord\u001b[0m\u001b[1;33m.\u001b[0m\u001b[0mid\u001b[0m\u001b[1;33m)\u001b[0m\u001b[1;33m\u001b[0m\u001b[1;33m\u001b[0m\u001b[0m\n\u001b[0m\u001b[0;32m    387\u001b[0m     \u001b[0mdescription\u001b[0m \u001b[1;33m=\u001b[0m \u001b[0m_clean\u001b[0m\u001b[1;33m(\u001b[0m\u001b[0mrecord\u001b[0m\u001b[1;33m.\u001b[0m\u001b[0mdescription\u001b[0m\u001b[1;33m)\u001b[0m\u001b[1;33m\u001b[0m\u001b[1;33m\u001b[0m\u001b[0m\n\u001b[0;32m    388\u001b[0m     \u001b[1;32mif\u001b[0m \u001b[0mdescription\u001b[0m \u001b[1;32mand\u001b[0m \u001b[0mdescription\u001b[0m\u001b[1;33m.\u001b[0m\u001b[0msplit\u001b[0m\u001b[1;33m(\u001b[0m\u001b[1;32mNone\u001b[0m\u001b[1;33m,\u001b[0m \u001b[1;36m1\u001b[0m\u001b[1;33m)\u001b[0m\u001b[1;33m[\u001b[0m\u001b[1;36m0\u001b[0m\u001b[1;33m]\u001b[0m \u001b[1;33m==\u001b[0m \u001b[0mid\u001b[0m\u001b[1;33m:\u001b[0m\u001b[1;33m\u001b[0m\u001b[1;33m\u001b[0m\u001b[0m\n",
      "\u001b[1;31mAttributeError\u001b[0m: 'str' object has no attribute 'id'"
     ]
    }
   ],
   "source": [
    "savedir = \"C:/Users/cleve/OneDrive/Documents/Notes/Notebooks Linked Materials/Duke University/Bio 208 Computing on the Genome/Assignment Week 10/\" + i + \".fsa\"\n",
    "SeqIO.write(\"ACACCC\", savedir, \"fasta\")"
   ]
  },
  {
   "cell_type": "code",
   "execution_count": 55,
   "metadata": {},
   "outputs": [
    {
     "ename": "NameError",
     "evalue": "name 'list_final' is not defined",
     "output_type": "error",
     "traceback": [
      "\u001b[1;31m---------------------------------------------------------------------------\u001b[0m",
      "\u001b[1;31mNameError\u001b[0m                                 Traceback (most recent call last)",
      "\u001b[1;32m<ipython-input-55-d35bcb2f5778>\u001b[0m in \u001b[0;36m<module>\u001b[1;34m\u001b[0m\n\u001b[0;32m      1\u001b[0m \u001b[0mfilename\u001b[0m \u001b[1;33m=\u001b[0m \u001b[1;34m\"C:/Users/cleve/OneDrive/Documents/Notes/Notebooks Linked Materials/Duke University/Bio 208 Computing on the Genome/Assignment Week 10/\"\u001b[0m \u001b[1;33m+\u001b[0m \u001b[0mi\u001b[0m \u001b[1;33m+\u001b[0m \u001b[1;34m\".fsa\"\u001b[0m\u001b[1;33m\u001b[0m\u001b[1;33m\u001b[0m\u001b[0m\n\u001b[1;32m----> 2\u001b[1;33m \u001b[0mSeqIO\u001b[0m\u001b[1;33m.\u001b[0m\u001b[0mwrite\u001b[0m\u001b[1;33m(\u001b[0m\u001b[0mlist_final\u001b[0m\u001b[1;33m,\u001b[0m \u001b[0mfilename\u001b[0m\u001b[1;33m,\u001b[0m \u001b[1;34m\"fasta\"\u001b[0m\u001b[1;33m)\u001b[0m\u001b[1;33m\u001b[0m\u001b[1;33m\u001b[0m\u001b[0m\n\u001b[0m",
      "\u001b[1;31mNameError\u001b[0m: name 'list_final' is not defined"
     ]
    }
   ],
   "source": [
    "filename = \"C:/Users/cleve/OneDrive/Documents/Notes/Notebooks Linked Materials/Duke University/Bio 208 Computing on the Genome/Assignment Week 10/\" + i + \".fsa\"\n",
    "SeqIO.write(list_final, filename, \"fasta\")"
   ]
  },
  {
   "cell_type": "code",
   "execution_count": null,
   "metadata": {},
   "outputs": [],
   "source": []
  },
  {
   "cell_type": "code",
   "execution_count": 56,
   "metadata": {},
   "outputs": [
    {
     "data": {
      "text/plain": [
       "SeqRecord(seq=Seq('AGTCTAGGGAAAGTCATTCAGTGGATGTGATCTTGGCTCACAGGGGACGATGTC...CTC', IUPACAmbiguousDNA()), id='NM_001371415.1', name='NM_001371415', description='Homo sapiens angiotensin I converting enzyme 2 (ACE2), transcript variant 1, mRNA', dbxrefs=[])"
      ]
     },
     "execution_count": 56,
     "metadata": {},
     "output_type": "execute_result"
    }
   ],
   "source": [
    "record = SeqIO.read(\"NM_001371415.1.gb\", \"genbank\")\n",
    "record"
   ]
  },
  {
   "cell_type": "code",
   "execution_count": 57,
   "metadata": {
    "scrolled": true
   },
   "outputs": [
    {
     "data": {
      "text/plain": [
       "[SeqFeature(FeatureLocation(ExactPosition(0), ExactPosition(3339), strand=1), type='source'),\n",
       " SeqFeature(FeatureLocation(ExactPosition(0), ExactPosition(3339), strand=1), type='gene'),\n",
       " SeqFeature(FeatureLocation(ExactPosition(0), ExactPosition(235), strand=1), type='exon'),\n",
       " SeqFeature(FeatureLocation(ExactPosition(4), ExactPosition(7), strand=1), type='misc_feature'),\n",
       " SeqFeature(FeatureLocation(ExactPosition(49), ExactPosition(2467), strand=1), type='CDS'),\n",
       " SeqFeature(FeatureLocation(ExactPosition(49), ExactPosition(100), strand=1), type='sig_peptide'),\n",
       " SeqFeature(FeatureLocation(ExactPosition(100), ExactPosition(2464), strand=1), type='mat_peptide'),\n",
       " SeqFeature(FeatureLocation(ExactPosition(100), ExactPosition(2173), strand=1), type='mat_peptide'),\n",
       " SeqFeature(FeatureLocation(ExactPosition(136), ExactPosition(172), strand=1), type='misc_feature'),\n",
       " SeqFeature(FeatureLocation(ExactPosition(205), ExactPosition(208), strand=1), type='misc_feature'),\n",
       " SeqFeature(FeatureLocation(ExactPosition(292), ExactPosition(301), strand=1), type='misc_feature'),\n",
       " SeqFeature(FeatureLocation(ExactPosition(316), ExactPosition(319), strand=1), type='misc_feature'),\n",
       " SeqFeature(FeatureLocation(ExactPosition(355), ExactPosition(358), strand=1), type='misc_feature'),\n",
       " SeqFeature(FeatureLocation(ExactPosition(1012), ExactPosition(1015), strand=1), type='misc_feature'),\n",
       " SeqFeature(FeatureLocation(ExactPosition(1081), ExactPosition(1087), strand=1), type='misc_feature'),\n",
       " SeqFeature(FeatureLocation(ExactPosition(1105), ExactPosition(1120), strand=1), type='misc_feature'),\n",
       " SeqFeature(FeatureLocation(ExactPosition(1342), ExactPosition(1345), strand=1), type='misc_feature'),\n",
       " SeqFeature(FeatureLocation(ExactPosition(1684), ExactPosition(1687), strand=1), type='misc_feature'),\n",
       " SeqFeature(FeatureLocation(ExactPosition(2002), ExactPosition(2026), strand=1), type='misc_feature'),\n",
       " SeqFeature(FeatureLocation(ExactPosition(2116), ExactPosition(2119), strand=1), type='misc_feature'),\n",
       " SeqFeature(FeatureLocation(ExactPosition(2137), ExactPosition(2197), strand=1), type='misc_feature'),\n",
       " SeqFeature(FeatureLocation(ExactPosition(2269), ExactPosition(2332), strand=1), type='misc_feature'),\n",
       " SeqFeature(FeatureLocation(ExactPosition(235), ExactPosition(394), strand=1), type='exon'),\n",
       " SeqFeature(FeatureLocation(ExactPosition(394), ExactPosition(488), strand=1), type='exon'),\n",
       " SeqFeature(FeatureLocation(ExactPosition(488), ExactPosition(632), strand=1), type='exon'),\n",
       " SeqFeature(FeatureLocation(ExactPosition(632), ExactPosition(745), strand=1), type='exon'),\n",
       " SeqFeature(FeatureLocation(ExactPosition(745), ExactPosition(851), strand=1), type='exon'),\n",
       " SeqFeature(FeatureLocation(ExactPosition(851), ExactPosition(949), strand=1), type='exon'),\n",
       " SeqFeature(FeatureLocation(ExactPosition(949), ExactPosition(1119), strand=1), type='exon'),\n",
       " SeqFeature(FeatureLocation(ExactPosition(1119), ExactPosition(1346), strand=1), type='exon'),\n",
       " SeqFeature(FeatureLocation(ExactPosition(1346), ExactPosition(1491), strand=1), type='exon'),\n",
       " SeqFeature(FeatureLocation(ExactPosition(1491), ExactPosition(1590), strand=1), type='exon'),\n",
       " SeqFeature(FeatureLocation(ExactPosition(1590), ExactPosition(1713), strand=1), type='exon'),\n",
       " SeqFeature(FeatureLocation(ExactPosition(1713), ExactPosition(1886), strand=1), type='exon'),\n",
       " SeqFeature(FeatureLocation(ExactPosition(1886), ExactPosition(1945), strand=1), type='exon'),\n",
       " SeqFeature(FeatureLocation(ExactPosition(1945), ExactPosition(2046), strand=1), type='exon'),\n",
       " SeqFeature(FeatureLocation(ExactPosition(2046), ExactPosition(2163), strand=1), type='exon'),\n",
       " SeqFeature(FeatureLocation(ExactPosition(2163), ExactPosition(2358), strand=1), type='exon'),\n",
       " SeqFeature(FeatureLocation(ExactPosition(2358), ExactPosition(3339), strand=1), type='exon'),\n",
       " SeqFeature(FeatureLocation(ExactPosition(3315), ExactPosition(3321), strand=1), type='regulatory'),\n",
       " SeqFeature(FeatureLocation(ExactPosition(3338), ExactPosition(3339), strand=1), type='polyA_site')]"
      ]
     },
     "execution_count": 57,
     "metadata": {},
     "output_type": "execute_result"
    }
   ],
   "source": [
    "record.features"
   ]
  },
  {
   "cell_type": "code",
   "execution_count": 72,
   "metadata": {},
   "outputs": [
    {
     "data": {
      "text/plain": [
       "False"
      ]
     },
     "execution_count": 72,
     "metadata": {},
     "output_type": "execute_result"
    }
   ],
   "source": [
    "record.features == 'CDS'"
   ]
  },
  {
   "cell_type": "code",
   "execution_count": 58,
   "metadata": {
    "scrolled": false
   },
   "outputs": [
    {
     "data": {
      "text/plain": [
       "Seq('AGTCTAGGGAAAGTCATTCAGTGGATGTGATCTTGGCTCACAGGGGACGATGTC...CTC', IUPACAmbiguousDNA())"
      ]
     },
     "execution_count": 58,
     "metadata": {},
     "output_type": "execute_result"
    }
   ],
   "source": [
    "record.seq"
   ]
  },
  {
   "cell_type": "code",
   "execution_count": 59,
   "metadata": {},
   "outputs": [],
   "source": [
    "sequences = Seq(\"\")"
   ]
  },
  {
   "cell_type": "code",
   "execution_count": 60,
   "metadata": {
    "scrolled": true
   },
   "outputs": [
    {
     "data": {
      "text/plain": [
       "Seq('AGTCTAGGGAAAGTCATTCAGTGGATGTGATCTTGGCTCACAGGGGACGATGTC...CTC')"
      ]
     },
     "execution_count": 60,
     "metadata": {},
     "output_type": "execute_result"
    }
   ],
   "source": [
    "sequences += record.seq\n",
    "sequences"
   ]
  },
  {
   "cell_type": "code",
   "execution_count": 61,
   "metadata": {},
   "outputs": [
    {
     "data": {
      "text/plain": [
       "[SeqFeature(FeatureLocation(ExactPosition(49), ExactPosition(2467), strand=1), type='CDS')]"
      ]
     },
     "execution_count": 61,
     "metadata": {},
     "output_type": "execute_result"
    }
   ],
   "source": [
    "record_features_CDS = [ftr for ftr in record.features if ftr.type =='CDS']\n",
    "record_features_CDS"
   ]
  },
  {
   "cell_type": "code",
   "execution_count": null,
   "metadata": {},
   "outputs": [],
   "source": []
  },
  {
   "cell_type": "code",
   "execution_count": 115,
   "metadata": {
    "scrolled": true
   },
   "outputs": [
    {
     "ename": "AttributeError",
     "evalue": "'str' object has no attribute 'id'",
     "output_type": "error",
     "traceback": [
      "\u001b[1;31m---------------------------------------------------------------------------\u001b[0m",
      "\u001b[1;31mAttributeError\u001b[0m                            Traceback (most recent call last)",
      "\u001b[1;32m<ipython-input-115-ecf199890da0>\u001b[0m in \u001b[0;36m<module>\u001b[1;34m\u001b[0m\n\u001b[0;32m      1\u001b[0m \u001b[0msavedir\u001b[0m \u001b[1;33m=\u001b[0m \u001b[1;34m\"C:/Users/cleve/OneDrive/Documents/Notes/Notebooks Linked Materials/Duke University/Bio 208 Computing on the Genome/Assignment Week 10/allnucleotides\"\u001b[0m\u001b[1;33m\u001b[0m\u001b[1;33m\u001b[0m\u001b[0m\n\u001b[1;32m----> 2\u001b[1;33m \u001b[0mSeqIO\u001b[0m\u001b[1;33m.\u001b[0m\u001b[0mwrite\u001b[0m\u001b[1;33m(\u001b[0m\u001b[0msequences\u001b[0m\u001b[1;33m,\u001b[0m \u001b[0msavedir\u001b[0m\u001b[1;33m,\u001b[0m \u001b[1;34m\"fasta\"\u001b[0m\u001b[1;33m)\u001b[0m\u001b[1;33m\u001b[0m\u001b[1;33m\u001b[0m\u001b[0m\n\u001b[0m",
      "\u001b[1;32m~\\anaconda3\\lib\\site-packages\\Bio\\SeqIO\\__init__.py\u001b[0m in \u001b[0;36mwrite\u001b[1;34m(sequences, handle, format)\u001b[0m\n\u001b[0;32m    523\u001b[0m         \u001b[1;32mwith\u001b[0m \u001b[0mas_handle\u001b[0m\u001b[1;33m(\u001b[0m\u001b[0mhandle\u001b[0m\u001b[1;33m,\u001b[0m \u001b[1;34m\"w\"\u001b[0m\u001b[1;33m)\u001b[0m \u001b[1;32mas\u001b[0m \u001b[0mfp\u001b[0m\u001b[1;33m:\u001b[0m\u001b[1;33m\u001b[0m\u001b[1;33m\u001b[0m\u001b[0m\n\u001b[0;32m    524\u001b[0m             \u001b[1;32mfor\u001b[0m \u001b[0mrecord\u001b[0m \u001b[1;32min\u001b[0m \u001b[0msequences\u001b[0m\u001b[1;33m:\u001b[0m\u001b[1;33m\u001b[0m\u001b[1;33m\u001b[0m\u001b[0m\n\u001b[1;32m--> 525\u001b[1;33m                 \u001b[0mfp\u001b[0m\u001b[1;33m.\u001b[0m\u001b[0mwrite\u001b[0m\u001b[1;33m(\u001b[0m\u001b[0mformat_function\u001b[0m\u001b[1;33m(\u001b[0m\u001b[0mrecord\u001b[0m\u001b[1;33m)\u001b[0m\u001b[1;33m)\u001b[0m\u001b[1;33m\u001b[0m\u001b[1;33m\u001b[0m\u001b[0m\n\u001b[0m\u001b[0;32m    526\u001b[0m                 \u001b[0mcount\u001b[0m \u001b[1;33m+=\u001b[0m \u001b[1;36m1\u001b[0m\u001b[1;33m\u001b[0m\u001b[1;33m\u001b[0m\u001b[0m\n\u001b[0;32m    527\u001b[0m         \u001b[1;32mreturn\u001b[0m \u001b[0mcount\u001b[0m\u001b[1;33m\u001b[0m\u001b[1;33m\u001b[0m\u001b[0m\n",
      "\u001b[1;32m~\\anaconda3\\lib\\site-packages\\Bio\\SeqIO\\FastaIO.py\u001b[0m in \u001b[0;36mas_fasta\u001b[1;34m(record)\u001b[0m\n\u001b[0;32m    384\u001b[0m     \u001b[0mmethod\u001b[0m \u001b[1;32mand\u001b[0m \u001b[0mby\u001b[0m \u001b[0mthe\u001b[0m \u001b[0mSeqIO\u001b[0m\u001b[1;33m.\u001b[0m\u001b[0mwrite\u001b[0m\u001b[1;33m(\u001b[0m\u001b[1;33m...\u001b[0m\u001b[1;33m,\u001b[0m \u001b[1;33m...\u001b[0m\u001b[1;33m,\u001b[0m \u001b[1;34m\"fasta\"\u001b[0m\u001b[1;33m)\u001b[0m \u001b[0mfunction\u001b[0m\u001b[1;33m.\u001b[0m\u001b[1;33m\u001b[0m\u001b[1;33m\u001b[0m\u001b[0m\n\u001b[0;32m    385\u001b[0m     \"\"\"\n\u001b[1;32m--> 386\u001b[1;33m     \u001b[0mid\u001b[0m \u001b[1;33m=\u001b[0m \u001b[0m_clean\u001b[0m\u001b[1;33m(\u001b[0m\u001b[0mrecord\u001b[0m\u001b[1;33m.\u001b[0m\u001b[0mid\u001b[0m\u001b[1;33m)\u001b[0m\u001b[1;33m\u001b[0m\u001b[1;33m\u001b[0m\u001b[0m\n\u001b[0m\u001b[0;32m    387\u001b[0m     \u001b[0mdescription\u001b[0m \u001b[1;33m=\u001b[0m \u001b[0m_clean\u001b[0m\u001b[1;33m(\u001b[0m\u001b[0mrecord\u001b[0m\u001b[1;33m.\u001b[0m\u001b[0mdescription\u001b[0m\u001b[1;33m)\u001b[0m\u001b[1;33m\u001b[0m\u001b[1;33m\u001b[0m\u001b[0m\n\u001b[0;32m    388\u001b[0m     \u001b[1;32mif\u001b[0m \u001b[0mdescription\u001b[0m \u001b[1;32mand\u001b[0m \u001b[0mdescription\u001b[0m\u001b[1;33m.\u001b[0m\u001b[0msplit\u001b[0m\u001b[1;33m(\u001b[0m\u001b[1;32mNone\u001b[0m\u001b[1;33m,\u001b[0m \u001b[1;36m1\u001b[0m\u001b[1;33m)\u001b[0m\u001b[1;33m[\u001b[0m\u001b[1;36m0\u001b[0m\u001b[1;33m]\u001b[0m \u001b[1;33m==\u001b[0m \u001b[0mid\u001b[0m\u001b[1;33m:\u001b[0m\u001b[1;33m\u001b[0m\u001b[1;33m\u001b[0m\u001b[0m\n",
      "\u001b[1;31mAttributeError\u001b[0m: 'str' object has no attribute 'id'"
     ]
    }
   ],
   "source": [
    "savedir = \"C:/Users/cleve/OneDrive/Documents/Notes/Notebooks Linked Materials/Duke University/Bio 208 Computing on the Genome/Assignment Week 10/allnucleotides\"\n",
    "SeqIO.write(sequences, savedir, \"fasta\")\n"
   ]
  },
  {
   "cell_type": "code",
   "execution_count": 103,
   "metadata": {
    "scrolled": false
   },
   "outputs": [
    {
     "data": {
      "text/plain": [
       "1"
      ]
     },
     "execution_count": 103,
     "metadata": {},
     "output_type": "execute_result"
    }
   ],
   "source": [
    "SeqIO.convert(\"NM_001371415.1.gb\", \"genbank\", filename, \"fasta\")"
   ]
  },
  {
   "cell_type": "code",
   "execution_count": null,
   "metadata": {},
   "outputs": [],
   "source": []
  },
  {
   "cell_type": "code",
   "execution_count": 116,
   "metadata": {
    "scrolled": false
   },
   "outputs": [
    {
     "data": {
      "text/plain": [
       "<Bio.SeqIO.InsdcIO.GenBankIterator at 0x1ffc482c160>"
      ]
     },
     "execution_count": 116,
     "metadata": {},
     "output_type": "execute_result"
    }
   ],
   "source": [
    "input_seq_iterator = SeqIO.parse(\"NM_001371415.1.gb\", \"genbank\")\n",
    "input_seq_iterator"
   ]
  },
  {
   "cell_type": "code",
   "execution_count": 117,
   "metadata": {
    "scrolled": true
   },
   "outputs": [
    {
     "data": {
      "text/plain": [
       "[SeqFeature(FeatureLocation(ExactPosition(0), ExactPosition(3339), strand=1), type='source'),\n",
       " SeqFeature(FeatureLocation(ExactPosition(0), ExactPosition(3339), strand=1), type='gene'),\n",
       " SeqFeature(FeatureLocation(ExactPosition(0), ExactPosition(235), strand=1), type='exon'),\n",
       " SeqFeature(FeatureLocation(ExactPosition(4), ExactPosition(7), strand=1), type='misc_feature'),\n",
       " SeqFeature(FeatureLocation(ExactPosition(49), ExactPosition(2467), strand=1), type='CDS'),\n",
       " SeqFeature(FeatureLocation(ExactPosition(49), ExactPosition(100), strand=1), type='sig_peptide'),\n",
       " SeqFeature(FeatureLocation(ExactPosition(100), ExactPosition(2464), strand=1), type='mat_peptide'),\n",
       " SeqFeature(FeatureLocation(ExactPosition(100), ExactPosition(2173), strand=1), type='mat_peptide'),\n",
       " SeqFeature(FeatureLocation(ExactPosition(136), ExactPosition(172), strand=1), type='misc_feature'),\n",
       " SeqFeature(FeatureLocation(ExactPosition(205), ExactPosition(208), strand=1), type='misc_feature'),\n",
       " SeqFeature(FeatureLocation(ExactPosition(292), ExactPosition(301), strand=1), type='misc_feature'),\n",
       " SeqFeature(FeatureLocation(ExactPosition(316), ExactPosition(319), strand=1), type='misc_feature'),\n",
       " SeqFeature(FeatureLocation(ExactPosition(355), ExactPosition(358), strand=1), type='misc_feature'),\n",
       " SeqFeature(FeatureLocation(ExactPosition(1012), ExactPosition(1015), strand=1), type='misc_feature'),\n",
       " SeqFeature(FeatureLocation(ExactPosition(1081), ExactPosition(1087), strand=1), type='misc_feature'),\n",
       " SeqFeature(FeatureLocation(ExactPosition(1105), ExactPosition(1120), strand=1), type='misc_feature'),\n",
       " SeqFeature(FeatureLocation(ExactPosition(1342), ExactPosition(1345), strand=1), type='misc_feature'),\n",
       " SeqFeature(FeatureLocation(ExactPosition(1684), ExactPosition(1687), strand=1), type='misc_feature'),\n",
       " SeqFeature(FeatureLocation(ExactPosition(2002), ExactPosition(2026), strand=1), type='misc_feature'),\n",
       " SeqFeature(FeatureLocation(ExactPosition(2116), ExactPosition(2119), strand=1), type='misc_feature'),\n",
       " SeqFeature(FeatureLocation(ExactPosition(2137), ExactPosition(2197), strand=1), type='misc_feature'),\n",
       " SeqFeature(FeatureLocation(ExactPosition(2269), ExactPosition(2332), strand=1), type='misc_feature'),\n",
       " SeqFeature(FeatureLocation(ExactPosition(235), ExactPosition(394), strand=1), type='exon'),\n",
       " SeqFeature(FeatureLocation(ExactPosition(394), ExactPosition(488), strand=1), type='exon'),\n",
       " SeqFeature(FeatureLocation(ExactPosition(488), ExactPosition(632), strand=1), type='exon'),\n",
       " SeqFeature(FeatureLocation(ExactPosition(632), ExactPosition(745), strand=1), type='exon'),\n",
       " SeqFeature(FeatureLocation(ExactPosition(745), ExactPosition(851), strand=1), type='exon'),\n",
       " SeqFeature(FeatureLocation(ExactPosition(851), ExactPosition(949), strand=1), type='exon'),\n",
       " SeqFeature(FeatureLocation(ExactPosition(949), ExactPosition(1119), strand=1), type='exon'),\n",
       " SeqFeature(FeatureLocation(ExactPosition(1119), ExactPosition(1346), strand=1), type='exon'),\n",
       " SeqFeature(FeatureLocation(ExactPosition(1346), ExactPosition(1491), strand=1), type='exon'),\n",
       " SeqFeature(FeatureLocation(ExactPosition(1491), ExactPosition(1590), strand=1), type='exon'),\n",
       " SeqFeature(FeatureLocation(ExactPosition(1590), ExactPosition(1713), strand=1), type='exon'),\n",
       " SeqFeature(FeatureLocation(ExactPosition(1713), ExactPosition(1886), strand=1), type='exon'),\n",
       " SeqFeature(FeatureLocation(ExactPosition(1886), ExactPosition(1945), strand=1), type='exon'),\n",
       " SeqFeature(FeatureLocation(ExactPosition(1945), ExactPosition(2046), strand=1), type='exon'),\n",
       " SeqFeature(FeatureLocation(ExactPosition(2046), ExactPosition(2163), strand=1), type='exon'),\n",
       " SeqFeature(FeatureLocation(ExactPosition(2163), ExactPosition(2358), strand=1), type='exon'),\n",
       " SeqFeature(FeatureLocation(ExactPosition(2358), ExactPosition(3339), strand=1), type='exon'),\n",
       " SeqFeature(FeatureLocation(ExactPosition(3315), ExactPosition(3321), strand=1), type='regulatory'),\n",
       " SeqFeature(FeatureLocation(ExactPosition(3338), ExactPosition(3339), strand=1), type='polyA_site')]"
      ]
     },
     "execution_count": 117,
     "metadata": {},
     "output_type": "execute_result"
    }
   ],
   "source": [
    "record.features"
   ]
  },
  {
   "cell_type": "code",
   "execution_count": 119,
   "metadata": {
    "scrolled": true
   },
   "outputs": [
    {
     "data": {
      "text/plain": [
       "[SeqRecord(seq=Seq('AGTCTAGGGAAAGTCATTCAGTGGATGTGATCTTGGCTCACAGGGGACGATGTC...CTC', IUPACAmbiguousDNA()), id='NM_001371415.1', name='NM_001371415', description='Homo sapiens angiotensin I converting enzyme 2 (ACE2), transcript variant 1, mRNA', dbxrefs=[])]"
      ]
     },
     "execution_count": 119,
     "metadata": {},
     "output_type": "execute_result"
    }
   ],
   "source": [
    "array1 = list(input_seq_iterator)\n",
    "array1"
   ]
  },
  {
   "cell_type": "code",
   "execution_count": 143,
   "metadata": {
    "scrolled": true
   },
   "outputs": [
    {
     "data": {
      "text/plain": [
       "[SeqFeature(FeatureLocation(ExactPosition(0), ExactPosition(3339), strand=1), type='source'),\n",
       " SeqFeature(FeatureLocation(ExactPosition(0), ExactPosition(3339), strand=1), type='gene'),\n",
       " SeqFeature(FeatureLocation(ExactPosition(0), ExactPosition(235), strand=1), type='exon'),\n",
       " SeqFeature(FeatureLocation(ExactPosition(4), ExactPosition(7), strand=1), type='misc_feature'),\n",
       " SeqFeature(FeatureLocation(ExactPosition(49), ExactPosition(2467), strand=1), type='CDS'),\n",
       " SeqFeature(FeatureLocation(ExactPosition(49), ExactPosition(100), strand=1), type='sig_peptide'),\n",
       " SeqFeature(FeatureLocation(ExactPosition(100), ExactPosition(2464), strand=1), type='mat_peptide'),\n",
       " SeqFeature(FeatureLocation(ExactPosition(100), ExactPosition(2173), strand=1), type='mat_peptide'),\n",
       " SeqFeature(FeatureLocation(ExactPosition(136), ExactPosition(172), strand=1), type='misc_feature'),\n",
       " SeqFeature(FeatureLocation(ExactPosition(205), ExactPosition(208), strand=1), type='misc_feature'),\n",
       " SeqFeature(FeatureLocation(ExactPosition(292), ExactPosition(301), strand=1), type='misc_feature'),\n",
       " SeqFeature(FeatureLocation(ExactPosition(316), ExactPosition(319), strand=1), type='misc_feature'),\n",
       " SeqFeature(FeatureLocation(ExactPosition(355), ExactPosition(358), strand=1), type='misc_feature'),\n",
       " SeqFeature(FeatureLocation(ExactPosition(1012), ExactPosition(1015), strand=1), type='misc_feature'),\n",
       " SeqFeature(FeatureLocation(ExactPosition(1081), ExactPosition(1087), strand=1), type='misc_feature'),\n",
       " SeqFeature(FeatureLocation(ExactPosition(1105), ExactPosition(1120), strand=1), type='misc_feature'),\n",
       " SeqFeature(FeatureLocation(ExactPosition(1342), ExactPosition(1345), strand=1), type='misc_feature'),\n",
       " SeqFeature(FeatureLocation(ExactPosition(1684), ExactPosition(1687), strand=1), type='misc_feature'),\n",
       " SeqFeature(FeatureLocation(ExactPosition(2002), ExactPosition(2026), strand=1), type='misc_feature'),\n",
       " SeqFeature(FeatureLocation(ExactPosition(2116), ExactPosition(2119), strand=1), type='misc_feature'),\n",
       " SeqFeature(FeatureLocation(ExactPosition(2137), ExactPosition(2197), strand=1), type='misc_feature'),\n",
       " SeqFeature(FeatureLocation(ExactPosition(2269), ExactPosition(2332), strand=1), type='misc_feature'),\n",
       " SeqFeature(FeatureLocation(ExactPosition(235), ExactPosition(394), strand=1), type='exon'),\n",
       " SeqFeature(FeatureLocation(ExactPosition(394), ExactPosition(488), strand=1), type='exon'),\n",
       " SeqFeature(FeatureLocation(ExactPosition(488), ExactPosition(632), strand=1), type='exon'),\n",
       " SeqFeature(FeatureLocation(ExactPosition(632), ExactPosition(745), strand=1), type='exon'),\n",
       " SeqFeature(FeatureLocation(ExactPosition(745), ExactPosition(851), strand=1), type='exon'),\n",
       " SeqFeature(FeatureLocation(ExactPosition(851), ExactPosition(949), strand=1), type='exon'),\n",
       " SeqFeature(FeatureLocation(ExactPosition(949), ExactPosition(1119), strand=1), type='exon'),\n",
       " SeqFeature(FeatureLocation(ExactPosition(1119), ExactPosition(1346), strand=1), type='exon'),\n",
       " SeqFeature(FeatureLocation(ExactPosition(1346), ExactPosition(1491), strand=1), type='exon'),\n",
       " SeqFeature(FeatureLocation(ExactPosition(1491), ExactPosition(1590), strand=1), type='exon'),\n",
       " SeqFeature(FeatureLocation(ExactPosition(1590), ExactPosition(1713), strand=1), type='exon'),\n",
       " SeqFeature(FeatureLocation(ExactPosition(1713), ExactPosition(1886), strand=1), type='exon'),\n",
       " SeqFeature(FeatureLocation(ExactPosition(1886), ExactPosition(1945), strand=1), type='exon'),\n",
       " SeqFeature(FeatureLocation(ExactPosition(1945), ExactPosition(2046), strand=1), type='exon'),\n",
       " SeqFeature(FeatureLocation(ExactPosition(2046), ExactPosition(2163), strand=1), type='exon'),\n",
       " SeqFeature(FeatureLocation(ExactPosition(2163), ExactPosition(2358), strand=1), type='exon'),\n",
       " SeqFeature(FeatureLocation(ExactPosition(2358), ExactPosition(3339), strand=1), type='exon'),\n",
       " SeqFeature(FeatureLocation(ExactPosition(3315), ExactPosition(3321), strand=1), type='regulatory'),\n",
       " SeqFeature(FeatureLocation(ExactPosition(3338), ExactPosition(3339), strand=1), type='polyA_site')]"
      ]
     },
     "execution_count": 143,
     "metadata": {},
     "output_type": "execute_result"
    }
   ],
   "source": [
    "array1[0].features"
   ]
  },
  {
   "cell_type": "code",
   "execution_count": 144,
   "metadata": {},
   "outputs": [
    {
     "data": {
      "text/plain": [
       "[SeqFeature(FeatureLocation(ExactPosition(49), ExactPosition(2467), strand=1), type='CDS')]"
      ]
     },
     "execution_count": 144,
     "metadata": {},
     "output_type": "execute_result"
    }
   ],
   "source": [
    "listftr = [ftr for ftr in array1[0].features if ftr.type =='CDS']\n",
    "listftr"
   ]
  },
  {
   "cell_type": "code",
   "execution_count": 145,
   "metadata": {},
   "outputs": [
    {
     "data": {
      "text/plain": [
       "Seq('ATGTCAAGCTCTTCCTGGCTCCTTCTCAGCCTTGTTGCTGTAACTGCTGCTCAG...TAG', IUPACAmbiguousDNA())"
      ]
     },
     "execution_count": 145,
     "metadata": {},
     "output_type": "execute_result"
    }
   ],
   "source": [
    "f = listftr[0]\n",
    "x = f.extract(array1[0].seq)\n",
    "x"
   ]
  },
  {
   "cell_type": "code",
   "execution_count": 125,
   "metadata": {
    "scrolled": true
   },
   "outputs": [
    {
     "ename": "NameError",
     "evalue": "name 'value' is not defined",
     "output_type": "error",
     "traceback": [
      "\u001b[1;31m---------------------------------------------------------------------------\u001b[0m",
      "\u001b[1;31mNameError\u001b[0m                                 Traceback (most recent call last)",
      "\u001b[1;32m<ipython-input-125-7a9aaa8eb90c>\u001b[0m in \u001b[0;36m<module>\u001b[1;34m\u001b[0m\n\u001b[1;32m----> 1\u001b[1;33m \u001b[0msimple_seq\u001b[0m \u001b[1;33m=\u001b[0m \u001b[0mSeqRecord\u001b[0m\u001b[1;33m(\u001b[0m\u001b[0mx\u001b[0m\u001b[1;33m,\u001b[0m \u001b[0mid\u001b[0m \u001b[1;33m=\u001b[0m \u001b[0mvalue\u001b[0m\u001b[1;33m,\u001b[0m \u001b[0mname\u001b[0m \u001b[1;33m=\u001b[0m \u001b[0mkey\u001b[0m\u001b[1;33m)\u001b[0m\u001b[1;33m\u001b[0m\u001b[1;33m\u001b[0m\u001b[0m\n\u001b[0m",
      "\u001b[1;31mNameError\u001b[0m: name 'value' is not defined"
     ]
    }
   ],
   "source": [
    "simple_seq = SeqRecord(x, id = value, name = key)"
   ]
  },
  {
   "cell_type": "code",
   "execution_count": 111,
   "metadata": {
    "scrolled": true
   },
   "outputs": [
    {
     "ename": "SyntaxError",
     "evalue": "invalid syntax (<ipython-input-111-9c8c7ef91a9e>, line 1)",
     "output_type": "error",
     "traceback": [
      "\u001b[1;36m  File \u001b[1;32m\"<ipython-input-111-9c8c7ef91a9e>\"\u001b[1;36m, line \u001b[1;32m1\u001b[0m\n\u001b[1;33m    list [simple_seq] -> sequences\u001b[0m\n\u001b[1;37m                      ^\u001b[0m\n\u001b[1;31mSyntaxError\u001b[0m\u001b[1;31m:\u001b[0m invalid syntax\n"
     ]
    }
   ],
   "source": [
    "list [simple_seq] -> sequences"
   ]
  },
  {
   "cell_type": "code",
   "execution_count": null,
   "metadata": {},
   "outputs": [],
   "source": [
    "SeqIO"
   ]
  },
  {
   "cell_type": "code",
   "execution_count": null,
   "metadata": {},
   "outputs": [],
   "source": []
  },
  {
   "cell_type": "code",
   "execution_count": 142,
   "metadata": {},
   "outputs": [
    {
     "data": {
      "text/plain": [
       "SeqRecord(seq=Seq('ATGTCAAGCTCTTCCTGGCTCCTTCTCAGCCTTGTTGCTGTAACTGCTGCTCAG...TAG', IUPACAmbiguousDNA()), id='<unknown id>', name='<unknown name>', description='<unknown description>', dbxrefs=[])"
      ]
     },
     "execution_count": 142,
     "metadata": {},
     "output_type": "execute_result"
    }
   ],
   "source": [
    "simple_seq = SeqRecord(x)\n",
    "simple_seq"
   ]
  },
  {
   "cell_type": "code",
   "execution_count": null,
   "metadata": {},
   "outputs": [],
   "source": []
  },
  {
   "cell_type": "code",
   "execution_count": null,
   "metadata": {},
   "outputs": [],
   "source": []
  },
  {
   "cell_type": "code",
   "execution_count": 126,
   "metadata": {},
   "outputs": [],
   "source": [
    "def download_accessions(accessiondict):\n",
    "    #list of values\n",
    "    #access all values from Entrez\n",
    "    #make dictionary of values : file names as accession_number.gb\n",
    "    \n",
    "    fname = \"\"\n",
    "    listValueFiles = []\n",
    "    for i in accessiondict.values():\n",
    "        Entrez.email = \"ashrit.verma@duke.edu\"  # Always tell NCBI who you are\n",
    "        filename = i+'.gb'\n",
    "        listValueFiles.append(filename)\n",
    "        \n",
    "        if not os.path.isfile(filename):\n",
    "            # Downloading...\n",
    "            net_handle = Entrez.efetch(\n",
    "                db=\"nucleotide\", id=i, rettype=\"gb\", retmode=\"text\"\n",
    "            )\n",
    "            out_handle = open(filename, \"w\")\n",
    "            out_handle.write(net_handle.read())\n",
    "            out_handle.close()\n",
    "            net_handle.close()\n",
    "            print(\"Saved\")\n",
    "        print(\"Parsing...\")\n",
    "        record = SeqIO.read(filename, \"genbank\")\n",
    "        print(record)\n",
    "    \n",
    "    dictret = dict(zip(accessiondict.keys(),listValueFiles))\n",
    "    return dictret"
   ]
  },
  {
   "cell_type": "code",
   "execution_count": 127,
   "metadata": {
    "collapsed": true
   },
   "outputs": [
    {
     "name": "stdout",
     "output_type": "stream",
     "text": [
      "Parsing...\n",
      "ID: NM_001371415.1\n",
      "Name: NM_001371415\n",
      "Description: Homo sapiens angiotensin I converting enzyme 2 (ACE2), transcript variant 1, mRNA\n",
      "Number of features: 41\n",
      "/molecule_type=mRNA\n",
      "/topology=linear\n",
      "/data_file_division=PRI\n",
      "/date=04-OCT-2020\n",
      "/accessions=['NM_001371415']\n",
      "/sequence_version=1\n",
      "/keywords=['RefSeq', 'MANE Select']\n",
      "/source=Homo sapiens (human)\n",
      "/organism=Homo sapiens\n",
      "/taxonomy=['Eukaryota', 'Metazoa', 'Chordata', 'Craniata', 'Vertebrata', 'Euteleostomi', 'Mammalia', 'Eutheria', 'Euarchontoglires', 'Primates', 'Haplorrhini', 'Catarrhini', 'Hominidae', 'Homo']\n",
      "/references=[Reference(title='Angiotensin-converting enzymes (ACE, ACE2) gene variants and COVID-19 outcome', ...), Reference(title='Most frequent South Asian haplotypes of ACE2 share identity by descent with East Eurasian populations', ...), Reference(title='Analysis of ACE2 genetic variants in 131 Italian SARS-CoV-2-positive patients', ...), Reference(title='Mass Spectrometry and Structural Biology Techniques in the Studies on the Coronavirus-Receptor Interaction', ...), Reference(title='Cutaneous susceptibility to SARS-CoV-2 infection according to the expression of viral entry factors in the skin', ...), Reference(title='Angiotensin-converting enzyme 2 is an essential regulator of heart function', ...), Reference(title='Hydrolysis of biological peptides by human angiotensin-converting enzyme-related carboxypeptidase', ...), Reference(title='ACEH/ACE2 is a novel mammalian metallocarboxypeptidase and a homologue of angiotensin-converting enzyme insensitive to ACE inhibitors', ...), Reference(title='A human homolog of angiotensin-converting enzyme. Cloning and functional expression as a captopril-insensitive carboxypeptidase', ...), Reference(title='A novel angiotensin-converting enzyme-related carboxypeptidase (ACE2) converts angiotensin I to angiotensin 1-9', ...)]\n",
      "/comment=REVIEWED REFSEQ: This record has been curated by NCBI staff. The\n",
      "reference sequence was derived from AC097625.11.\n",
      "This sequence is a reference standard in the RefSeqGene project.\n",
      "Summary: The protein encoded by this gene belongs to the\n",
      "angiotensin-converting enzyme family of dipeptidyl\n",
      "carboxydipeptidases and has considerable homology to human\n",
      "angiotensin 1 converting enzyme. This secreted protein catalyzes\n",
      "the cleavage of angiotensin I into angiotensin 1-9, and angiotensin\n",
      "II into the vasodilator angiotensin 1-7. ACE2 is known to be\n",
      "expressed in various human organs, and its organ- and cell-specific\n",
      "expression suggests that it may play a role in the regulation of\n",
      "cardiovascular and renal function, as well as fertility. In\n",
      "addition, the encoded protein is a functional receptor for the\n",
      "spike glycoprotein of the human coronavirus HCoV-NL63 and the human\n",
      "severe acute respiratory syndrome coronaviruses, SARS-CoV and\n",
      "SARS-CoV-2, the causative agent of coronavirus disease-2019\n",
      "(COVID-19). [provided by RefSeq, Aug 2020].\n",
      "Transcript Variant: This variant (1) encodes the longest isoform\n",
      "(1). Variants 1 and 2 encode the same isoform.\n",
      "Sequence Note: The RefSeq transcript and protein were derived from\n",
      "genomic sequence to make the sequence consistent with the reference\n",
      "genome assembly. The genomic coordinates used for the transcript\n",
      "record were based on alignments.\n",
      "Publication Note:  This RefSeq record includes a subset of the\n",
      "publications that are available for this gene. Please see the Gene\n",
      "record to access additional publications.\n",
      "/structured_comment=OrderedDict([('Evidence-Data', OrderedDict([('Transcript exon combination', 'AB193260.1, AF241254.1 [ECO:0000332]')])), ('RefSeq-Attributes', OrderedDict([('coronavirus related', 'involved in SARS-CoV-2 infection'), ('MANE Ensembl match', 'ENST00000252519.8/ ENSP00000252519.3'), ('RefSeq Select criteria', 'based on manual assertion, conservation, expression, longest protein')]))])\n",
      "Seq('AGTCTAGGGAAAGTCATTCAGTGGATGTGATCTTGGCTCACAGGGGACGATGTC...CTC', IUPACAmbiguousDNA())\n",
      "{'Human': 'NM_001371415.1.gb'}\n"
     ]
    }
   ],
   "source": [
    "testdict = {\"Human\":\"NM_001371415.1\"}\n",
    "\n",
    "testfiledict = download_accessions(testdict)\n",
    "assert(testfiledict[\"Human\"] == \"NM_001371415.1.gb\")\n",
    "print(testfiledict)"
   ]
  },
  {
   "cell_type": "code",
   "execution_count": 147,
   "metadata": {},
   "outputs": [],
   "source": [
    "def genbank2fasta_nucleotide(accessionfiledict, fastaname):\n",
    "    sequences = []\n",
    "    for key,value in accessionfiledict.items():\n",
    "        input_seq_iterator = SeqIO.parse(value, \"genbank\")\n",
    "        array1 = list(input_seq_iterator)\n",
    "        listftr = [ftr for ftr in array1[0].features if ftr.type == 'CDS']\n",
    "        f = listftr[0]\n",
    "        x = f.extract(array1[0].seq)\n",
    "        simple_seq = SeqRecord(x, id=value, name=key)\n",
    "        sequences.append(simple_seq)\n",
    "        savedir = \"C:/Users/cleve/OneDrive/Documents/Notes/Notebooks Linked Materials/Duke University/Bio 208 Computing on the Genome/Assignment Week 10/\" + fastaname + \".fasta\"\n",
    "        SeqIO.write(sequences, savedir, 'fasta')\n",
    "    return (fastaname + \".fasta\")"
   ]
  },
  {
   "cell_type": "code",
   "execution_count": 150,
   "metadata": {},
   "outputs": [],
   "source": [
    "def genbank2fasta_nucleotide(accessionfiledict, fastaname):\n",
    "    sequences = []\n",
    "    for key,value in accessionfiledict.items():\n",
    "        #input_seq_iterator = SeqIO.parse(value, \"genbank\")\n",
    "        records = SeqIO.parse(value, \"genbank\")\n",
    "        \n",
    "        #array1 = list(input_seq_iterator)\n",
    "        #listftr = [ftr for ftr in array1[0].features if ftr.type == 'CDS']\n",
    "        listftr = [ftr for ftr in records.featuers if ftr.type == 'CDS']\n",
    "        \n",
    "        #f = listftr[0]\n",
    "        #x = f.extract(array1[0].seq)\n",
    "        #simple_seq = SeqRecord(x, id=value, name=key)\n",
    "        #sequences.append(simple_seq)\n",
    "        \n",
    "        for i in listftr:\n",
    "            f = i \n",
    "            # f = listftr[i]\n",
    "            x = f.extract(x.seq)\n",
    "            simple_seq = SeqRecord(x, id = value, name = key)\n",
    "            sequences.append(simple_seq)\n",
    "        \n",
    "        savedir = \"C:/Users/cleve/OneDrive/Documents/Notes/Notebooks Linked Materials/Duke University/Bio 208 Computing on the Genome/Assignment Week 10/\" + fastaname + \".fasta\"\n",
    "        SeqIO.write(sequences, savedir, 'fasta')\n",
    "    return (fastaname + \".fasta\")"
   ]
  },
  {
   "cell_type": "code",
   "execution_count": null,
   "metadata": {},
   "outputs": [],
   "source": [
    "def genbank2fasta_nucleotide(accessionfiledict, fastaname):\n",
    "    sequences = []\n",
    "    for key,value in accessionfiledict.items():\n",
    "        input_seq_iterator = SeqIO.parse(value, \"genbank\")\n",
    "        array1 = list(input_seq_iterator)\n",
    "        #for i in array1\n",
    "        listftr = [ftr for ftr in array1[0].features if ftr.type == 'CDS']\n",
    "        f = listftr[0]\n",
    "        x = f.extract(array1[0].seq)\n",
    "        simple_seq = SeqRecord(x, id=value, name=key)\n",
    "        sequences.append(simple_seq)\n",
    "        savedir = \"C:/Users/cleve/OneDrive/Documents/Notes/Notebooks Linked Materials/Duke University/Bio 208 Computing on the Genome/Assignment Week 10/\" + fastaname + \".fasta\"\n",
    "        SeqIO.write(sequences, savedir, 'fasta')\n",
    "    return (fastaname + \".fasta\")"
   ]
  },
  {
   "cell_type": "code",
   "execution_count": 152,
   "metadata": {},
   "outputs": [
    {
     "ename": "AttributeError",
     "evalue": "'GenBankIterator' object has no attribute 'featuers'",
     "output_type": "error",
     "traceback": [
      "\u001b[1;31m---------------------------------------------------------------------------\u001b[0m",
      "\u001b[1;31mAttributeError\u001b[0m                            Traceback (most recent call last)",
      "\u001b[1;32m<ipython-input-152-4426dfba8ab2>\u001b[0m in \u001b[0;36m<module>\u001b[1;34m\u001b[0m\n\u001b[1;32m----> 1\u001b[1;33m \u001b[0mgenbank2fasta_nucleotide\u001b[0m\u001b[1;33m(\u001b[0m\u001b[0mtestfiledict\u001b[0m\u001b[1;33m,\u001b[0m \u001b[1;34m'allnucleotidesequences'\u001b[0m\u001b[1;33m)\u001b[0m\u001b[1;33m\u001b[0m\u001b[1;33m\u001b[0m\u001b[0m\n\u001b[0m",
      "\u001b[1;32m<ipython-input-150-8a568e6b7b86>\u001b[0m in \u001b[0;36mgenbank2fasta_nucleotide\u001b[1;34m(accessionfiledict, fastaname)\u001b[0m\n\u001b[0;32m      7\u001b[0m         \u001b[1;31m#array1 = list(input_seq_iterator)\u001b[0m\u001b[1;33m\u001b[0m\u001b[1;33m\u001b[0m\u001b[1;33m\u001b[0m\u001b[0m\n\u001b[0;32m      8\u001b[0m         \u001b[1;31m#listftr = [ftr for ftr in array1[0].features if ftr.type == 'CDS']\u001b[0m\u001b[1;33m\u001b[0m\u001b[1;33m\u001b[0m\u001b[1;33m\u001b[0m\u001b[0m\n\u001b[1;32m----> 9\u001b[1;33m         \u001b[0mlistftr\u001b[0m \u001b[1;33m=\u001b[0m \u001b[1;33m[\u001b[0m\u001b[0mftr\u001b[0m \u001b[1;32mfor\u001b[0m \u001b[0mftr\u001b[0m \u001b[1;32min\u001b[0m \u001b[0mrecords\u001b[0m\u001b[1;33m.\u001b[0m\u001b[0mfeatuers\u001b[0m \u001b[1;32mif\u001b[0m \u001b[0mftr\u001b[0m\u001b[1;33m.\u001b[0m\u001b[0mtype\u001b[0m \u001b[1;33m==\u001b[0m \u001b[1;34m'CDS'\u001b[0m\u001b[1;33m]\u001b[0m\u001b[1;33m\u001b[0m\u001b[1;33m\u001b[0m\u001b[0m\n\u001b[0m\u001b[0;32m     10\u001b[0m \u001b[1;33m\u001b[0m\u001b[0m\n\u001b[0;32m     11\u001b[0m         \u001b[1;31m#f = listftr[0]\u001b[0m\u001b[1;33m\u001b[0m\u001b[1;33m\u001b[0m\u001b[1;33m\u001b[0m\u001b[0m\n",
      "\u001b[1;31mAttributeError\u001b[0m: 'GenBankIterator' object has no attribute 'featuers'"
     ]
    }
   ],
   "source": [
    "genbank2fasta_nucleotide(testfiledict, 'allnucleotidesequences')"
   ]
  },
  {
   "cell_type": "code",
   "execution_count": null,
   "metadata": {},
   "outputs": [],
   "source": []
  },
  {
   "cell_type": "code",
   "execution_count": 153,
   "metadata": {},
   "outputs": [
    {
     "data": {
      "text/plain": [
       "True"
      ]
     },
     "execution_count": 153,
     "metadata": {},
     "output_type": "execute_result"
    }
   ],
   "source": [
    "(\"spike\" in \"spike glycoprotein S\") or (\"S\" in \"\")"
   ]
  },
  {
   "cell_type": "code",
   "execution_count": 151,
   "metadata": {},
   "outputs": [],
   "source": [
    "def genbank2fasta_protein(accessionfiledict, fastaname):\n",
    "    sequences = []\n",
    "    for key,value in accessionfiledict.items():\n",
    "        input_seq_iterator = SeqIO.parse(value, \"genbank\")\n",
    "        array1 = list(input_seq_iterator)\n",
    "        listftr = [ftr for ftr in array1[0].features if ftr.type == 'CDS']\n",
    "        f = listftr[0]\n",
    "        x = f.extract(array1[0].seq)\n",
    "        simple_seq = SeqRecord(x, id=value, name=key)\n",
    "        translated_seq = simple_seq.translate()\n",
    "        sequences.append(translated_seq)\n",
    "    savedir = \"C:/Users/cleve/OneDrive/Documents/Notes/Notebooks Linked Materials/Duke University/Bio 208 Computing on the Genome/Assignment Week 10/\" + fastaname + \".fasta\"\n",
    "    SeqIO.write(sequences, savedir, 'fasta')\n",
    "    return (fastaname + \".fasta\")"
   ]
  },
  {
   "cell_type": "code",
   "execution_count": null,
   "metadata": {},
   "outputs": [],
   "source": []
  }
 ],
 "metadata": {
  "kernelspec": {
   "display_name": "Python 3",
   "language": "python",
   "name": "python3"
  },
  "language_info": {
   "codemirror_mode": {
    "name": "ipython",
    "version": 3
   },
   "file_extension": ".py",
   "mimetype": "text/x-python",
   "name": "python",
   "nbconvert_exporter": "python",
   "pygments_lexer": "ipython3",
   "version": "3.8.3"
  }
 },
 "nbformat": 4,
 "nbformat_minor": 4
}
