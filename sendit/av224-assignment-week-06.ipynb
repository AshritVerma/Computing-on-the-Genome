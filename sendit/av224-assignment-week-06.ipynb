{
 "cells": [
  {
   "cell_type": "markdown",
   "metadata": {},
   "source": [
    "# Simulating genetic mutations"
   ]
  },
  {
   "cell_type": "markdown",
   "metadata": {},
   "source": [
    "## Problem 01\n",
    "\n",
    "### Background\n",
    "The built-in library `random` (see [documentation](https://docs.python.org/3/library/random.html)) contains a variety of functions for tasks such as generating random numbers, generating random draws from lists, etc.\n"
   ]
  },
  {
   "cell_type": "code",
   "execution_count": 1,
   "metadata": {},
   "outputs": [],
   "source": [
    "import random"
   ]
  },
  {
   "cell_type": "markdown",
   "metadata": {},
   "source": [
    "One of the simplest functions in the `random` library is itself called `random` (i.e.  `random.random()`).  The `random` function returns a random floating point value in the range [0,1) (i.e. from 0 up to but not including 1). Every time we call the `random` function we get a different value in this range (all values are equally likely, thus we refer to the probabilities as being \"uniform\")."
   ]
  },
  {
   "cell_type": "code",
   "execution_count": 2,
   "metadata": {},
   "outputs": [
    {
     "data": {
      "text/plain": [
       "0.5408453651958652"
      ]
     },
     "execution_count": 2,
     "metadata": {},
     "output_type": "execute_result"
    }
   ],
   "source": [
    "random.random() # you get a different number everytime you call it"
   ]
  },
  {
   "cell_type": "code",
   "execution_count": 3,
   "metadata": {},
   "outputs": [
    {
     "data": {
      "text/plain": [
       "0.7577553667246536"
      ]
     },
     "execution_count": 3,
     "metadata": {},
     "output_type": "execute_result"
    }
   ],
   "source": [
    "random.random()"
   ]
  },
  {
   "cell_type": "markdown",
   "metadata": {},
   "source": [
    "Random number generators are useful for simulating stochastic events off all sorts.  For example, if we wanted to simulate flips of a fair coin we could write a function like so that uses `random.random`:"
   ]
  },
  {
   "cell_type": "code",
   "execution_count": 4,
   "metadata": {},
   "outputs": [],
   "source": [
    "def flip_coin():\n",
    "    if random.random() < 0.5:\n",
    "        return \"heads\"\n",
    "    else:\n",
    "        return \"tails\""
   ]
  },
  {
   "cell_type": "code",
   "execution_count": 5,
   "metadata": {},
   "outputs": [
    {
     "data": {
      "text/plain": [
       "'heads'"
      ]
     },
     "execution_count": 5,
     "metadata": {},
     "output_type": "execute_result"
    }
   ],
   "source": [
    "flip_coin()  # re-evaluate this cell multiple times"
   ]
  },
  {
   "cell_type": "markdown",
   "metadata": {},
   "source": [
    "To simulate multiple coin flips we could call this function in a for-loop or list comprehension:"
   ]
  },
  {
   "cell_type": "code",
   "execution_count": 6,
   "metadata": {},
   "outputs": [
    {
     "data": {
      "text/plain": [
       "['heads',\n",
       " 'tails',\n",
       " 'tails',\n",
       " 'heads',\n",
       " 'heads',\n",
       " 'tails',\n",
       " 'heads',\n",
       " 'heads',\n",
       " 'heads',\n",
       " 'heads']"
      ]
     },
     "execution_count": 6,
     "metadata": {},
     "output_type": "execute_result"
    }
   ],
   "source": [
    "[flip_coin() for i in range(10)] # simulate 10 coin flips"
   ]
  },
  {
   "cell_type": "markdown",
   "metadata": {},
   "source": [
    "For such a simple simulation you might skip writing the function and let True/False values indicate heads and tails:"
   ]
  },
  {
   "cell_type": "code",
   "execution_count": 7,
   "metadata": {},
   "outputs": [
    {
     "data": {
      "text/plain": [
       "[False, False, True, True, False, True, True, False, True, True]"
      ]
     },
     "execution_count": 7,
     "metadata": {},
     "output_type": "execute_result"
    }
   ],
   "source": [
    "[random.random() < 0.5 for i in range(10)]  # True = heads, False = tails"
   ]
  },
  {
   "cell_type": "markdown",
   "metadata": {},
   "source": [
    "If you wanted to keep track of **which** coin flips produced heads you might rewrite the list comprehension like so:"
   ]
  },
  {
   "cell_type": "code",
   "execution_count": 8,
   "metadata": {},
   "outputs": [
    {
     "data": {
      "text/plain": [
       "[1, 4, 6, 8]"
      ]
     },
     "execution_count": 8,
     "metadata": {},
     "output_type": "execute_result"
    }
   ],
   "source": [
    "[i for i in range(10) if random.random() < 0.5]  # track which coin flips yielded heads"
   ]
  },
  {
   "cell_type": "markdown",
   "metadata": {},
   "source": [
    "### QUESTION 1a (3 pts)\n",
    "\n",
    "How can we use `random.random` to simulate the **number of mutations**  occuring randomly across a single genome during a single round of replication?  For purposes of implementation, assume the genome size is 30,000 bp and the mutation rate is $10^{-6}$ (i.e. similar to the estimates for COVID-19)."
   ]
  },
  {
   "cell_type": "code",
   "execution_count": 9,
   "metadata": {},
   "outputs": [
    {
     "data": {
      "text/plain": [
       "[]"
      ]
     },
     "execution_count": 9,
     "metadata": {},
     "output_type": "execute_result"
    }
   ],
   "source": [
    "#[random.random() < 10e-6 for i in range(30000)]\n",
    "[i for i in range(30000) if random.random() < 1e-6]"
   ]
  },
  {
   "cell_type": "code",
   "execution_count": 10,
   "metadata": {},
   "outputs": [
    {
     "data": {
      "text/plain": [
       "1"
      ]
     },
     "execution_count": 10,
     "metadata": {},
     "output_type": "execute_result"
    }
   ],
   "source": [
    "len([i for i in range(30000) if random.random() < 1e-6])"
   ]
  },
  {
   "cell_type": "markdown",
   "metadata": {},
   "source": [
    "## Problem 02\n",
    "\n",
    "### Background\n",
    "\n",
    "The NumPy library also includes a sub-module called random (`numpy.random`) that includes a function called `random` (i.e. `numpy.random.random`).  The chief difference between `random.random` and `numpy.random.random` is we can specify a size argument to the numpy version, which allows us to generate arrays of random numbers rather than just a single random number."
   ]
  },
  {
   "cell_type": "code",
   "execution_count": 11,
   "metadata": {},
   "outputs": [],
   "source": [
    "import numpy as np"
   ]
  },
  {
   "cell_type": "code",
   "execution_count": 12,
   "metadata": {},
   "outputs": [
    {
     "data": {
      "text/plain": [
       "array([0.00434802, 0.74337388, 0.23404641, 0.2763279 , 0.92141335,\n",
       "       0.79694693, 0.70070177, 0.02973813, 0.49474956, 0.95255314])"
      ]
     },
     "execution_count": 12,
     "metadata": {},
     "output_type": "execute_result"
    }
   ],
   "source": [
    "np.random.random(size=10) # generate 10 random numbers in range [0,1)"
   ]
  },
  {
   "cell_type": "markdown",
   "metadata": {},
   "source": [
    "Similar to what we did above with list comprehensions, we can simulate multiple coin flips using `numpy.random.random` like so:"
   ]
  },
  {
   "cell_type": "code",
   "execution_count": 13,
   "metadata": {},
   "outputs": [
    {
     "data": {
      "text/plain": [
       "array([ True,  True,  True, False,  True, False, False, False,  True,\n",
       "        True])"
      ]
     },
     "execution_count": 13,
     "metadata": {},
     "output_type": "execute_result"
    }
   ],
   "source": [
    "np.random.random(size=10) < 0.5"
   ]
  },
  {
   "cell_type": "markdown",
   "metadata": {},
   "source": [
    "If we wanted to figure out which coin flips gave heads (i.e. True) we need to get the indices of the True values in such an array. To do so we can use the function `numpy.argwhere` ([docs](https://numpy.org/doc/stable/reference/generated/numpy.argwhere.html)) which returns the  indices of array elements that are non-zero  (in a Boolean array `True` is considered non-zero, `False` is zero)."
   ]
  },
  {
   "cell_type": "code",
   "execution_count": 14,
   "metadata": {},
   "outputs": [
    {
     "data": {
      "text/plain": [
       "array([[1],\n",
       "       [2],\n",
       "       [4],\n",
       "       [9]], dtype=int64)"
      ]
     },
     "execution_count": 14,
     "metadata": {},
     "output_type": "execute_result"
    }
   ],
   "source": [
    "heads_or_tails = np.random.random(size=10) < 0.5\n",
    "np.argwhere(heads_or_tails)"
   ]
  },
  {
   "cell_type": "markdown",
   "metadata": {},
   "source": [
    "`numpy.argwhere` groups the indices by element (this turns out to be convenient for multi-dimensional arrays which we'll see below), returning a \"column\" array as shown above. For our purposes it will be convenient to \"flatten\" the array into a single row like so:"
   ]
  },
  {
   "cell_type": "code",
   "execution_count": 15,
   "metadata": {},
   "outputs": [
    {
     "data": {
      "text/plain": [
       "array([1, 2, 4, 9], dtype=int64)"
      ]
     },
     "execution_count": 15,
     "metadata": {},
     "output_type": "execute_result"
    }
   ],
   "source": [
    "np.argwhere(heads_or_tails).flatten()  # these are the indices of the values \n",
    "                                       # that are True"
   ]
  },
  {
   "cell_type": "markdown",
   "metadata": {},
   "source": [
    "If we wanted to get the number of heads (i.e. True) values in the `heads_or_tails` array, we can do so using the `sum` method:"
   ]
  },
  {
   "cell_type": "code",
   "execution_count": 16,
   "metadata": {},
   "outputs": [
    {
     "data": {
      "text/plain": [
       "4"
      ]
     },
     "execution_count": 16,
     "metadata": {},
     "output_type": "execute_result"
    }
   ],
   "source": [
    "# When summing a boolean array, True = 1, False = 0\n",
    "heads_or_tails.sum() "
   ]
  },
  {
   "cell_type": "markdown",
   "metadata": {},
   "source": [
    "### Question 2a (3 pts)\n",
    "\n",
    "How can we use `numpy.random.random` to simulate the **number of mutations**  occuring randomly across a single genome during a single round of replication?  Again, assume the genome size is 30,000 bp and the mutation rate is $10^{-6}$ (i.e. similar to the estimates for COVID-19)."
   ]
  },
  {
   "cell_type": "code",
   "execution_count": 17,
   "metadata": {},
   "outputs": [
    {
     "name": "stdout",
     "output_type": "stream",
     "text": [
      "0\n"
     ]
    }
   ],
   "source": [
    "number_mutations = np.random.random(size=30000) < 1e-6\n",
    "#print(np.argwhere(number_mutations).flatten())\n",
    "print(number_mutations.sum())"
   ]
  },
  {
   "cell_type": "markdown",
   "metadata": {},
   "source": [
    "## Problem 03\n",
    "\n",
    "### Background\n",
    "\n",
    "The size argument to the `numpy.random.random` function can be multidimensonal. This is useful if we want to generate multiple vectors of random numbers simultaneously.  For example, if we wanted to simulate 5 people, each flipping a coin 10 times we could do so like this:"
   ]
  },
  {
   "cell_type": "code",
   "execution_count": 18,
   "metadata": {},
   "outputs": [
    {
     "data": {
      "text/plain": [
       "array([[False, False, False, False,  True, False,  True, False, False,\n",
       "         True],\n",
       "       [ True, False, False, False,  True, False, False, False,  True,\n",
       "        False],\n",
       "       [ True, False, False, False,  True,  True, False,  True,  True,\n",
       "        False],\n",
       "       [False, False,  True,  True,  True,  True,  True,  True, False,\n",
       "         True],\n",
       "       [ True, False, False,  True,  True,  True, False,  True, False,\n",
       "         True]])"
      ]
     },
     "execution_count": 18,
     "metadata": {},
     "output_type": "execute_result"
    }
   ],
   "source": [
    "multi_heads_or_tails = np.random.random(size=(5, 10)) < 0.5  # each row in this 2D array will be a \"person\"\n",
    "multi_heads_or_tails"
   ]
  },
  {
   "cell_type": "markdown",
   "metadata": {},
   "source": [
    "To get the outcome for a single person, we can index this array by rows:"
   ]
  },
  {
   "cell_type": "code",
   "execution_count": 19,
   "metadata": {},
   "outputs": [
    {
     "data": {
      "text/plain": [
       "array([False, False, False, False,  True, False,  True, False, False,\n",
       "        True])"
      ]
     },
     "execution_count": 19,
     "metadata": {},
     "output_type": "execute_result"
    }
   ],
   "source": [
    "multi_heads_or_tails[0]  # first person's coin flips"
   ]
  },
  {
   "cell_type": "markdown",
   "metadata": {},
   "source": [
    "If we wanted to get the list of flips that were heads for each person we could do something like this:"
   ]
  },
  {
   "cell_type": "code",
   "execution_count": 20,
   "metadata": {},
   "outputs": [
    {
     "data": {
      "text/plain": [
       "[array([4, 6, 9], dtype=int64),\n",
       " array([0, 4, 8], dtype=int64),\n",
       " array([0, 4, 5, 7, 8], dtype=int64),\n",
       " array([2, 3, 4, 5, 6, 7, 9], dtype=int64),\n",
       " array([0, 3, 4, 5, 7, 9], dtype=int64)]"
      ]
     },
     "execution_count": 20,
     "metadata": {},
     "output_type": "execute_result"
    }
   ],
   "source": [
    "head_flips = []\n",
    "for row in multi_heads_or_tails:\n",
    "    heads = np.argwhere(row).flatten()\n",
    "    head_flips.append(heads)\n",
    "    \n",
    "head_flips"
   ]
  },
  {
   "cell_type": "markdown",
   "metadata": {},
   "source": [
    "If instead of the indices where each person got heads, we wanted the number of heads each person got, we could again use the `sum` method, but since we're dealing with a multidimensional array we need to specify the dimension we want to sum across:"
   ]
  },
  {
   "cell_type": "code",
   "execution_count": 21,
   "metadata": {},
   "outputs": [
    {
     "data": {
      "text/plain": [
       "array([3, 3, 5, 7, 6])"
      ]
     },
     "execution_count": 21,
     "metadata": {},
     "output_type": "execute_result"
    }
   ],
   "source": [
    "multi_heads_or_tails.sum(axis=1)  # axis=1 means sum across columns (i.e. within rows)\n",
    "                                  # axis=0 would mean sum across rows (i.e. within columns)"
   ]
  },
  {
   "cell_type": "markdown",
   "metadata": {},
   "source": [
    "If instead of the number of heads per person, we wanted the number of heads total (across all people), we could use `sum` without an axis argument:"
   ]
  },
  {
   "cell_type": "code",
   "execution_count": 22,
   "metadata": {},
   "outputs": [
    {
     "data": {
      "text/plain": [
       "24"
      ]
     },
     "execution_count": 22,
     "metadata": {},
     "output_type": "execute_result"
    }
   ],
   "source": [
    "total_heads = multi_heads_or_tails.sum()  # sum across all elements of array\n",
    "total_heads"
   ]
  },
  {
   "cell_type": "markdown",
   "metadata": {},
   "source": [
    "### Question 3a (5 pts)\n",
    "\n",
    "How can we use the multi-dimensional form of `numpy.random.random` to simulate the **total number of mutations** that occur in 1000 replications of a 30,000 base pair genome with a mutation rate of $10^{-6}$?"
   ]
  },
  {
   "cell_type": "code",
   "execution_count": 23,
   "metadata": {
    "scrolled": true
   },
   "outputs": [
    {
     "data": {
      "text/plain": [
       "25"
      ]
     },
     "execution_count": 23,
     "metadata": {},
     "output_type": "execute_result"
    }
   ],
   "source": [
    "multi_mutations = np.random.random(size=(30000, 1000)) < 1e-6\n",
    "total = multi_mutations.sum()\n",
    "total"
   ]
  },
  {
   "cell_type": "markdown",
   "metadata": {},
   "source": [
    "### Question 3b (5 pts)\n",
    "\n",
    "Based on your answer to the previous question, write a function that simulates genome replications with a given mutation rate, and returns the total number of mutations observed.  I've provided a function signature to get you started:\n"
   ]
  },
  {
   "cell_type": "code",
   "execution_count": 24,
   "metadata": {},
   "outputs": [
    {
     "data": {
      "text/plain": [
       "35"
      ]
     },
     "execution_count": 24,
     "metadata": {},
     "output_type": "execute_result"
    }
   ],
   "source": [
    "def genome_mutations(genomesize, mutationrate, nreps):\n",
    "    mutations = np.random.random(size=(genomesize, nreps)) < mutationrate\n",
    "    total_mutations = mutations.sum()\n",
    "    return total_mutations\n",
    "genome_mutations(30000, 1e-6, 1000)"
   ]
  },
  {
   "cell_type": "code",
   "execution_count": 25,
   "metadata": {
    "scrolled": false
   },
   "outputs": [
    {
     "name": "stdout",
     "output_type": "stream",
     "text": [
      "1.07 s ± 207 ms per loop (mean ± std. dev. of 7 runs, 1 loop each)\n"
     ]
    }
   ],
   "source": [
    "%%timeit -n 1\n",
    "genome_mutations(30000, 1e-6, 1000)"
   ]
  },
  {
   "cell_type": "markdown",
   "metadata": {},
   "source": [
    "### Question 3c (5 pts)\n",
    "\n",
    "Run your `genome_mutations` function 500 times, keeping the result (i.e. total # of mutations) for each run.  Create a histogram of the total number of mutations observed across your 500 simulations."
   ]
  },
  {
   "cell_type": "code",
   "execution_count": 26,
   "metadata": {},
   "outputs": [],
   "source": [
    "from matplotlib import pyplot as plt"
   ]
  },
  {
   "cell_type": "code",
   "execution_count": 28,
   "metadata": {
    "collapsed": true
   },
   "outputs": [
    {
     "data": {
      "text/plain": [
       "[33,\n",
       " 24,\n",
       " 23,\n",
       " 40,\n",
       " 31,\n",
       " 33,\n",
       " 39,\n",
       " 25,\n",
       " 28,\n",
       " 22,\n",
       " 20,\n",
       " 30,\n",
       " 26,\n",
       " 26,\n",
       " 30,\n",
       " 28,\n",
       " 31,\n",
       " 37,\n",
       " 39,\n",
       " 32,\n",
       " 28,\n",
       " 34,\n",
       " 29,\n",
       " 29,\n",
       " 25,\n",
       " 22,\n",
       " 29,\n",
       " 34,\n",
       " 25,\n",
       " 35,\n",
       " 32,\n",
       " 25,\n",
       " 41,\n",
       " 25,\n",
       " 26,\n",
       " 25,\n",
       " 34,\n",
       " 34,\n",
       " 42,\n",
       " 26,\n",
       " 35,\n",
       " 35,\n",
       " 25,\n",
       " 33,\n",
       " 34,\n",
       " 44,\n",
       " 34,\n",
       " 32,\n",
       " 24,\n",
       " 29,\n",
       " 21,\n",
       " 27,\n",
       " 31,\n",
       " 25,\n",
       " 29,\n",
       " 21,\n",
       " 38,\n",
       " 22,\n",
       " 37,\n",
       " 31,\n",
       " 29,\n",
       " 39,\n",
       " 34,\n",
       " 31,\n",
       " 27,\n",
       " 37,\n",
       " 32,\n",
       " 24,\n",
       " 25,\n",
       " 33,\n",
       " 37,\n",
       " 43,\n",
       " 28,\n",
       " 25,\n",
       " 33,\n",
       " 34,\n",
       " 38,\n",
       " 44,\n",
       " 36,\n",
       " 35,\n",
       " 31,\n",
       " 25,\n",
       " 36,\n",
       " 29,\n",
       " 41,\n",
       " 29,\n",
       " 26,\n",
       " 32,\n",
       " 35,\n",
       " 43,\n",
       " 38,\n",
       " 26,\n",
       " 25,\n",
       " 36,\n",
       " 30,\n",
       " 27,\n",
       " 31,\n",
       " 24,\n",
       " 26,\n",
       " 26,\n",
       " 38,\n",
       " 28,\n",
       " 27,\n",
       " 22,\n",
       " 31,\n",
       " 35,\n",
       " 29,\n",
       " 23,\n",
       " 41,\n",
       " 25,\n",
       " 42,\n",
       " 35,\n",
       " 28,\n",
       " 31,\n",
       " 32,\n",
       " 23,\n",
       " 39,\n",
       " 37,\n",
       " 30,\n",
       " 33,\n",
       " 26,\n",
       " 37,\n",
       " 27,\n",
       " 41,\n",
       " 31,\n",
       " 39,\n",
       " 35,\n",
       " 36,\n",
       " 27,\n",
       " 27,\n",
       " 34,\n",
       " 34,\n",
       " 31,\n",
       " 29,\n",
       " 24,\n",
       " 36,\n",
       " 30,\n",
       " 31,\n",
       " 22,\n",
       " 26,\n",
       " 28,\n",
       " 28,\n",
       " 30,\n",
       " 27,\n",
       " 33,\n",
       " 30,\n",
       " 24,\n",
       " 35,\n",
       " 31,\n",
       " 28,\n",
       " 35,\n",
       " 28,\n",
       " 32,\n",
       " 23,\n",
       " 40,\n",
       " 32,\n",
       " 26,\n",
       " 27,\n",
       " 29,\n",
       " 28,\n",
       " 34,\n",
       " 35,\n",
       " 22,\n",
       " 32,\n",
       " 36,\n",
       " 19,\n",
       " 34,\n",
       " 23,\n",
       " 29,\n",
       " 35,\n",
       " 23,\n",
       " 28,\n",
       " 28,\n",
       " 27,\n",
       " 27,\n",
       " 23,\n",
       " 42,\n",
       " 29,\n",
       " 31,\n",
       " 34,\n",
       " 24,\n",
       " 24,\n",
       " 25,\n",
       " 30,\n",
       " 25,\n",
       " 27,\n",
       " 35,\n",
       " 22,\n",
       " 22,\n",
       " 33,\n",
       " 27,\n",
       " 42,\n",
       " 26,\n",
       " 29,\n",
       " 25,\n",
       " 30,\n",
       " 35,\n",
       " 36,\n",
       " 24,\n",
       " 42,\n",
       " 30,\n",
       " 39,\n",
       " 28,\n",
       " 25,\n",
       " 34,\n",
       " 33,\n",
       " 31,\n",
       " 33,\n",
       " 28,\n",
       " 17,\n",
       " 33,\n",
       " 36,\n",
       " 30,\n",
       " 27,\n",
       " 30,\n",
       " 30,\n",
       " 26,\n",
       " 33,\n",
       " 30,\n",
       " 43,\n",
       " 30,\n",
       " 26,\n",
       " 28,\n",
       " 25,\n",
       " 28,\n",
       " 24,\n",
       " 37,\n",
       " 31,\n",
       " 22,\n",
       " 29,\n",
       " 25,\n",
       " 39,\n",
       " 38,\n",
       " 36,\n",
       " 33,\n",
       " 29,\n",
       " 26,\n",
       " 34,\n",
       " 28,\n",
       " 30,\n",
       " 25,\n",
       " 29,\n",
       " 31,\n",
       " 35,\n",
       " 24,\n",
       " 25,\n",
       " 37,\n",
       " 34,\n",
       " 27,\n",
       " 26,\n",
       " 35,\n",
       " 26,\n",
       " 31,\n",
       " 31,\n",
       " 26,\n",
       " 49,\n",
       " 29,\n",
       " 24,\n",
       " 29,\n",
       " 31,\n",
       " 31,\n",
       " 39,\n",
       " 31,\n",
       " 34,\n",
       " 28,\n",
       " 30,\n",
       " 37,\n",
       " 39,\n",
       " 43,\n",
       " 26,\n",
       " 33,\n",
       " 25,\n",
       " 37,\n",
       " 28,\n",
       " 24,\n",
       " 33,\n",
       " 33,\n",
       " 34,\n",
       " 29,\n",
       " 28,\n",
       " 28,\n",
       " 36,\n",
       " 35,\n",
       " 32,\n",
       " 29,\n",
       " 20,\n",
       " 29,\n",
       " 31,\n",
       " 21,\n",
       " 18,\n",
       " 33,\n",
       " 33,\n",
       " 22,\n",
       " 24,\n",
       " 26,\n",
       " 30,\n",
       " 31,\n",
       " 21,\n",
       " 31,\n",
       " 32,\n",
       " 21,\n",
       " 26,\n",
       " 34,\n",
       " 26,\n",
       " 40,\n",
       " 29,\n",
       " 26,\n",
       " 31,\n",
       " 27,\n",
       " 29,\n",
       " 27,\n",
       " 28,\n",
       " 28,\n",
       " 29,\n",
       " 27,\n",
       " 22,\n",
       " 32,\n",
       " 37,\n",
       " 37,\n",
       " 31,\n",
       " 37,\n",
       " 32,\n",
       " 25,\n",
       " 17,\n",
       " 23,\n",
       " 30,\n",
       " 21,\n",
       " 30,\n",
       " 34,\n",
       " 35,\n",
       " 30,\n",
       " 24,\n",
       " 34,\n",
       " 29,\n",
       " 29,\n",
       " 34,\n",
       " 38,\n",
       " 39,\n",
       " 31,\n",
       " 28,\n",
       " 25,\n",
       " 25,\n",
       " 30,\n",
       " 26,\n",
       " 28,\n",
       " 21,\n",
       " 30,\n",
       " 27,\n",
       " 24,\n",
       " 16,\n",
       " 25,\n",
       " 30,\n",
       " 31,\n",
       " 34,\n",
       " 27,\n",
       " 32,\n",
       " 32,\n",
       " 34,\n",
       " 23,\n",
       " 32,\n",
       " 38,\n",
       " 28,\n",
       " 27,\n",
       " 32,\n",
       " 29,\n",
       " 37,\n",
       " 33,\n",
       " 36,\n",
       " 27,\n",
       " 36,\n",
       " 34,\n",
       " 23,\n",
       " 27,\n",
       " 30,\n",
       " 35,\n",
       " 22,\n",
       " 32,\n",
       " 25,\n",
       " 33,\n",
       " 36,\n",
       " 31,\n",
       " 27,\n",
       " 23,\n",
       " 31,\n",
       " 28,\n",
       " 38,\n",
       " 29,\n",
       " 20,\n",
       " 42,\n",
       " 30,\n",
       " 32,\n",
       " 27,\n",
       " 30,\n",
       " 41,\n",
       " 26,\n",
       " 20,\n",
       " 28,\n",
       " 32,\n",
       " 34,\n",
       " 33,\n",
       " 39,\n",
       " 21,\n",
       " 36,\n",
       " 31,\n",
       " 37,\n",
       " 21,\n",
       " 35,\n",
       " 25,\n",
       " 35,\n",
       " 39,\n",
       " 32,\n",
       " 26,\n",
       " 24,\n",
       " 33,\n",
       " 28,\n",
       " 33,\n",
       " 25,\n",
       " 33,\n",
       " 38,\n",
       " 35,\n",
       " 29,\n",
       " 33,\n",
       " 25,\n",
       " 24,\n",
       " 24,\n",
       " 27,\n",
       " 31,\n",
       " 30,\n",
       " 20,\n",
       " 27,\n",
       " 17,\n",
       " 30,\n",
       " 27,\n",
       " 21,\n",
       " 28,\n",
       " 24,\n",
       " 23,\n",
       " 25,\n",
       " 28,\n",
       " 25,\n",
       " 29,\n",
       " 38,\n",
       " 25,\n",
       " 27,\n",
       " 26,\n",
       " 30,\n",
       " 37,\n",
       " 27,\n",
       " 28,\n",
       " 37,\n",
       " 28,\n",
       " 35,\n",
       " 25,\n",
       " 36,\n",
       " 35,\n",
       " 35,\n",
       " 24,\n",
       " 47,\n",
       " 31,\n",
       " 43,\n",
       " 33,\n",
       " 31,\n",
       " 33,\n",
       " 29,\n",
       " 25,\n",
       " 32,\n",
       " 42,\n",
       " 28,\n",
       " 21,\n",
       " 30,\n",
       " 35,\n",
       " 31,\n",
       " 24,\n",
       " 37,\n",
       " 40,\n",
       " 32,\n",
       " 32,\n",
       " 36,\n",
       " 27,\n",
       " 31,\n",
       " 22,\n",
       " 33,\n",
       " 27,\n",
       " 33,\n",
       " 39,\n",
       " 23,\n",
       " 29,\n",
       " 28,\n",
       " 28,\n",
       " 32,\n",
       " 32,\n",
       " 39,\n",
       " 40,\n",
       " 36,\n",
       " 33,\n",
       " 34,\n",
       " 31,\n",
       " 31,\n",
       " 30,\n",
       " 31]"
      ]
     },
     "execution_count": 28,
     "metadata": {},
     "output_type": "execute_result"
    }
   ],
   "source": [
    "mutations = []\n",
    "mutations += [genome_mutations(30000, 1e-6, 1000) for i in range(500)]\n",
    "#mutations.sum()"
   ]
  },
  {
   "cell_type": "code",
   "execution_count": 29,
   "metadata": {},
   "outputs": [
    {
     "data": {
      "text/plain": [
       "(array([  6.,  29.,  70., 129.,  98.,  83.,  59.,  17.,   7.,   2.]),\n",
       " array([16. , 19.3, 22.6, 25.9, 29.2, 32.5, 35.8, 39.1, 42.4, 45.7, 49. ]),\n",
       " <a list of 10 Patch objects>)"
      ]
     },
     "execution_count": 29,
     "metadata": {},
     "output_type": "execute_result"
    },
    {
     "data": {
      "image/png": "[encoded data removed]",
      "text/plain": [
       "<Figure size 432x288 with 1 Axes>"
      ]
     },
     "metadata": {
      "needs_background": "light"
     },
     "output_type": "display_data"
    }
   ],
   "source": [
    "plt.hist(mutations)"
   ]
  },
  {
   "cell_type": "code",
   "execution_count": 35,
   "metadata": {},
   "outputs": [
    {
     "name": "stdout",
     "output_type": "stream",
     "text": [
      "Standard deviation: 5.4998341793185\n",
      "Mean: 30.268\n",
      "Variance: 30.248176\n"
     ]
    }
   ],
   "source": [
    "standard_deviation = np.std(mutations)\n",
    "print(\"Standard deviation:\", standard_deviation)\n",
    "mean = np.mean(mutations)\n",
    "print(\"Mean:\", mean)\n",
    "variance = np.var(mutations)\n",
    "print(\"Variance:\",variance)"
   ]
  },
  {
   "cell_type": "markdown",
   "metadata": {},
   "source": [
    "---\n",
    "\n",
    "Note: For purposes of the assignment you can deleted all the cells from here to the end\n",
    "\n",
    "## A more sophisticated simulation"
   ]
  },
  {
   "cell_type": "markdown",
   "metadata": {},
   "source": [
    "Simulating 1000 genome replications as we did above doesn't take into account one very important aspect of real biological populations that is important for thinking about genome evolution -- the genomes in an expanding population are related to each other by lineages.  \n",
    "\n",
    "Creating a simulation that tracks lineages requires more advanced techniques, so rather than asking you to solve this problem yourself I'll provide a simple implementation that accomplishes this. I've heavily annotated my implementation with explanatory comments.\n",
    "\n",
    "This simulation accounts for only growth.\n",
    "Must account for:\n",
    "- death rate\n",
    "- selection\n",
    "- carrying capacity"
   ]
  },
  {
   "cell_type": "code",
   "execution_count": null,
   "metadata": {},
   "outputs": [],
   "source": [
    "# We want to track the different genomic variants that arise over time\n",
    "# To do this compactly, we'll create objects to represent these genome variants.\n",
    "#\n",
    "# These objects will have 4 attributes:\n",
    "# 1. name -- an integer value\n",
    "# 2. parent -- which prior variant they arose from\n",
    "# 3. generation -- the generation of the simulation in which the variant arose\n",
    "# 4. mutated_sites -- the set of sites with mutations (relative to the founder invidivual)\n",
    "#\n",
    "# A very simple way to represent an object with attributes is using a \"Named Tuple\"\n",
    "# The function for creating named tuples is in the collections modules (one of the standard python modules).\n",
    "# The code below illustrates how to created a class for generating a named tuple called \"Variant\" with\n",
    "# the attributes we described above.\n",
    "\n",
    "\n",
    "from collections import namedtuple\n",
    "Variant = namedtuple(\"Variant\", [\"name\", \"parent\", \"generation\", \"mutated_sites\"])"
   ]
  },
  {
   "cell_type": "code",
   "execution_count": null,
   "metadata": {},
   "outputs": [],
   "source": [
    "# Now we setup the key data structures and parameters for our simulation\n",
    "\n",
    "ngens = 10             # number of replicative generations to simulate\n",
    "genomesize = 30000     # size of genome\n",
    "mutation_rate = 1e-6   # per nucleotide mutation rate\n",
    "\n",
    "# initially we have just one genome variant -- the \"founder\"\n",
    "founder = Variant(name=0, parent=None, generation=0, mutated_sites=[])\n",
    "\n",
    "# we're going to keep track of the different variants that arise using a dictionary\n",
    "# keyed by the variant names\n",
    "variants = {0:founder}\n",
    "\n",
    "# popn will track the actual genomes in the population, each entry is an integer\n",
    "# corresponding to the name of one of the genome variants.  Initially we have just\n",
    "# the founder genome\n",
    "popn = [0]\n",
    "\n",
    "for i in range(ngens):\n",
    "    # a temporary list to hold the new genomes that are generated in a single round of replication\n",
    "    daughters = []   \n",
    "    \n",
    "    # we'll refer to the genomes already in the population as \"mothers\" because each\n",
    "    # existing genome will give rise to one new (daughter) genome\n",
    "    for mother in popn: \n",
    "        \n",
    "        # generate True/False values for every site in the genome, where True indicates a mutation occured\n",
    "        daughter_genome = np.random.random(size=genomesize) < mutation_rate\n",
    "        \n",
    "        # get the indices of any sites where mutations occurred\n",
    "        daughter_mutations = np.argwhere(daughter_genome).flatten()\n",
    "        \n",
    "        # if no mutations, daughter same as mother so add clone of mother to popn\n",
    "        if len(daughter_mutations) == 0:  \n",
    "            daughters.append(mother)           \n",
    "        \n",
    "        # if at least one new mutation, create a new variant and add this novel daughter to popn\n",
    "        else:                             \n",
    "            name = len(variants)  # next unused name \n",
    "            parent_variant = variants[mother] # mother variant\n",
    "            \n",
    "            # mutations = mother mutations + new mutations\n",
    "            mutations = parent_variant.mutated_sites + daughter_mutations.tolist()\n",
    "            \n",
    "            # create the new variant\n",
    "            newvariant = Variant(name = name, parent = mother, generation = i, \n",
    "                                 mutated_sites = mutations)\n",
    "            \n",
    "            # stick the variant in our variant dict\n",
    "            variants[name] = newvariant\n",
    "            \n",
    "            # append the daughter to the daughters list\n",
    "            daughters.append(name)\n",
    "            \n",
    "    # having created all the new daughters, add them to the existing popn and repeat\n",
    "    popn = popn + daughters\n",
    "            \n",
    "            \n"
   ]
  },
  {
   "cell_type": "code",
   "execution_count": null,
   "metadata": {},
   "outputs": [],
   "source": [
    "variants # the unique genotypes in the popn"
   ]
  },
  {
   "cell_type": "markdown",
   "metadata": {},
   "source": [
    "After evaluating the code above, the `variants` dictionary and `popn` list   represent the different genotypes and the correposponding makeup of the popn after `ngen` number of generations."
   ]
  },
  {
   "cell_type": "code",
   "execution_count": null,
   "metadata": {},
   "outputs": [],
   "source": [
    "variants  # the genotypes (genome variants) in the popn"
   ]
  },
  {
   "cell_type": "markdown",
   "metadata": {},
   "source": [
    "We can enumerate the genotypes and get their counts in the population as follows:"
   ]
  },
  {
   "cell_type": "code",
   "execution_count": null,
   "metadata": {},
   "outputs": [],
   "source": [
    "np.unique(popn, return_counts=True)"
   ]
  },
  {
   "cell_type": "markdown",
   "metadata": {},
   "source": [
    "We can create a visuall representation of the lineages in our simulation by using a package called [networkx](https://networkx.github.io/), which is a Python library for working with graph or network structures (networkx is not installed by default so you'll need to install networkx using the Anaconda Navigator or via `conda` on the command line).\n",
    "\n",
    "Tree stucture are a special case of graphs (as used in graph theory).  Here we create a directed graph to represent the relationship among the lineages in our simulation:"
   ]
  },
  {
   "cell_type": "code",
   "execution_count": null,
   "metadata": {},
   "outputs": [],
   "source": [
    "import networkx as nx\n",
    "\n",
    "tree = nx.DiGraph()  \n",
    "for variant in variants.values():\n",
    "    tree.add_node(variant.name)  # each genotype is a node\n",
    "    if variant.parent is not None:\n",
    "        tree.add_edge(variant.parent, variant.name)  # create an edge pointing to each node from it's parent"
   ]
  },
  {
   "cell_type": "code",
   "execution_count": null,
   "metadata": {},
   "outputs": [],
   "source": [
    "# draw the tree, using a layout structure\n",
    "pos = nx.layout.kamada_kawai_layout(tree)\n",
    "nx.draw(tree, pos=pos, with_labels=True)\n",
    "#nx.draw_networkx()"
   ]
  },
  {
   "cell_type": "markdown",
   "metadata": {},
   "source": [
    "The following layout does a better job with tree like structures but requires another library (pygraphviz) and the installation of an external program called graphviz."
   ]
  },
  {
   "cell_type": "code",
   "execution_count": null,
   "metadata": {},
   "outputs": [],
   "source": [
    "# commented out because requires pygraphviz\n",
    "# draw the tree, using a layout structure that should produce visually appealing results\n",
    "# pos = nx.nx_agraph.pygraphviz_layout(tree, prog=\"twopi\", args=\"\")\n",
    "# nx.draw(tree, pos=pos, with_labels=True)"
   ]
  }
 ],
 "metadata": {
  "kernelspec": {
   "display_name": "Python 3",
   "language": "python",
   "name": "python3"
  },
  "language_info": {
   "codemirror_mode": {
    "name": "ipython",
    "version": 3
   },
   "file_extension": ".py",
   "mimetype": "text/x-python",
   "name": "python",
   "nbconvert_exporter": "python",
   "pygments_lexer": "ipython3",
   "version": "3.8.3"
  }
 },
 "nbformat": 4,
 "nbformat_minor": 4
}
