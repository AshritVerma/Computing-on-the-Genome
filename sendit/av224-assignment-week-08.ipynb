{
 "cells": [
  {
   "cell_type": "markdown",
   "metadata": {},
   "source": [
    "# Week 08 Assignment\n",
    "\n",
    "**Due date**: Tue, Oct 13 by 3:30pm (submit on Sakai)"
   ]
  },
  {
   "cell_type": "markdown",
   "metadata": {},
   "source": [
    "## Problem 1\n",
    "\n",
    "For the alignment problems below, using pencil and paper (or an ipad or other tablet) write down the alignment matrix, including associated costs of the prefix alignments, and the inferred optimal global alignments, using the Needleman-Wunsch algorithm for the following pairs of sequences.  \n",
    "\n",
    "Use the following cost function:\n",
    "\n",
    "$$\n",
    "w(a'_i,b'_i) = \\begin{cases}\n",
    "0 &\\text{if } a'_i = b'_i \\\\\n",
    "1 & \\text{otherwise} \n",
    "\\end{cases}\n",
    "$$\n",
    "\n",
    "Submit your results for this probem by scanning or taking a photo of your work (or saving the results as a PDF or PNG file if working on ipad/tablet) and uploading the image to Sakai."
   ]
  },
  {
   "cell_type": "markdown",
   "metadata": {},
   "source": [
    "### Problem 1a (4 pts)\n",
    "\n",
    "Align: `ACCGA` and `TCCTA`"
   ]
  },
  {
   "cell_type": "markdown",
   "metadata": {},
   "source": [
    "### Problem 1b (4 pts)\n",
    "\n",
    "Aign: `AATCG` and `AACGG`"
   ]
  },
  {
   "cell_type": "markdown",
   "metadata": {},
   "source": [
    "## Problem 2\n",
    "\n",
    "### Problem 2a (8 pts)\n",
    "\n",
    "Write a function, `needleman_wunsch`, that computes the alignment cost matrix.\n",
    "\n",
    "Your function should take as input two strings (representing the sequences to be algined) and two values representing the cost associated with mismatches and the cost associated with gaps. Your function should return a 2D numpy array representing the alignment cost matrix."
   ]
  },
  {
   "cell_type": "code",
   "execution_count": 3,
   "metadata": {},
   "outputs": [],
   "source": [
    "import pandas as pd\n",
    "import numpy as np"
   ]
  },
  {
   "cell_type": "code",
   "execution_count": 4,
   "metadata": {},
   "outputs": [],
   "source": [
    "def needleman_wunsch(a, b, mismatch_cost, gap_cost):\n",
    "    matrix = np.empty((0,len(b)+1), int)\n",
    "    row = np.arange(len(a)+1)\n",
    "    matrix = np.append(matrix, np.array([row]), axis=0)\n",
    "    start = 1\n",
    "    cost = 0\n",
    "    \n",
    "    lista = [char for char in a]\n",
    "    listb = [char for char in b]\n",
    "    \n",
    "    for q in range(len(b)):\n",
    "        row[0] = start\n",
    "        for p in range(len(a)):\n",
    "            x = row[p] + gap_cost\n",
    "            y = matrix[-1][p+1] + gap_cost\n",
    "            z= matrix[-1][p]\n",
    "            \n",
    "            if(listb[q] != lista[p]):\n",
    "                z += mismatch_cost\n",
    "            if(x <= y) and (x <= z):\n",
    "                cost = x\n",
    "            if(y <= x) and (y <= z):\n",
    "                cost = y\n",
    "            if(z <= x) and (z <= y):\n",
    "                cost = z\n",
    "                \n",
    "            row[p+1] = cost\n",
    "        start+=1\n",
    "        matrix = np.append(matrix, np.array([row]), axis=0)\n",
    "        \n",
    "        \n",
    "    return matrix"
   ]
  },
  {
   "cell_type": "markdown",
   "metadata": {},
   "source": [
    "### Problem 2b (4 pts)\n",
    "\n",
    "Test your `needleman_wunsch` implementation by calculating alignment cost matrices for the alignment in Problems 1a and 1b using the two different mismatch/gap costs below:\n",
    "\n",
    "* `mismatch_cost = 1`, `gap_cost = 1`\n",
    "* `mismatch_cost = 1`, `gap_cost = 2`\n",
    "\n",
    "For either of the alignment problems, do the best alignments change when the gap cost is higher?"
   ]
  },
  {
   "cell_type": "code",
   "execution_count": 5,
   "metadata": {},
   "outputs": [
    {
     "data": {
      "text/plain": [
       "array([[0, 1, 2, 3, 4, 5],\n",
       "       [1, 1, 2, 3, 4, 5],\n",
       "       [2, 2, 1, 2, 3, 4],\n",
       "       [3, 3, 2, 1, 2, 3],\n",
       "       [4, 4, 3, 2, 2, 3],\n",
       "       [5, 4, 4, 3, 3, 2]])"
      ]
     },
     "execution_count": 5,
     "metadata": {},
     "output_type": "execute_result"
    }
   ],
   "source": [
    "needleman_wunsch('ACCGA', 'TCCTA',1,1)"
   ]
  },
  {
   "cell_type": "code",
   "execution_count": 6,
   "metadata": {},
   "outputs": [
    {
     "data": {
      "text/plain": [
       "array([[0, 1, 2, 3, 4, 5],\n",
       "       [1, 1, 2, 3, 4, 5],\n",
       "       [2, 2, 1, 2, 4, 5],\n",
       "       [3, 3, 2, 1, 3, 5],\n",
       "       [4, 4, 4, 3, 2, 4],\n",
       "       [5, 4, 5, 5, 4, 2]])"
      ]
     },
     "execution_count": 6,
     "metadata": {},
     "output_type": "execute_result"
    }
   ],
   "source": [
    "needleman_wunsch('ACCGA', 'TCCTA',1,2)"
   ]
  },
  {
   "cell_type": "code",
   "execution_count": 7,
   "metadata": {},
   "outputs": [
    {
     "data": {
      "text/plain": [
       "array([[0, 1, 2, 3, 4, 5],\n",
       "       [1, 0, 1, 2, 3, 4],\n",
       "       [2, 1, 0, 1, 2, 3],\n",
       "       [3, 2, 1, 1, 1, 2],\n",
       "       [4, 3, 2, 2, 2, 1],\n",
       "       [5, 4, 3, 3, 3, 2]])"
      ]
     },
     "execution_count": 7,
     "metadata": {},
     "output_type": "execute_result"
    }
   ],
   "source": [
    "needleman_wunsch('AATCG', 'AACGG',1,1)"
   ]
  },
  {
   "cell_type": "code",
   "execution_count": 8,
   "metadata": {},
   "outputs": [
    {
     "data": {
      "text/plain": [
       "array([[0, 1, 2, 3, 4, 5],\n",
       "       [1, 0, 1, 3, 4, 5],\n",
       "       [2, 1, 0, 2, 4, 5],\n",
       "       [3, 3, 2, 1, 2, 4],\n",
       "       [4, 4, 4, 3, 2, 2],\n",
       "       [5, 5, 5, 5, 4, 2]])"
      ]
     },
     "execution_count": 8,
     "metadata": {},
     "output_type": "execute_result"
    }
   ],
   "source": [
    "needleman_wunsch('AATCG', 'AACGG',1,2)"
   ]
  },
  {
   "cell_type": "markdown",
   "metadata": {},
   "source": [
    "The best alignments don't change for 1a (ACCGA and TCCTA) because there is only one path \n",
    "    from the upper left corner to the lower right corner--the diagonal--i.e. there are no gaps.\n",
    "    \n",
    "The best alignments do change for 1b (AATCG and AACGG) because there are 3 unique paths from\n",
    "    the upper left corner to the lower right corner, meaning there are gaps and more than one \n",
    "    possibility when moving up each row."
   ]
  }
 ],
 "metadata": {
  "kernelspec": {
   "display_name": "Python 3",
   "language": "python",
   "name": "python3"
  },
  "language_info": {
   "codemirror_mode": {
    "name": "ipython",
    "version": 3
   },
   "file_extension": ".py",
   "mimetype": "text/x-python",
   "name": "python",
   "nbconvert_exporter": "python",
   "pygments_lexer": "ipython3",
   "version": "3.8.3"
  }
 },
 "nbformat": 4,
 "nbformat_minor": 4
}
