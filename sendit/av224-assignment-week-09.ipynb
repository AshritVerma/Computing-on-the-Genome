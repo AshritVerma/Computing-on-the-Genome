{
 "cells": [
  {
   "cell_type": "markdown",
   "metadata": {},
   "source": [
    "# Week 09 Assignment\n",
    "\n",
    "**Due date**: Tue, Oct 20 by 3:30pm (submit on Sakai)"
   ]
  },
  {
   "cell_type": "markdown",
   "metadata": {},
   "source": [
    "## Accessing subsitution matrices from Biopython\n",
    "\n",
    "The `Bio.Align.subtitution_matrices` module includes representations of commonly used sequence substitution matrices, such as the BLOSUM matrices (BLOSUM62, BLOSUM45, etc) and PAM matrices (PAM250 being the most commonly used).  \n",
    "\n",
    "To use these representations we need to import the `Bio.Align.subtitution_matrices` and then load the respective substitution matrix (the full of the available subsitution matrices can be viewed here: https://github.com/biopython/biopython/tree/master/Bio/Align/substitution_matrices/data)."
   ]
  },
  {
   "cell_type": "code",
   "execution_count": 199,
   "metadata": {},
   "outputs": [],
   "source": [
    "from Bio.Align import substitution_matrices"
   ]
  },
  {
   "cell_type": "code",
   "execution_count": 200,
   "metadata": {},
   "outputs": [],
   "source": [
    "import numpy as np"
   ]
  },
  {
   "cell_type": "code",
   "execution_count": 201,
   "metadata": {},
   "outputs": [],
   "source": [
    "BLOSUM62 = substitution_matrices.load(\"BLOSUM62\")"
   ]
  },
  {
   "cell_type": "code",
   "execution_count": 202,
   "metadata": {},
   "outputs": [
    {
     "data": {
      "text/plain": [
       "-3.0"
      ]
     },
     "execution_count": 202,
     "metadata": {},
     "output_type": "execute_result"
    }
   ],
   "source": [
    "BLOSUM62[\"E\", \"L\"]"
   ]
  },
  {
   "cell_type": "code",
   "execution_count": 203,
   "metadata": {},
   "outputs": [
    {
     "data": {
      "text/plain": [
       "5.0"
      ]
     },
     "execution_count": 203,
     "metadata": {},
     "output_type": "execute_result"
    }
   ],
   "source": [
    "BLOSUM62[\"E\", \"E\"]"
   ]
  },
  {
   "cell_type": "code",
   "execution_count": 204,
   "metadata": {},
   "outputs": [],
   "source": [
    "PAM250 = substitution_matrices.load(\"PAM250\")"
   ]
  },
  {
   "cell_type": "code",
   "execution_count": 205,
   "metadata": {},
   "outputs": [
    {
     "data": {
      "text/plain": [
       "4.0"
      ]
     },
     "execution_count": 205,
     "metadata": {},
     "output_type": "execute_result"
    }
   ],
   "source": [
    "PAM250[\"E\",\"E\"]"
   ]
  },
  {
   "cell_type": "code",
   "execution_count": 206,
   "metadata": {},
   "outputs": [
    {
     "data": {
      "text/plain": [
       "-3.0"
      ]
     },
     "execution_count": 206,
     "metadata": {},
     "output_type": "execute_result"
    }
   ],
   "source": [
    "PAM250[\"E\",\"L\"]"
   ]
  },
  {
   "cell_type": "markdown",
   "metadata": {},
   "source": [
    "BLOSUM and PAM matrices are for protein sequences, for nucleotide sequences you can use the matrix designated \"NUC.4.4\" (all substitutions have equal scores)."
   ]
  },
  {
   "cell_type": "code",
   "execution_count": 207,
   "metadata": {},
   "outputs": [],
   "source": [
    "NUC4 = substitution_matrices.load(\"NUC.4.4\")"
   ]
  },
  {
   "cell_type": "code",
   "execution_count": 208,
   "metadata": {},
   "outputs": [
    {
     "data": {
      "text/plain": [
       "-4.0"
      ]
     },
     "execution_count": 208,
     "metadata": {},
     "output_type": "execute_result"
    }
   ],
   "source": [
    "NUC4[\"A\",\"T\"]"
   ]
  },
  {
   "cell_type": "code",
   "execution_count": 209,
   "metadata": {},
   "outputs": [
    {
     "data": {
      "text/plain": [
       "5.0"
      ]
     },
     "execution_count": 209,
     "metadata": {},
     "output_type": "execute_result"
    }
   ],
   "source": [
    "NUC4[\"A\", \"A\"]"
   ]
  },
  {
   "cell_type": "markdown",
   "metadata": {},
   "source": [
    "## Problem 1 (10 pts)\n",
    "\n",
    "Write a function, `smith_waterman_matrix` that calculates the scoring matrix for the Smith-Waterman local alignment algorithm.  Your function should take four arguments, as described in the doc string below."
   ]
  },
  {
   "cell_type": "code",
   "execution_count": 217,
   "metadata": {},
   "outputs": [],
   "source": [
    "def smith_waterman_matrix(a, b, submatrix, gap_penalty):\n",
    "    submatrixload = substitution_matrices.load(submatrix)\n",
    "    matrix = np.empty((0,len(a)+1), int)\n",
    "    row = np.zeros(len(a)+1)\n",
    "    matrix = np.append(matrix, np.array([row]), axis=0)\n",
    "    start = 0\n",
    "    \n",
    "    lista = [char for char in a]\n",
    "    listb = [char for char in b]\n",
    "    \n",
    "    for q in range(len(b)):\n",
    "        row[0] = start\n",
    "        for p in range(len(a)):\n",
    "            cell = 0\n",
    "            x = row[p] + gap_penalty\n",
    "            y = matrix[-1][p+1] + gap_penalty\n",
    "            z= matrix[-1][p]\n",
    "            z += submatrixload[listb[q], lista[p]]\n",
    "            \n",
    "            if(x >= y) and (x >= z) and (x >= 0):\n",
    "                cell = x\n",
    "            if(y >= x) and (y >= z) and (y >= 0):\n",
    "                cell = y\n",
    "            if(z >= x) and (z >= y) and (z >= 0):\n",
    "                cell = z\n",
    "                \n",
    "            row[p+1] = cell\n",
    "        matrix = np.append(matrix, np.array([row]), axis=0)\n",
    "    return matrix"
   ]
  },
  {
   "cell_type": "markdown",
   "metadata": {},
   "source": [
    "Test your function by calculating the scoring matrix for the following alignment problem:\n",
    "\n",
    "* Align `VEPPLSQE` and `ELPLC` using the BLOSUM62 substitution matrix and a gap penality of -3\n",
    "\n"
   ]
  },
  {
   "cell_type": "code",
   "execution_count": 218,
   "metadata": {
    "scrolled": true
   },
   "outputs": [
    {
     "name": "stdout",
     "output_type": "stream",
     "text": [
      "[[ 0.  0.  0.  0.  0.  0.  0.  0.  0.]\n",
      " [ 0.  0.  5.  2.  0.  0.  0.  2.  5.]\n",
      " [ 0.  1.  2.  2.  0.  4.  1.  0.  2.]\n",
      " [ 0.  0.  0.  9.  9.  6.  3.  0.  0.]\n",
      " [ 0.  1.  0.  6.  6. 13. 10.  7.  4.]\n",
      " [ 0.  0.  0.  3.  3. 10. 12.  9.  6.]]\n"
     ]
    }
   ],
   "source": [
    "print(smith_waterman_matrix(\"VEPPLSQE\",\"ELPLC\",\"BLOSUM62\",-3))"
   ]
  },
  {
   "cell_type": "markdown",
   "metadata": {},
   "source": [
    "## Problem 2 (5 pts)\n",
    "\n",
    "Using your `smith_waterman_matrix` function above, or working by hand if you were unable to successfuly implement the function, calculate the scoring matrix for the following local alignment problem:\n",
    "\n",
    "* Align `PAWHEAE` and `HEAGAWGHEE` using the BLOSUM45 substitution matrix and a gap penalty of -8\n",
    "\n",
    "* What is the best local alignment of these two sequences?"
   ]
  },
  {
   "cell_type": "code",
   "execution_count": 219,
   "metadata": {
    "scrolled": true
   },
   "outputs": [
    {
     "name": "stdout",
     "output_type": "stream",
     "text": [
      "[[ 0.  0.  0.  0.  0.  0.  0.  0.]\n",
      " [ 0.  0.  0.  0. 10.  2.  0.  0.]\n",
      " [ 0.  0.  0.  0.  2. 16.  8.  6.]\n",
      " [ 0.  0.  5.  0.  0.  8. 21. 13.]\n",
      " [ 0.  0.  0.  3.  0.  0. 13. 19.]\n",
      " [ 0.  0.  5.  0.  1.  0.  5. 12.]\n",
      " [ 0.  0.  0. 20. 12.  4.  0.  4.]\n",
      " [ 0.  0.  0. 12. 18. 10.  4.  0.]\n",
      " [ 0.  0.  0.  4. 22. 18. 10.  4.]\n",
      " [ 0.  0.  0.  0. 14. 28. 20. 16.]\n",
      " [ 0.  0.  0.  0.  6. 20. 27. 26.]]\n"
     ]
    }
   ],
   "source": [
    "output = smith_waterman_matrix(\"PAWHEAE\", \"HEAGAWGHEE\",\"BLOSUM45\",-8)\n",
    "print(output)"
   ]
  },
  {
   "cell_type": "markdown",
   "metadata": {},
   "source": [
    "The best local alignment of \"PAWHEAE\" and \"HEAGAWGHEE\" is:\n",
    "    AW-HE\n",
    "    AWGHE"
   ]
  }
 ],
 "metadata": {
  "kernelspec": {
   "display_name": "Python 3",
   "language": "python",
   "name": "python3"
  },
  "language_info": {
   "codemirror_mode": {
    "name": "ipython",
    "version": 3
   },
   "file_extension": ".py",
   "mimetype": "text/x-python",
   "name": "python",
   "nbconvert_exporter": "python",
   "pygments_lexer": "ipython3",
   "version": "3.8.3"
  }
 },
 "nbformat": 4,
 "nbformat_minor": 4
}
