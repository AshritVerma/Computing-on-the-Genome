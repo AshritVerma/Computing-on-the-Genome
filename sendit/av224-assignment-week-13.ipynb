{
 "cells": [
  {
   "cell_type": "markdown",
   "metadata": {},
   "source": [
    "## Assignment 13\n",
    "\n",
    "* Due date: 17 Nov 2020 by 3:30pm"
   ]
  },
  {
   "cell_type": "markdown",
   "metadata": {},
   "source": [
    "## Problem 01\n",
    "\n",
    "Orlando et al. 2008 consider a number of alternate Boolean updating functions for their cell-cycle TF network model.\n",
    "\n",
    "\n",
    "1. One of the models that Orlando et al considered was to change the SFF function from AND to OR logic (all other functions were kept the same) [2 pts]\n",
    "\n",
    "  * $SFF = SBF \\lor HCM1$\n",
    "  \n",
    "Re-implement the Orlando et al. model using the change specified above.\n",
    "\n",
    "NOTE: To save time you can copy the functions you defined in class, as well as those provided to you (e.g. `plot_simulation`, `cell_cycle`, etc)\n",
    "\n",
    "\n",
    "2. With these newly defined function, given the following initial conditions,  do you observe oscillatory behavior? If so, is the oscillatory behavior the same as that observed when the SFF function used AND logic?  [3 pts]\n",
    "\n",
    "```\n",
    "MBF = [1]\n",
    "SBF = [1]\n",
    "YOX1 = [0]\n",
    "HCM1 = [0]\n",
    "YHP1 = [0]\n",
    "SFF = [0]\n",
    "ACE2 = [0]\n",
    "SWI5 = [0]\n",
    "CLN3 = [0]\n",
    "```\n",
    "\n",
    "3.  Given the OR version of the SFF function, what fraction of initial conditions produce oscillatory dynamics? [5 pts]\n",
    "\n"
   ]
  },
  {
   "cell_type": "code",
   "execution_count": 1,
   "metadata": {},
   "outputs": [],
   "source": [
    "import random\n",
    "import numpy as np\n",
    "import pandas as pd\n",
    "from matplotlib import pyplot as plt"
   ]
  },
  {
   "cell_type": "code",
   "execution_count": 2,
   "metadata": {},
   "outputs": [],
   "source": [
    "## Based on the table above, define the functions in this code block\n",
    "\n",
    "def fMBF(cln3):\n",
    "    return cln3\n",
    "\n",
    "def fSBF(cln3, mbf, yox1, yhp1):\n",
    "    return (cln3 or mbf) and not(yox1 and yhp1)\n",
    "\n",
    "def fHCM1(mbf, sbf):\n",
    "    return mbf and sbf\n",
    "    \n",
    "def fYHP1(mbf, sbf):\n",
    "    return mbf or sbf\n",
    "    \n",
    "def fSFF(sbf, hcm1):\n",
    "    return sbf or hcm1\n",
    "    \n",
    "def fCLN3(swi5, ace2, yox1, yhp1):\n",
    "    return (swi5 and ace2) and not(yox1 and yhp1)\n",
    "\n",
    "def fSWI5(sff):\n",
    "    return sff\n",
    "\n",
    "def fACE2(sff):\n",
    "    return sff\n",
    "\n",
    "def fYOX1(mbf, sbf):\n",
    "    return mbf and sbf"
   ]
  },
  {
   "cell_type": "code",
   "execution_count": 3,
   "metadata": {},
   "outputs": [],
   "source": [
    "def plot_simulation(simulation_df):\n",
    "    \"\"\"2D simulation data frame -> figure\n",
    "    \"\"\"\n",
    "    names = simulation_df.index\n",
    "    plt.imshow(simulation_df, interpolation='none', cmap='copper')\n",
    "    plt.xlabel('Time units')\n",
    "    plt.yticks(range(len(names)), names)"
   ]
  },
  {
   "cell_type": "code",
   "execution_count": 4,
   "metadata": {},
   "outputs": [],
   "source": [
    "def cell_cycle(initvals, nsteps=20):\n",
    "    if len(initvals) != 9:\n",
    "        raise Exception(\"Wrong number of initial values!\")\n",
    "    \n",
    "    nodes = MBF, SBF, YOX1, HCM1, YHP1, SFF, ACE2, SWI5, CLN3 = [[i] for i in initvals]\n",
    "    for i in range(nsteps):\n",
    "        mbf, sbf, yox1, hcm1, yhp1, sff, ace2, swi5, cln3 = [i[-1] for i in nodes]\n",
    "        MBF.append(  fMBF(cln3) )\n",
    "        SBF.append(  fSBF(cln3, mbf, yox1, yhp1) )\n",
    "        YOX1.append( fYOX1(mbf,sbf) )\n",
    "        HCM1.append( fHCM1(mbf,sbf) )\n",
    "        YHP1.append( fYHP1(mbf,sbf) )\n",
    "        SFF.append(  fSFF(sbf, hcm1) )\n",
    "        ACE2.append( fACE2(sff) )\n",
    "        SWI5.append( fSWI5(sff) )\n",
    "        CLN3.append( fCLN3(swi5,ace2,yox1,yhp1) )        \n",
    "    \n",
    "    simulation = pd.DataFrame(data = np.array(nodes), index = names)\n",
    "    return simulation\n",
    "    "
   ]
  },
  {
   "cell_type": "code",
   "execution_count": 5,
   "metadata": {},
   "outputs": [],
   "source": [
    "def went_to_all_off(simulation_df):\n",
    "    \"\"\"2D array representing simulation (genes in rows, time in cols) -> True/False\n",
    "    \n",
    "    Return True if at any time point in the array, all nodes are False (zero)\n",
    "    \"\"\"\n",
    "    col_sums = np.sum(simulation_df, axis=0).tolist()  # sum over rows\n",
    "    if 0 in col_sums:\n",
    "        return True\n",
    "    return False"
   ]
  },
  {
   "cell_type": "code",
   "execution_count": 6,
   "metadata": {},
   "outputs": [],
   "source": [
    "def cell_cycle(initvals, nsteps=20):\n",
    "    if len(initvals) != 9:\n",
    "        raise Exception(\"Wrong number of initial values!\")\n",
    "    \n",
    "    names = ['MBF', 'SBF', 'YOX1', 'HCM1', 'YHP1', 'SFF', 'ACE2', 'SWI5', 'CLN3']\n",
    "    nodes = MBF, SBF, YOX1, HCM1, YHP1, SFF, ACE2, SWI5, CLN3 = [[i] for i in initvals]\n",
    "    for i in range(nsteps):\n",
    "        mbf, sbf, yox1, hcm1, yhp1, sff, ace2, swi5, cln3 = [i[-1] for i in nodes]\n",
    "        MBF.append(  fMBF(cln3) )\n",
    "        SBF.append(  fSBF(cln3, mbf, yox1, yhp1) )\n",
    "        YOX1.append( fYOX1(mbf,sbf) )\n",
    "        HCM1.append( fHCM1(mbf,sbf) )\n",
    "        YHP1.append( fYHP1(mbf,sbf) )\n",
    "        SFF.append(  fSFF(sbf, hcm1) )\n",
    "        ACE2.append( fACE2(sff) )\n",
    "        SWI5.append( fSWI5(sff) )\n",
    "        CLN3.append( fCLN3(swi5,ace2,yox1,yhp1) )        \n",
    "    \n",
    "    simulation = pd.DataFrame(data = np.array(nodes), index = names)\n",
    "    return simulation"
   ]
  },
  {
   "cell_type": "code",
   "execution_count": 7,
   "metadata": {
    "scrolled": true
   },
   "outputs": [
    {
     "data": {
      "image/png": "[encoded data removed]",
      "text/plain": [
       "<Figure size 432x288 with 1 Axes>"
      ]
     },
     "metadata": {
      "needs_background": "light"
     },
     "output_type": "display_data"
    }
   ],
   "source": [
    "s1 = cell_cycle([1,1,0,0,0,0,0,0,0], nsteps=20)\n",
    "plot_simulation(s1)"
   ]
  },
  {
   "cell_type": "code",
   "execution_count": 14,
   "metadata": {},
   "outputs": [
    {
     "name": "stdout",
     "output_type": "stream",
     "text": [
      "Went to all zeros? False\n"
     ]
    },
    {
     "data": {
      "image/png": "[encoded data removed]",
      "text/plain": [
       "<Figure size 432x288 with 1 Axes>"
      ]
     },
     "metadata": {
      "needs_background": "light"
     },
     "output_type": "display_data"
    }
   ],
   "source": [
    "randstarts = np.random.randint(2, size=9)  # generate array of random 0s and 1s, of length 9\n",
    "s = cell_cycle(randstarts)\n",
    "plot_simulation(s)\n",
    "print(\"Went to all zeros?\", went_to_all_off(s))"
   ]
  },
  {
   "cell_type": "code",
   "execution_count": 17,
   "metadata": {},
   "outputs": [
    {
     "name": "stdout",
     "output_type": "stream",
     "text": [
      "Problem 3: 0.966796875\n"
     ]
    }
   ],
   "source": [
    "from itertools import product\n",
    "p = product([0,1], repeat=9)\n",
    "p = list(p)\n",
    "sum = 0\n",
    "for i in p:\n",
    "    if(went_to_all_off(cell_cycle(i)) == False):\n",
    "        sum+=1\n",
    "print(\"Problem 3:\", sum/len(p))"
   ]
  },
  {
   "cell_type": "markdown",
   "metadata": {},
   "source": [
    "1. Implemeneted above.\n",
    "2. We do observe oscillatory behavior with the initial conditions provided (represented by s1) though the dynamical behavior chart isn't the exact same when the SFF function is implemented with an AND operator instead of an OR operator, so the oscillatory behavior observed isn't the same as observed when the SFF function used AND logic.\n",
    "3. Shown in code above."
   ]
  },
  {
   "cell_type": "code",
   "execution_count": null,
   "metadata": {},
   "outputs": [],
   "source": []
  }
 ],
 "metadata": {
  "kernelspec": {
   "display_name": "Python 3",
   "language": "python",
   "name": "python3"
  },
  "language_info": {
   "codemirror_mode": {
    "name": "ipython",
    "version": 3
   },
   "file_extension": ".py",
   "mimetype": "text/x-python",
   "name": "python",
   "nbconvert_exporter": "python",
   "pygments_lexer": "ipython3",
   "version": "3.8.3"
  }
 },
 "nbformat": 4,
 "nbformat_minor": 4
}
