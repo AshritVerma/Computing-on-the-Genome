{
 "cells": [
  {
   "cell_type": "code",
   "execution_count": null,
   "metadata": {},
   "outputs": [],
   "source": [
    "#number of DNA replications that occur during E coli culture overnight\n",
    "log2(10^9) ~ 30"
   ]
  },
  {
   "cell_type": "code",
   "execution_count": null,
   "metadata": {},
   "outputs": [],
   "source": [
    "# how many genomic mutations would you expect to see in one genome replication?\n",
    "5*10^-10*1E-6 = 5E-4"
   ]
  },
  {
   "cell_type": "code",
   "execution_count": null,
   "metadata": {},
   "outputs": [],
   "source": [
    "# how many novel mutations expect to observe in 10 ml culture of E coli\n",
    "10e9 * 5e6 * 10*-10 * 30 = 1.5E14\n",
    "# nuber of expected mutations compared to E coli's genome size\n",
    "(10e9 * 10-10 * 5e6) / 5e6 = 10"
   ]
  },
  {
   "cell_type": "code",
   "execution_count": null,
   "metadata": {},
   "outputs": [],
   "source": [
    "# point mutations in humans per genome per generation\n",
    "18.2E-10*3.65 = 6.6E-9"
   ]
  },
  {
   "cell_type": "code",
   "execution_count": null,
   "metadata": {},
   "outputs": [],
   "source": [
    "# indels per genome \n",
    "18.2E-10/.02 = 9.1E-8"
   ]
  },
  {
   "cell_type": "code",
   "execution_count": null,
   "metadata": {},
   "outputs": [],
   "source": []
  },
  {
   "cell_type": "code",
   "execution_count": null,
   "metadata": {},
   "outputs": [],
   "source": [
    "# probability that no genomic mutations occur during single replication event\n",
    "error_rate = 10e-6\n",
    "10e-6 * 3e4 = .03\n",
    "1 - .03 = .97"
   ]
  },
  {
   "cell_type": "code",
   "execution_count": null,
   "metadata": {},
   "outputs": [],
   "source": [
    "# COVID-19 mutations per infected cell (at \"burst\") expected\n",
    "10^3 * 10^-6 * 3e4 = 30"
   ]
  },
  {
   "cell_type": "code",
   "execution_count": null,
   "metadata": {},
   "outputs": [],
   "source": [
    "# probability of observing no viral mutation in the viral population at burst\n",
    ".97^1000 = 5.912E-14"
   ]
  },
  {
   "cell_type": "code",
   "execution_count": null,
   "metadata": {},
   "outputs": [],
   "source": [
    "# would you expect saem number of mutation for every cell?\n",
    "No b/c not same nucleotide if mutate and 30 avgo"
   ]
  },
  {
   "cell_type": "code",
   "execution_count": null,
   "metadata": {},
   "outputs": [],
   "source": []
  }
 ],
 "metadata": {
  "kernelspec": {
   "display_name": "Python 3",
   "language": "python",
   "name": "python3"
  },
  "language_info": {
   "codemirror_mode": {
    "name": "ipython",
    "version": 3
   },
   "file_extension": ".py",
   "mimetype": "text/x-python",
   "name": "python",
   "nbconvert_exporter": "python",
   "pygments_lexer": "ipython3",
   "version": "3.8.3"
  }
 },
 "nbformat": 4,
 "nbformat_minor": 4
}
