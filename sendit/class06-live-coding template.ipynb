{
 "cells": [
  {
   "cell_type": "markdown",
   "metadata": {},
   "source": [
    "#  Bio 208: Lecture 06 -- Working with tabular data"
   ]
  },
  {
   "cell_type": "markdown",
   "metadata": {},
   "source": [
    "## Pandas library\n",
    "\n",
    "[Pandas](https://pandas.pydata.org/) is a widely used Python library for working with tabular data.\n",
    "\n",
    "![Image from Pandas tutorial.](https://pandas.pydata.org/docs/_images/01_table_dataframe1.svg)"
   ]
  },
  {
   "cell_type": "code",
   "execution_count": 1,
   "metadata": {},
   "outputs": [],
   "source": [
    "import pandas as pd"
   ]
  },
  {
   "cell_type": "markdown",
   "metadata": {},
   "source": [
    "### Creating DataFrames\n",
    "\n",
    "The core data structure in the Pandas library is called a \"data frame\" (`DataFrame`).\n",
    "\n",
    "We can create a dataframe by hand as follows:"
   ]
  },
  {
   "cell_type": "code",
   "execution_count": 2,
   "metadata": {},
   "outputs": [],
   "source": [
    "df = pd.DataFrame({\n",
    "    \"Name\": [\"ORF1ab\", \"S\", \"E\", \"M\", \"N\"],\n",
    "    \"Start\": [266,  21563, 26245, 26523, 28274],\n",
    "    \"Stop\": [21555, 25384, 26472, 27191, 29533],\n",
    "    \"Product\": [\"ORF1ab polyprotein\", \"surface glycoprotein\", \n",
    "                \"envelope protein\", \"membrane glycoprotein\",\n",
    "                \"nucleocapsid phosphoprotein\"]\n",
    "})"
   ]
  },
  {
   "cell_type": "markdown",
   "metadata": {},
   "source": [
    "### Reading a DataFrame from a file"
   ]
  },
  {
   "cell_type": "code",
   "execution_count": 3,
   "metadata": {},
   "outputs": [
    {
     "data": {
      "text/html": [
       "<div>\n",
       "<style scoped>\n",
       "    .dataframe tbody tr th:only-of-type {\n",
       "        vertical-align: middle;\n",
       "    }\n",
       "\n",
       "    .dataframe tbody tr th {\n",
       "        vertical-align: top;\n",
       "    }\n",
       "\n",
       "    .dataframe thead th {\n",
       "        text-align: right;\n",
       "    }\n",
       "</style>\n",
       "<table border=\"1\" class=\"dataframe\">\n",
       "  <thead>\n",
       "    <tr style=\"text-align: right;\">\n",
       "      <th></th>\n",
       "      <th>Name</th>\n",
       "      <th>Start</th>\n",
       "      <th>Stop</th>\n",
       "      <th>Product</th>\n",
       "    </tr>\n",
       "  </thead>\n",
       "  <tbody>\n",
       "    <tr>\n",
       "      <th>0</th>\n",
       "      <td>ORF1ab</td>\n",
       "      <td>266</td>\n",
       "      <td>21555</td>\n",
       "      <td>ORF1ab polyprotein</td>\n",
       "    </tr>\n",
       "    <tr>\n",
       "      <th>1</th>\n",
       "      <td>S</td>\n",
       "      <td>21563</td>\n",
       "      <td>25384</td>\n",
       "      <td>surface glycoprotein</td>\n",
       "    </tr>\n",
       "    <tr>\n",
       "      <th>2</th>\n",
       "      <td>E</td>\n",
       "      <td>26245</td>\n",
       "      <td>26472</td>\n",
       "      <td>envelope protein</td>\n",
       "    </tr>\n",
       "    <tr>\n",
       "      <th>3</th>\n",
       "      <td>M</td>\n",
       "      <td>26523</td>\n",
       "      <td>27191</td>\n",
       "      <td>membrane glycoprotein</td>\n",
       "    </tr>\n",
       "    <tr>\n",
       "      <th>4</th>\n",
       "      <td>N</td>\n",
       "      <td>28274</td>\n",
       "      <td>29533</td>\n",
       "      <td>nucleocapsid phosphoprotein</td>\n",
       "    </tr>\n",
       "  </tbody>\n",
       "</table>\n",
       "</div>"
      ],
      "text/plain": [
       "     Name  Start   Stop                      Product\n",
       "0  ORF1ab    266  21555           ORF1ab polyprotein\n",
       "1       S  21563  25384         surface glycoprotein\n",
       "2       E  26245  26472             envelope protein\n",
       "3       M  26523  27191        membrane glycoprotein\n",
       "4       N  28274  29533  nucleocapsid phosphoprotein"
      ]
     },
     "execution_count": 3,
     "metadata": {},
     "output_type": "execute_result"
    }
   ],
   "source": [
    "df"
   ]
  },
  {
   "cell_type": "code",
   "execution_count": 4,
   "metadata": {},
   "outputs": [
    {
     "data": {
      "text/plain": [
       "Name       object\n",
       "Start       int64\n",
       "Stop        int64\n",
       "Product    object\n",
       "dtype: object"
      ]
     },
     "execution_count": 4,
     "metadata": {},
     "output_type": "execute_result"
    }
   ],
   "source": [
    "df.dtypes"
   ]
  },
  {
   "cell_type": "markdown",
   "metadata": {},
   "source": [
    "### What are the dimensions (number of rows and columns) of a DataFrame?"
   ]
  },
  {
   "cell_type": "code",
   "execution_count": 5,
   "metadata": {},
   "outputs": [
    {
     "data": {
      "text/plain": [
       "(5, 4)"
      ]
     },
     "execution_count": 5,
     "metadata": {},
     "output_type": "execute_result"
    }
   ],
   "source": [
    "df.shape"
   ]
  },
  {
   "cell_type": "markdown",
   "metadata": {},
   "source": [
    "### Getting a specific column from a DataFrame"
   ]
  },
  {
   "cell_type": "code",
   "execution_count": 6,
   "metadata": {},
   "outputs": [
    {
     "data": {
      "text/plain": [
       "0             ORF1ab polyprotein\n",
       "1           surface glycoprotein\n",
       "2               envelope protein\n",
       "3          membrane glycoprotein\n",
       "4    nucleocapsid phosphoprotein\n",
       "Name: Product, dtype: object"
      ]
     },
     "execution_count": 6,
     "metadata": {},
     "output_type": "execute_result"
    }
   ],
   "source": [
    "df[\"Product\"]\n",
    "\n",
    "#return series of \"Product\" key"
   ]
  },
  {
   "cell_type": "code",
   "execution_count": 7,
   "metadata": {},
   "outputs": [
    {
     "data": {
      "text/plain": [
       "0    21555\n",
       "1    25384\n",
       "2    26472\n",
       "3    27191\n",
       "4    29533\n",
       "Name: Stop, dtype: int64"
      ]
     },
     "execution_count": 7,
     "metadata": {},
     "output_type": "execute_result"
    }
   ],
   "source": [
    "df.Stop\n",
    "\n",
    "#shorthand, but would only works if \"Stop\" is a valid Python variable name\n",
    "#retruns series of \"Stop\" key"
   ]
  },
  {
   "cell_type": "markdown",
   "metadata": {},
   "source": [
    "### Getting a subset of columns from a DataFrame"
   ]
  },
  {
   "cell_type": "code",
   "execution_count": 8,
   "metadata": {},
   "outputs": [
    {
     "data": {
      "text/html": [
       "<div>\n",
       "<style scoped>\n",
       "    .dataframe tbody tr th:only-of-type {\n",
       "        vertical-align: middle;\n",
       "    }\n",
       "\n",
       "    .dataframe tbody tr th {\n",
       "        vertical-align: top;\n",
       "    }\n",
       "\n",
       "    .dataframe thead th {\n",
       "        text-align: right;\n",
       "    }\n",
       "</style>\n",
       "<table border=\"1\" class=\"dataframe\">\n",
       "  <thead>\n",
       "    <tr style=\"text-align: right;\">\n",
       "      <th></th>\n",
       "      <th>Stop</th>\n",
       "      <th>Start</th>\n",
       "    </tr>\n",
       "  </thead>\n",
       "  <tbody>\n",
       "    <tr>\n",
       "      <th>0</th>\n",
       "      <td>21555</td>\n",
       "      <td>266</td>\n",
       "    </tr>\n",
       "    <tr>\n",
       "      <th>1</th>\n",
       "      <td>25384</td>\n",
       "      <td>21563</td>\n",
       "    </tr>\n",
       "    <tr>\n",
       "      <th>2</th>\n",
       "      <td>26472</td>\n",
       "      <td>26245</td>\n",
       "    </tr>\n",
       "    <tr>\n",
       "      <th>3</th>\n",
       "      <td>27191</td>\n",
       "      <td>26523</td>\n",
       "    </tr>\n",
       "    <tr>\n",
       "      <th>4</th>\n",
       "      <td>29533</td>\n",
       "      <td>28274</td>\n",
       "    </tr>\n",
       "  </tbody>\n",
       "</table>\n",
       "</div>"
      ],
      "text/plain": [
       "    Stop  Start\n",
       "0  21555    266\n",
       "1  25384  21563\n",
       "2  26472  26245\n",
       "3  27191  26523\n",
       "4  29533  28274"
      ]
     },
     "execution_count": 8,
     "metadata": {},
     "output_type": "execute_result"
    }
   ],
   "source": [
    "df.loc[:, [\"Stop\",\"Start\"]]"
   ]
  },
  {
   "cell_type": "code",
   "execution_count": 9,
   "metadata": {},
   "outputs": [
    {
     "data": {
      "text/html": [
       "<div>\n",
       "<style scoped>\n",
       "    .dataframe tbody tr th:only-of-type {\n",
       "        vertical-align: middle;\n",
       "    }\n",
       "\n",
       "    .dataframe tbody tr th {\n",
       "        vertical-align: top;\n",
       "    }\n",
       "\n",
       "    .dataframe thead th {\n",
       "        text-align: right;\n",
       "    }\n",
       "</style>\n",
       "<table border=\"1\" class=\"dataframe\">\n",
       "  <thead>\n",
       "    <tr style=\"text-align: right;\">\n",
       "      <th></th>\n",
       "      <th>Name</th>\n",
       "      <th>Product</th>\n",
       "    </tr>\n",
       "  </thead>\n",
       "  <tbody>\n",
       "    <tr>\n",
       "      <th>0</th>\n",
       "      <td>ORF1ab</td>\n",
       "      <td>ORF1ab polyprotein</td>\n",
       "    </tr>\n",
       "    <tr>\n",
       "      <th>1</th>\n",
       "      <td>S</td>\n",
       "      <td>surface glycoprotein</td>\n",
       "    </tr>\n",
       "    <tr>\n",
       "      <th>2</th>\n",
       "      <td>E</td>\n",
       "      <td>envelope protein</td>\n",
       "    </tr>\n",
       "    <tr>\n",
       "      <th>3</th>\n",
       "      <td>M</td>\n",
       "      <td>membrane glycoprotein</td>\n",
       "    </tr>\n",
       "    <tr>\n",
       "      <th>4</th>\n",
       "      <td>N</td>\n",
       "      <td>nucleocapsid phosphoprotein</td>\n",
       "    </tr>\n",
       "  </tbody>\n",
       "</table>\n",
       "</div>"
      ],
      "text/plain": [
       "     Name                      Product\n",
       "0  ORF1ab           ORF1ab polyprotein\n",
       "1       S         surface glycoprotein\n",
       "2       E             envelope protein\n",
       "3       M        membrane glycoprotein\n",
       "4       N  nucleocapsid phosphoprotein"
      ]
     },
     "execution_count": 9,
     "metadata": {},
     "output_type": "execute_result"
    }
   ],
   "source": [
    "df.loc[:, [\"Name\",\"Product\"]]"
   ]
  },
  {
   "cell_type": "code",
   "execution_count": 10,
   "metadata": {},
   "outputs": [
    {
     "data": {
      "text/html": [
       "<div>\n",
       "<style scoped>\n",
       "    .dataframe tbody tr th:only-of-type {\n",
       "        vertical-align: middle;\n",
       "    }\n",
       "\n",
       "    .dataframe tbody tr th {\n",
       "        vertical-align: top;\n",
       "    }\n",
       "\n",
       "    .dataframe thead th {\n",
       "        text-align: right;\n",
       "    }\n",
       "</style>\n",
       "<table border=\"1\" class=\"dataframe\">\n",
       "  <thead>\n",
       "    <tr style=\"text-align: right;\">\n",
       "      <th></th>\n",
       "      <th>Product</th>\n",
       "      <th>Start</th>\n",
       "    </tr>\n",
       "  </thead>\n",
       "  <tbody>\n",
       "    <tr>\n",
       "      <th>1</th>\n",
       "      <td>surface glycoprotein</td>\n",
       "      <td>21563</td>\n",
       "    </tr>\n",
       "    <tr>\n",
       "      <th>2</th>\n",
       "      <td>envelope protein</td>\n",
       "      <td>26245</td>\n",
       "    </tr>\n",
       "    <tr>\n",
       "      <th>3</th>\n",
       "      <td>membrane glycoprotein</td>\n",
       "      <td>26523</td>\n",
       "    </tr>\n",
       "  </tbody>\n",
       "</table>\n",
       "</div>"
      ],
      "text/plain": [
       "                 Product  Start\n",
       "1   surface glycoprotein  21563\n",
       "2       envelope protein  26245\n",
       "3  membrane glycoprotein  26523"
      ]
     },
     "execution_count": 10,
     "metadata": {},
     "output_type": "execute_result"
    }
   ],
   "source": [
    "df.loc[1:3, [\"Product\", \"Start\"]]"
   ]
  },
  {
   "cell_type": "code",
   "execution_count": 11,
   "metadata": {},
   "outputs": [
    {
     "data": {
      "text/html": [
       "<div>\n",
       "<style scoped>\n",
       "    .dataframe tbody tr th:only-of-type {\n",
       "        vertical-align: middle;\n",
       "    }\n",
       "\n",
       "    .dataframe tbody tr th {\n",
       "        vertical-align: top;\n",
       "    }\n",
       "\n",
       "    .dataframe thead th {\n",
       "        text-align: right;\n",
       "    }\n",
       "</style>\n",
       "<table border=\"1\" class=\"dataframe\">\n",
       "  <thead>\n",
       "    <tr style=\"text-align: right;\">\n",
       "      <th></th>\n",
       "      <th>Product</th>\n",
       "      <th>Start</th>\n",
       "    </tr>\n",
       "  </thead>\n",
       "  <tbody>\n",
       "    <tr>\n",
       "      <th>0</th>\n",
       "      <td>ORF1ab polyprotein</td>\n",
       "      <td>266</td>\n",
       "    </tr>\n",
       "    <tr>\n",
       "      <th>1</th>\n",
       "      <td>surface glycoprotein</td>\n",
       "      <td>21563</td>\n",
       "    </tr>\n",
       "    <tr>\n",
       "      <th>2</th>\n",
       "      <td>envelope protein</td>\n",
       "      <td>26245</td>\n",
       "    </tr>\n",
       "    <tr>\n",
       "      <th>3</th>\n",
       "      <td>membrane glycoprotein</td>\n",
       "      <td>26523</td>\n",
       "    </tr>\n",
       "  </tbody>\n",
       "</table>\n",
       "</div>"
      ],
      "text/plain": [
       "                 Product  Start\n",
       "0     ORF1ab polyprotein    266\n",
       "1   surface glycoprotein  21563\n",
       "2       envelope protein  26245\n",
       "3  membrane glycoprotein  26523"
      ]
     },
     "execution_count": 11,
     "metadata": {},
     "output_type": "execute_result"
    }
   ],
   "source": [
    "df.loc[:3, [\"Product\", \"Start\"]]"
   ]
  },
  {
   "cell_type": "code",
   "execution_count": 12,
   "metadata": {},
   "outputs": [],
   "source": [
    "# inclusive when use two paramters"
   ]
  },
  {
   "cell_type": "markdown",
   "metadata": {},
   "source": [
    "### Getting specific rows from a DataFrame using slices"
   ]
  },
  {
   "cell_type": "code",
   "execution_count": 13,
   "metadata": {},
   "outputs": [
    {
     "data": {
      "text/plain": [
       "0             ORF1ab polyprotein\n",
       "1           surface glycoprotein\n",
       "2               envelope protein\n",
       "3          membrane glycoprotein\n",
       "4    nucleocapsid phosphoprotein\n",
       "Name: Product, dtype: object"
      ]
     },
     "execution_count": 13,
     "metadata": {},
     "output_type": "execute_result"
    }
   ],
   "source": [
    "df[\"Product\"]"
   ]
  },
  {
   "cell_type": "code",
   "execution_count": 14,
   "metadata": {},
   "outputs": [
    {
     "data": {
      "text/html": [
       "<div>\n",
       "<style scoped>\n",
       "    .dataframe tbody tr th:only-of-type {\n",
       "        vertical-align: middle;\n",
       "    }\n",
       "\n",
       "    .dataframe tbody tr th {\n",
       "        vertical-align: top;\n",
       "    }\n",
       "\n",
       "    .dataframe thead th {\n",
       "        text-align: right;\n",
       "    }\n",
       "</style>\n",
       "<table border=\"1\" class=\"dataframe\">\n",
       "  <thead>\n",
       "    <tr style=\"text-align: right;\">\n",
       "      <th></th>\n",
       "      <th>Name</th>\n",
       "      <th>Start</th>\n",
       "      <th>Stop</th>\n",
       "      <th>Product</th>\n",
       "    </tr>\n",
       "  </thead>\n",
       "  <tbody>\n",
       "    <tr>\n",
       "      <th>0</th>\n",
       "      <td>ORF1ab</td>\n",
       "      <td>266</td>\n",
       "      <td>21555</td>\n",
       "      <td>ORF1ab polyprotein</td>\n",
       "    </tr>\n",
       "    <tr>\n",
       "      <th>1</th>\n",
       "      <td>S</td>\n",
       "      <td>21563</td>\n",
       "      <td>25384</td>\n",
       "      <td>surface glycoprotein</td>\n",
       "    </tr>\n",
       "  </tbody>\n",
       "</table>\n",
       "</div>"
      ],
      "text/plain": [
       "     Name  Start   Stop               Product\n",
       "0  ORF1ab    266  21555    ORF1ab polyprotein\n",
       "1       S  21563  25384  surface glycoprotein"
      ]
     },
     "execution_count": 14,
     "metadata": {},
     "output_type": "execute_result"
    }
   ],
   "source": [
    "df[0:2]"
   ]
  },
  {
   "cell_type": "code",
   "execution_count": 15,
   "metadata": {},
   "outputs": [],
   "source": [
    "# exclusive when use one parameter"
   ]
  },
  {
   "cell_type": "markdown",
   "metadata": {},
   "source": [
    "### Selection cross sections of a DataFrame by integer positions using `DataFrame.iloc`"
   ]
  },
  {
   "cell_type": "code",
   "execution_count": 16,
   "metadata": {},
   "outputs": [
    {
     "data": {
      "text/html": [
       "<div>\n",
       "<style scoped>\n",
       "    .dataframe tbody tr th:only-of-type {\n",
       "        vertical-align: middle;\n",
       "    }\n",
       "\n",
       "    .dataframe tbody tr th {\n",
       "        vertical-align: top;\n",
       "    }\n",
       "\n",
       "    .dataframe thead th {\n",
       "        text-align: right;\n",
       "    }\n",
       "</style>\n",
       "<table border=\"1\" class=\"dataframe\">\n",
       "  <thead>\n",
       "    <tr style=\"text-align: right;\">\n",
       "      <th></th>\n",
       "      <th>Name</th>\n",
       "      <th>Start</th>\n",
       "      <th>Stop</th>\n",
       "      <th>Product</th>\n",
       "    </tr>\n",
       "  </thead>\n",
       "  <tbody>\n",
       "    <tr>\n",
       "      <th>1</th>\n",
       "      <td>S</td>\n",
       "      <td>21563</td>\n",
       "      <td>25384</td>\n",
       "      <td>surface glycoprotein</td>\n",
       "    </tr>\n",
       "    <tr>\n",
       "      <th>2</th>\n",
       "      <td>E</td>\n",
       "      <td>26245</td>\n",
       "      <td>26472</td>\n",
       "      <td>envelope protein</td>\n",
       "    </tr>\n",
       "  </tbody>\n",
       "</table>\n",
       "</div>"
      ],
      "text/plain": [
       "  Name  Start   Stop               Product\n",
       "1    S  21563  25384  surface glycoprotein\n",
       "2    E  26245  26472      envelope protein"
      ]
     },
     "execution_count": 16,
     "metadata": {},
     "output_type": "execute_result"
    }
   ],
   "source": [
    "df.iloc[1:3]"
   ]
  },
  {
   "cell_type": "code",
   "execution_count": 17,
   "metadata": {},
   "outputs": [
    {
     "data": {
      "text/html": [
       "<div>\n",
       "<style scoped>\n",
       "    .dataframe tbody tr th:only-of-type {\n",
       "        vertical-align: middle;\n",
       "    }\n",
       "\n",
       "    .dataframe tbody tr th {\n",
       "        vertical-align: top;\n",
       "    }\n",
       "\n",
       "    .dataframe thead th {\n",
       "        text-align: right;\n",
       "    }\n",
       "</style>\n",
       "<table border=\"1\" class=\"dataframe\">\n",
       "  <thead>\n",
       "    <tr style=\"text-align: right;\">\n",
       "      <th></th>\n",
       "      <th>Name</th>\n",
       "      <th>Start</th>\n",
       "    </tr>\n",
       "  </thead>\n",
       "  <tbody>\n",
       "    <tr>\n",
       "      <th>0</th>\n",
       "      <td>ORF1ab</td>\n",
       "      <td>266</td>\n",
       "    </tr>\n",
       "    <tr>\n",
       "      <th>1</th>\n",
       "      <td>S</td>\n",
       "      <td>21563</td>\n",
       "    </tr>\n",
       "    <tr>\n",
       "      <th>2</th>\n",
       "      <td>E</td>\n",
       "      <td>26245</td>\n",
       "    </tr>\n",
       "  </tbody>\n",
       "</table>\n",
       "</div>"
      ],
      "text/plain": [
       "     Name  Start\n",
       "0  ORF1ab    266\n",
       "1       S  21563\n",
       "2       E  26245"
      ]
     },
     "execution_count": 17,
     "metadata": {},
     "output_type": "execute_result"
    }
   ],
   "source": [
    "df.iloc[:3, :2]"
   ]
  },
  {
   "cell_type": "markdown",
   "metadata": {},
   "source": [
    "### Subsetting the rows of a DataFrame by Boolean indexing"
   ]
  },
  {
   "cell_type": "code",
   "execution_count": 18,
   "metadata": {},
   "outputs": [
    {
     "name": "stdout",
     "output_type": "stream",
     "text": [
      "0    False\n",
      "1    False\n",
      "2     True\n",
      "3     True\n",
      "4     True\n",
      "Name: Start, dtype: bool\n"
     ]
    }
   ],
   "source": [
    "x = df[\"Start\"] > 25000\n",
    "print(x)\n",
    "# understanding inner loop of Boolean indexing"
   ]
  },
  {
   "cell_type": "code",
   "execution_count": 19,
   "metadata": {},
   "outputs": [
    {
     "data": {
      "text/html": [
       "<div>\n",
       "<style scoped>\n",
       "    .dataframe tbody tr th:only-of-type {\n",
       "        vertical-align: middle;\n",
       "    }\n",
       "\n",
       "    .dataframe tbody tr th {\n",
       "        vertical-align: top;\n",
       "    }\n",
       "\n",
       "    .dataframe thead th {\n",
       "        text-align: right;\n",
       "    }\n",
       "</style>\n",
       "<table border=\"1\" class=\"dataframe\">\n",
       "  <thead>\n",
       "    <tr style=\"text-align: right;\">\n",
       "      <th></th>\n",
       "      <th>Name</th>\n",
       "      <th>Start</th>\n",
       "      <th>Stop</th>\n",
       "      <th>Product</th>\n",
       "    </tr>\n",
       "  </thead>\n",
       "  <tbody>\n",
       "    <tr>\n",
       "      <th>2</th>\n",
       "      <td>E</td>\n",
       "      <td>26245</td>\n",
       "      <td>26472</td>\n",
       "      <td>envelope protein</td>\n",
       "    </tr>\n",
       "    <tr>\n",
       "      <th>3</th>\n",
       "      <td>M</td>\n",
       "      <td>26523</td>\n",
       "      <td>27191</td>\n",
       "      <td>membrane glycoprotein</td>\n",
       "    </tr>\n",
       "    <tr>\n",
       "      <th>4</th>\n",
       "      <td>N</td>\n",
       "      <td>28274</td>\n",
       "      <td>29533</td>\n",
       "      <td>nucleocapsid phosphoprotein</td>\n",
       "    </tr>\n",
       "  </tbody>\n",
       "</table>\n",
       "</div>"
      ],
      "text/plain": [
       "  Name  Start   Stop                      Product\n",
       "2    E  26245  26472             envelope protein\n",
       "3    M  26523  27191        membrane glycoprotein\n",
       "4    N  28274  29533  nucleocapsid phosphoprotein"
      ]
     },
     "execution_count": 19,
     "metadata": {},
     "output_type": "execute_result"
    }
   ],
   "source": [
    "df[df[\"Start\"] > 25000]"
   ]
  },
  {
   "cell_type": "code",
   "execution_count": 20,
   "metadata": {},
   "outputs": [
    {
     "name": "stdout",
     "output_type": "stream",
     "text": [
      "  Name  Start   Stop                      Product\n",
      "2    E  26245  26472             envelope protein\n",
      "3    M  26523  27191        membrane glycoprotein\n",
      "4    N  28274  29533  nucleocapsid phosphoprotein\n"
     ]
    }
   ],
   "source": [
    "endgenes = df[df.Start > 25000]\n",
    "print(endgenes)"
   ]
  },
  {
   "cell_type": "code",
   "execution_count": 21,
   "metadata": {},
   "outputs": [
    {
     "data": {
      "text/html": [
       "<div>\n",
       "<style scoped>\n",
       "    .dataframe tbody tr th:only-of-type {\n",
       "        vertical-align: middle;\n",
       "    }\n",
       "\n",
       "    .dataframe tbody tr th {\n",
       "        vertical-align: top;\n",
       "    }\n",
       "\n",
       "    .dataframe thead th {\n",
       "        text-align: right;\n",
       "    }\n",
       "</style>\n",
       "<table border=\"1\" class=\"dataframe\">\n",
       "  <thead>\n",
       "    <tr style=\"text-align: right;\">\n",
       "      <th></th>\n",
       "      <th>Name</th>\n",
       "      <th>Start</th>\n",
       "      <th>Stop</th>\n",
       "      <th>Product</th>\n",
       "    </tr>\n",
       "  </thead>\n",
       "  <tbody>\n",
       "    <tr>\n",
       "      <th>2</th>\n",
       "      <td>E</td>\n",
       "      <td>26245</td>\n",
       "      <td>26472</td>\n",
       "      <td>envelope protein</td>\n",
       "    </tr>\n",
       "    <tr>\n",
       "      <th>3</th>\n",
       "      <td>M</td>\n",
       "      <td>26523</td>\n",
       "      <td>27191</td>\n",
       "      <td>membrane glycoprotein</td>\n",
       "    </tr>\n",
       "    <tr>\n",
       "      <th>4</th>\n",
       "      <td>N</td>\n",
       "      <td>28274</td>\n",
       "      <td>29533</td>\n",
       "      <td>nucleocapsid phosphoprotein</td>\n",
       "    </tr>\n",
       "  </tbody>\n",
       "</table>\n",
       "</div>"
      ],
      "text/plain": [
       "  Name  Start   Stop                      Product\n",
       "2    E  26245  26472             envelope protein\n",
       "3    M  26523  27191        membrane glycoprotein\n",
       "4    N  28274  29533  nucleocapsid phosphoprotein"
      ]
     },
     "execution_count": 21,
     "metadata": {},
     "output_type": "execute_result"
    }
   ],
   "source": [
    "df[x]"
   ]
  },
  {
   "cell_type": "code",
   "execution_count": 32,
   "metadata": {},
   "outputs": [
    {
     "data": {
      "text/plain": [
       "2    26245\n",
       "3    26523\n",
       "4    28274\n",
       "Name: Start, dtype: int64"
      ]
     },
     "execution_count": 32,
     "metadata": {},
     "output_type": "execute_result"
    }
   ],
   "source": [
    "df[df.Start > 25000][\"Start\"]\n",
    "# to get only column"
   ]
  },
  {
   "cell_type": "code",
   "execution_count": 33,
   "metadata": {},
   "outputs": [
    {
     "data": {
      "text/plain": [
       "2    26245\n",
       "3    26523\n",
       "4    28274\n",
       "Name: Start, dtype: int64"
      ]
     },
     "execution_count": 33,
     "metadata": {},
     "output_type": "execute_result"
    }
   ],
   "source": [
    "#alternative method:\n",
    "endgenes[\"Start\"]"
   ]
  },
  {
   "cell_type": "markdown",
   "metadata": {},
   "source": [
    "### More complex subsetting using Boolean operators"
   ]
  },
  {
   "cell_type": "code",
   "execution_count": 34,
   "metadata": {},
   "outputs": [
    {
     "data": {
      "text/html": [
       "<div>\n",
       "<style scoped>\n",
       "    .dataframe tbody tr th:only-of-type {\n",
       "        vertical-align: middle;\n",
       "    }\n",
       "\n",
       "    .dataframe tbody tr th {\n",
       "        vertical-align: top;\n",
       "    }\n",
       "\n",
       "    .dataframe thead th {\n",
       "        text-align: right;\n",
       "    }\n",
       "</style>\n",
       "<table border=\"1\" class=\"dataframe\">\n",
       "  <thead>\n",
       "    <tr style=\"text-align: right;\">\n",
       "      <th></th>\n",
       "      <th>Name</th>\n",
       "      <th>Start</th>\n",
       "      <th>Stop</th>\n",
       "      <th>Product</th>\n",
       "      <th>Lengths</th>\n",
       "    </tr>\n",
       "  </thead>\n",
       "  <tbody>\n",
       "    <tr>\n",
       "      <th>0</th>\n",
       "      <td>ORF1ab</td>\n",
       "      <td>266</td>\n",
       "      <td>21555</td>\n",
       "      <td>ORF1ab polyprotein</td>\n",
       "      <td>21289</td>\n",
       "    </tr>\n",
       "    <tr>\n",
       "      <th>1</th>\n",
       "      <td>S</td>\n",
       "      <td>21563</td>\n",
       "      <td>25384</td>\n",
       "      <td>surface glycoprotein</td>\n",
       "      <td>3821</td>\n",
       "    </tr>\n",
       "    <tr>\n",
       "      <th>2</th>\n",
       "      <td>E</td>\n",
       "      <td>26245</td>\n",
       "      <td>26472</td>\n",
       "      <td>envelope protein</td>\n",
       "      <td>227</td>\n",
       "    </tr>\n",
       "    <tr>\n",
       "      <th>3</th>\n",
       "      <td>M</td>\n",
       "      <td>26523</td>\n",
       "      <td>27191</td>\n",
       "      <td>membrane glycoprotein</td>\n",
       "      <td>668</td>\n",
       "    </tr>\n",
       "    <tr>\n",
       "      <th>4</th>\n",
       "      <td>N</td>\n",
       "      <td>28274</td>\n",
       "      <td>29533</td>\n",
       "      <td>nucleocapsid phosphoprotein</td>\n",
       "      <td>1259</td>\n",
       "    </tr>\n",
       "  </tbody>\n",
       "</table>\n",
       "</div>"
      ],
      "text/plain": [
       "     Name  Start   Stop                      Product  Lengths\n",
       "0  ORF1ab    266  21555           ORF1ab polyprotein    21289\n",
       "1       S  21563  25384         surface glycoprotein     3821\n",
       "2       E  26245  26472             envelope protein      227\n",
       "3       M  26523  27191        membrane glycoprotein      668\n",
       "4       N  28274  29533  nucleocapsid phosphoprotein     1259"
      ]
     },
     "execution_count": 34,
     "metadata": {},
     "output_type": "execute_result"
    }
   ],
   "source": [
    "df"
   ]
  },
  {
   "cell_type": "code",
   "execution_count": 35,
   "metadata": {},
   "outputs": [
    {
     "data": {
      "text/plain": [
       "False"
      ]
     },
     "execution_count": 35,
     "metadata": {},
     "output_type": "execute_result"
    }
   ],
   "source": [
    "\"glycoprotein\" in df[\"Product\"]"
   ]
  },
  {
   "cell_type": "markdown",
   "metadata": {},
   "source": [
    "### Creating new columns by computing on existing columns"
   ]
  },
  {
   "cell_type": "code",
   "execution_count": 36,
   "metadata": {
    "scrolled": true
   },
   "outputs": [
    {
     "data": {
      "text/plain": [
       "0    21289\n",
       "1     3821\n",
       "2      227\n",
       "3      668\n",
       "4     1259\n",
       "dtype: int64"
      ]
     },
     "execution_count": 36,
     "metadata": {},
     "output_type": "execute_result"
    }
   ],
   "source": [
    "# calculation of lengths\n",
    "df.Stop - df.Start"
   ]
  },
  {
   "cell_type": "code",
   "execution_count": 40,
   "metadata": {},
   "outputs": [
    {
     "data": {
      "text/html": [
       "<div>\n",
       "<style scoped>\n",
       "    .dataframe tbody tr th:only-of-type {\n",
       "        vertical-align: middle;\n",
       "    }\n",
       "\n",
       "    .dataframe tbody tr th {\n",
       "        vertical-align: top;\n",
       "    }\n",
       "\n",
       "    .dataframe thead th {\n",
       "        text-align: right;\n",
       "    }\n",
       "</style>\n",
       "<table border=\"1\" class=\"dataframe\">\n",
       "  <thead>\n",
       "    <tr style=\"text-align: right;\">\n",
       "      <th></th>\n",
       "      <th>Name</th>\n",
       "      <th>Start</th>\n",
       "      <th>Stop</th>\n",
       "      <th>Product</th>\n",
       "      <th>Lengths</th>\n",
       "      <th>Length</th>\n",
       "    </tr>\n",
       "  </thead>\n",
       "  <tbody>\n",
       "    <tr>\n",
       "      <th>0</th>\n",
       "      <td>ORF1ab</td>\n",
       "      <td>266</td>\n",
       "      <td>21555</td>\n",
       "      <td>ORF1ab polyprotein</td>\n",
       "      <td>21289</td>\n",
       "      <td>21289</td>\n",
       "    </tr>\n",
       "    <tr>\n",
       "      <th>1</th>\n",
       "      <td>S</td>\n",
       "      <td>21563</td>\n",
       "      <td>25384</td>\n",
       "      <td>surface glycoprotein</td>\n",
       "      <td>3821</td>\n",
       "      <td>3821</td>\n",
       "    </tr>\n",
       "    <tr>\n",
       "      <th>2</th>\n",
       "      <td>E</td>\n",
       "      <td>26245</td>\n",
       "      <td>26472</td>\n",
       "      <td>envelope protein</td>\n",
       "      <td>227</td>\n",
       "      <td>227</td>\n",
       "    </tr>\n",
       "    <tr>\n",
       "      <th>3</th>\n",
       "      <td>M</td>\n",
       "      <td>26523</td>\n",
       "      <td>27191</td>\n",
       "      <td>membrane glycoprotein</td>\n",
       "      <td>668</td>\n",
       "      <td>668</td>\n",
       "    </tr>\n",
       "    <tr>\n",
       "      <th>4</th>\n",
       "      <td>N</td>\n",
       "      <td>28274</td>\n",
       "      <td>29533</td>\n",
       "      <td>nucleocapsid phosphoprotein</td>\n",
       "      <td>1259</td>\n",
       "      <td>1259</td>\n",
       "    </tr>\n",
       "  </tbody>\n",
       "</table>\n",
       "</div>"
      ],
      "text/plain": [
       "     Name  Start   Stop                      Product  Lengths  Length\n",
       "0  ORF1ab    266  21555           ORF1ab polyprotein    21289   21289\n",
       "1       S  21563  25384         surface glycoprotein     3821    3821\n",
       "2       E  26245  26472             envelope protein      227     227\n",
       "3       M  26523  27191        membrane glycoprotein      668     668\n",
       "4       N  28274  29533  nucleocapsid phosphoprotein     1259    1259"
      ]
     },
     "execution_count": 40,
     "metadata": {},
     "output_type": "execute_result"
    }
   ],
   "source": [
    "# assigning calculation of lengths to new column\n",
    "df[\"Length\"] = df.Stop - df.Start\n",
    "df"
   ]
  },
  {
   "cell_type": "code",
   "execution_count": 41,
   "metadata": {},
   "outputs": [
    {
     "data": {
      "text/html": [
       "<div>\n",
       "<style scoped>\n",
       "    .dataframe tbody tr th:only-of-type {\n",
       "        vertical-align: middle;\n",
       "    }\n",
       "\n",
       "    .dataframe tbody tr th {\n",
       "        vertical-align: top;\n",
       "    }\n",
       "\n",
       "    .dataframe thead th {\n",
       "        text-align: right;\n",
       "    }\n",
       "</style>\n",
       "<table border=\"1\" class=\"dataframe\">\n",
       "  <thead>\n",
       "    <tr style=\"text-align: right;\">\n",
       "      <th></th>\n",
       "      <th>Name</th>\n",
       "      <th>Start</th>\n",
       "      <th>Stop</th>\n",
       "      <th>Product</th>\n",
       "      <th>Lengths</th>\n",
       "      <th>Length</th>\n",
       "    </tr>\n",
       "  </thead>\n",
       "  <tbody>\n",
       "    <tr>\n",
       "      <th>3</th>\n",
       "      <td>M</td>\n",
       "      <td>26523</td>\n",
       "      <td>27191</td>\n",
       "      <td>membrane glycoprotein</td>\n",
       "      <td>668</td>\n",
       "      <td>668</td>\n",
       "    </tr>\n",
       "    <tr>\n",
       "      <th>4</th>\n",
       "      <td>N</td>\n",
       "      <td>28274</td>\n",
       "      <td>29533</td>\n",
       "      <td>nucleocapsid phosphoprotein</td>\n",
       "      <td>1259</td>\n",
       "      <td>1259</td>\n",
       "    </tr>\n",
       "  </tbody>\n",
       "</table>\n",
       "</div>"
      ],
      "text/plain": [
       "  Name  Start   Stop                      Product  Lengths  Length\n",
       "3    M  26523  27191        membrane glycoprotein      668     668\n",
       "4    N  28274  29533  nucleocapsid phosphoprotein     1259    1259"
      ]
     },
     "execution_count": 41,
     "metadata": {},
     "output_type": "execute_result"
    }
   ],
   "source": [
    "df[(df.Start > 25000) & (df.Length > 500)]"
   ]
  },
  {
   "cell_type": "markdown",
   "metadata": {},
   "source": [
    "### Creating plots from DataFrames"
   ]
  },
  {
   "cell_type": "code",
   "execution_count": 42,
   "metadata": {},
   "outputs": [
    {
     "data": {
      "text/html": [
       "<div>\n",
       "<style scoped>\n",
       "    .dataframe tbody tr th:only-of-type {\n",
       "        vertical-align: middle;\n",
       "    }\n",
       "\n",
       "    .dataframe tbody tr th {\n",
       "        vertical-align: top;\n",
       "    }\n",
       "\n",
       "    .dataframe thead th {\n",
       "        text-align: right;\n",
       "    }\n",
       "</style>\n",
       "<table border=\"1\" class=\"dataframe\">\n",
       "  <thead>\n",
       "    <tr style=\"text-align: right;\">\n",
       "      <th></th>\n",
       "      <th>Name</th>\n",
       "      <th>Start</th>\n",
       "      <th>Stop</th>\n",
       "      <th>Product</th>\n",
       "      <th>Lengths</th>\n",
       "      <th>Length</th>\n",
       "    </tr>\n",
       "  </thead>\n",
       "  <tbody>\n",
       "    <tr>\n",
       "      <th>0</th>\n",
       "      <td>ORF1ab</td>\n",
       "      <td>266</td>\n",
       "      <td>21555</td>\n",
       "      <td>ORF1ab polyprotein</td>\n",
       "      <td>21289</td>\n",
       "      <td>21289</td>\n",
       "    </tr>\n",
       "    <tr>\n",
       "      <th>1</th>\n",
       "      <td>S</td>\n",
       "      <td>21563</td>\n",
       "      <td>25384</td>\n",
       "      <td>surface glycoprotein</td>\n",
       "      <td>3821</td>\n",
       "      <td>3821</td>\n",
       "    </tr>\n",
       "    <tr>\n",
       "      <th>2</th>\n",
       "      <td>E</td>\n",
       "      <td>26245</td>\n",
       "      <td>26472</td>\n",
       "      <td>envelope protein</td>\n",
       "      <td>227</td>\n",
       "      <td>227</td>\n",
       "    </tr>\n",
       "    <tr>\n",
       "      <th>3</th>\n",
       "      <td>M</td>\n",
       "      <td>26523</td>\n",
       "      <td>27191</td>\n",
       "      <td>membrane glycoprotein</td>\n",
       "      <td>668</td>\n",
       "      <td>668</td>\n",
       "    </tr>\n",
       "    <tr>\n",
       "      <th>4</th>\n",
       "      <td>N</td>\n",
       "      <td>28274</td>\n",
       "      <td>29533</td>\n",
       "      <td>nucleocapsid phosphoprotein</td>\n",
       "      <td>1259</td>\n",
       "      <td>1259</td>\n",
       "    </tr>\n",
       "  </tbody>\n",
       "</table>\n",
       "</div>"
      ],
      "text/plain": [
       "     Name  Start   Stop                      Product  Lengths  Length\n",
       "0  ORF1ab    266  21555           ORF1ab polyprotein    21289   21289\n",
       "1       S  21563  25384         surface glycoprotein     3821    3821\n",
       "2       E  26245  26472             envelope protein      227     227\n",
       "3       M  26523  27191        membrane glycoprotein      668     668\n",
       "4       N  28274  29533  nucleocapsid phosphoprotein     1259    1259"
      ]
     },
     "execution_count": 42,
     "metadata": {},
     "output_type": "execute_result"
    }
   ],
   "source": [
    "df"
   ]
  },
  {
   "cell_type": "code",
   "execution_count": 44,
   "metadata": {},
   "outputs": [],
   "source": [
    "from matplotlib import pyplot as plt"
   ]
  },
  {
   "cell_type": "code",
   "execution_count": 45,
   "metadata": {
    "scrolled": true
   },
   "outputs": [
    {
     "data": {
      "text/plain": [
       "(array([3., 1., 0., 0., 0., 0., 0., 0., 0., 1.]),\n",
       " array([  227. ,  2333.2,  4439.4,  6545.6,  8651.8, 10758. , 12864.2,\n",
       "        14970.4, 17076.6, 19182.8, 21289. ]),\n",
       " <a list of 10 Patch objects>)"
      ]
     },
     "execution_count": 45,
     "metadata": {},
     "output_type": "execute_result"
    },
    {
     "data": {
      "image/png": "[encoded data removed]",
      "text/plain": [
       "<Figure size 432x288 with 1 Axes>"
      ]
     },
     "metadata": {
      "needs_background": "light"
     },
     "output_type": "display_data"
    }
   ],
   "source": [
    "plt.hist(df.Length)"
   ]
  },
  {
   "cell_type": "code",
   "execution_count": 46,
   "metadata": {},
   "outputs": [
    {
     "data": {
      "text/plain": [
       "<matplotlib.axes._subplots.AxesSubplot at 0x1c3199c5b80>"
      ]
     },
     "execution_count": 46,
     "metadata": {},
     "output_type": "execute_result"
    },
    {
     "data": {
      "image/png": "[encoded data removed]",
      "text/plain": [
       "<Figure size 432x288 with 1 Axes>"
      ]
     },
     "metadata": {
      "needs_background": "light"
     },
     "output_type": "display_data"
    }
   ],
   "source": [
    "df[\"Length\"].plot.hist()"
   ]
  },
  {
   "cell_type": "markdown",
   "metadata": {},
   "source": [
    "### Summary statistics from DataFrames"
   ]
  },
  {
   "cell_type": "code",
   "execution_count": 47,
   "metadata": {
    "scrolled": true
   },
   "outputs": [
    {
     "data": {
      "text/plain": [
       "5452.8"
      ]
     },
     "execution_count": 47,
     "metadata": {},
     "output_type": "execute_result"
    }
   ],
   "source": [
    "# mean of gene lenghts\n",
    "df[\"Length\"].mean()"
   ]
  },
  {
   "cell_type": "code",
   "execution_count": 48,
   "metadata": {},
   "outputs": [
    {
     "data": {
      "text/plain": [
       "1259.0"
      ]
     },
     "execution_count": 48,
     "metadata": {},
     "output_type": "execute_result"
    }
   ],
   "source": [
    "# median of gene lengths\n",
    "df[\"Length\"].median()"
   ]
  },
  {
   "cell_type": "code",
   "execution_count": 51,
   "metadata": {},
   "outputs": [
    {
     "data": {
      "text/plain": [
       "0      227\n",
       "1      668\n",
       "2     1259\n",
       "3     3821\n",
       "4    21289\n",
       "dtype: int64"
      ]
     },
     "execution_count": 51,
     "metadata": {},
     "output_type": "execute_result"
    }
   ],
   "source": [
    "# mode of gene lengths\n",
    "df[\"Lengths\"].mode()"
   ]
  },
  {
   "cell_type": "markdown",
   "metadata": {},
   "source": [
    "## Working with a table of features from the Saccharomyces Genome Database (SGD)\n",
    "\n",
    "The file [`SGD_features.tsv`](https://github.com/bio208fs-class/bio208fs-lecture/raw/master/data/SGD_features.tsv) is a tab-delimited file I downloaded from SGD that summarizes key pieces of information about genome features in the budding yeast genome.  The original file can be found here: http://sgd-archive.yeastgenome.org/curation/chromosomal_feature/\n",
    "\n",
    "Here's a short summary of the contents of this file, from the \"SGD_features.README\" document:\n",
    "\n",
    "```\n",
    "1. Information on current chromosomal features in SGD, including Dubious ORFs. \n",
    "Also contains coordinates of intron, exons, and other subfeatures that are located within a chromosomal feature.\n",
    "\n",
    "2. The relationship between subfeatures and the feature in which they\n",
    "are located is identified by the feature name in column #7 (parent\n",
    "feature). For example, the parent feature of the intron found in\n",
    "ACT1/YFL039C will be YFL039C. The parent feature of YFL039C is\n",
    "chromosome 6.\n",
    "\n",
    "3. The coordinates of all features are in chromosomal coordinates.\n",
    "\n",
    "Columns within SGD_features.tab:\n",
    "\n",
    "1.   Primary SGDID (mandatory)\n",
    "2.   Feature type (mandatory)\n",
    "3.   Feature qualifier (optional)\n",
    "4.   Feature name (optional)\n",
    "5.   Standard gene name (optional)\n",
    "6.   Alias (optional, multiples separated by |)\n",
    "7.   Parent feature name (optional)\n",
    "8.   Secondary SGDID (optional, multiples separated by |)\n",
    "9.   Chromosome (optional)\n",
    "10.  Start_coordinate (optional)\n",
    "11.  Stop_coordinate (optional)\n",
    "12.  Strand (optional)\n",
    "13.  Genetic position (optional)\n",
    "14.  Coordinate version (optional)\n",
    "15.  Sequence version (optional)\n",
    "16.  Description (optional)\n",
    "\n",
    "Note that \"chromosome 17\" is the mitochondrial chromosome.\n",
    "```\n"
   ]
  },
  {
   "cell_type": "markdown",
   "metadata": {},
   "source": [
    "Download [`SGD_features.tsv`](https://github.com/bio208fs-class/bio208fs-lecture/raw/master/data/SGD_features.tsv) to your computer and then load it using the `read_csv` function, specifying the delimiter argument as a tab:"
   ]
  },
  {
   "cell_type": "code",
   "execution_count": 53,
   "metadata": {},
   "outputs": [],
   "source": [
    "features = pd.read_csv(\"C:/Users/cleve/OneDrive/Documents/Notes/Notebooks Linked Materials/Duke University/Bio 208 Computing on the Genome/SGD_features.tsv\", delimiter = \"\\t\")"
   ]
  },
  {
   "cell_type": "code",
   "execution_count": 54,
   "metadata": {
    "scrolled": true
   },
   "outputs": [
    {
     "data": {
      "text/plain": [
       "(16454, 16)"
      ]
     },
     "execution_count": 54,
     "metadata": {},
     "output_type": "execute_result"
    }
   ],
   "source": [
    "features.shape"
   ]
  },
  {
   "cell_type": "code",
   "execution_count": 55,
   "metadata": {
    "scrolled": true
   },
   "outputs": [
    {
     "data": {
      "text/html": [
       "<div>\n",
       "<style scoped>\n",
       "    .dataframe tbody tr th:only-of-type {\n",
       "        vertical-align: middle;\n",
       "    }\n",
       "\n",
       "    .dataframe tbody tr th {\n",
       "        vertical-align: top;\n",
       "    }\n",
       "\n",
       "    .dataframe thead th {\n",
       "        text-align: right;\n",
       "    }\n",
       "</style>\n",
       "<table border=\"1\" class=\"dataframe\">\n",
       "  <thead>\n",
       "    <tr style=\"text-align: right;\">\n",
       "      <th></th>\n",
       "      <th>SGDID</th>\n",
       "      <th>Type</th>\n",
       "      <th>Qualifier</th>\n",
       "      <th>Name</th>\n",
       "      <th>Gene</th>\n",
       "      <th>Alias</th>\n",
       "      <th>Parent</th>\n",
       "      <th>Secondary</th>\n",
       "      <th>Chromosome</th>\n",
       "      <th>Start</th>\n",
       "      <th>Stop</th>\n",
       "      <th>Strand</th>\n",
       "      <th>GeneticPosition</th>\n",
       "      <th>CoordVersion</th>\n",
       "      <th>SeqVersion</th>\n",
       "      <th>Description</th>\n",
       "    </tr>\n",
       "  </thead>\n",
       "  <tbody>\n",
       "    <tr>\n",
       "      <th>0</th>\n",
       "      <td>S000002143</td>\n",
       "      <td>ORF</td>\n",
       "      <td>Dubious</td>\n",
       "      <td>YAL069W</td>\n",
       "      <td>NaN</td>\n",
       "      <td>NaN</td>\n",
       "      <td>chromosome 1</td>\n",
       "      <td>NaN</td>\n",
       "      <td>1</td>\n",
       "      <td>335.0</td>\n",
       "      <td>649.0</td>\n",
       "      <td>W</td>\n",
       "      <td>NaN</td>\n",
       "      <td>7/31/96</td>\n",
       "      <td>7/31/96</td>\n",
       "      <td>Dubious open reading frame; unlikely to encode...</td>\n",
       "    </tr>\n",
       "    <tr>\n",
       "      <th>1</th>\n",
       "      <td>S000031098</td>\n",
       "      <td>CDS</td>\n",
       "      <td>NaN</td>\n",
       "      <td>NaN</td>\n",
       "      <td>NaN</td>\n",
       "      <td>NaN</td>\n",
       "      <td>YAL069W</td>\n",
       "      <td>NaN</td>\n",
       "      <td>1</td>\n",
       "      <td>335.0</td>\n",
       "      <td>649.0</td>\n",
       "      <td>W</td>\n",
       "      <td>NaN</td>\n",
       "      <td>7/31/96</td>\n",
       "      <td>7/31/96</td>\n",
       "      <td>NaN</td>\n",
       "    </tr>\n",
       "    <tr>\n",
       "      <th>2</th>\n",
       "      <td>S000028594</td>\n",
       "      <td>ORF</td>\n",
       "      <td>Dubious</td>\n",
       "      <td>YAL068W-A</td>\n",
       "      <td>NaN</td>\n",
       "      <td>NaN</td>\n",
       "      <td>chromosome 1</td>\n",
       "      <td>NaN</td>\n",
       "      <td>1</td>\n",
       "      <td>538.0</td>\n",
       "      <td>792.0</td>\n",
       "      <td>W</td>\n",
       "      <td>NaN</td>\n",
       "      <td>7/29/03</td>\n",
       "      <td>7/29/03</td>\n",
       "      <td>Dubious open reading frame; unlikely to encode...</td>\n",
       "    </tr>\n",
       "    <tr>\n",
       "      <th>3</th>\n",
       "      <td>S000031372</td>\n",
       "      <td>CDS</td>\n",
       "      <td>NaN</td>\n",
       "      <td>NaN</td>\n",
       "      <td>NaN</td>\n",
       "      <td>NaN</td>\n",
       "      <td>YAL068W-A</td>\n",
       "      <td>NaN</td>\n",
       "      <td>1</td>\n",
       "      <td>538.0</td>\n",
       "      <td>792.0</td>\n",
       "      <td>W</td>\n",
       "      <td>NaN</td>\n",
       "      <td>7/29/03</td>\n",
       "      <td>7/29/03</td>\n",
       "      <td>NaN</td>\n",
       "    </tr>\n",
       "    <tr>\n",
       "      <th>4</th>\n",
       "      <td>S000121252</td>\n",
       "      <td>ARS</td>\n",
       "      <td>NaN</td>\n",
       "      <td>ARS102</td>\n",
       "      <td>NaN</td>\n",
       "      <td>ARSI-1</td>\n",
       "      <td>chromosome 1</td>\n",
       "      <td>NaN</td>\n",
       "      <td>1</td>\n",
       "      <td>707.0</td>\n",
       "      <td>776.0</td>\n",
       "      <td>NaN</td>\n",
       "      <td>NaN</td>\n",
       "      <td>11/18/14</td>\n",
       "      <td>2014-11-18|2007-03-07</td>\n",
       "      <td>Autonomously Replicating Sequence</td>\n",
       "    </tr>\n",
       "  </tbody>\n",
       "</table>\n",
       "</div>"
      ],
      "text/plain": [
       "        SGDID Type Qualifier       Name Gene   Alias        Parent Secondary  \\\n",
       "0  S000002143  ORF   Dubious    YAL069W  NaN     NaN  chromosome 1       NaN   \n",
       "1  S000031098  CDS       NaN        NaN  NaN     NaN       YAL069W       NaN   \n",
       "2  S000028594  ORF   Dubious  YAL068W-A  NaN     NaN  chromosome 1       NaN   \n",
       "3  S000031372  CDS       NaN        NaN  NaN     NaN     YAL068W-A       NaN   \n",
       "4  S000121252  ARS       NaN     ARS102  NaN  ARSI-1  chromosome 1       NaN   \n",
       "\n",
       "  Chromosome  Start   Stop Strand  GeneticPosition CoordVersion  \\\n",
       "0          1  335.0  649.0      W              NaN      7/31/96   \n",
       "1          1  335.0  649.0      W              NaN      7/31/96   \n",
       "2          1  538.0  792.0      W              NaN      7/29/03   \n",
       "3          1  538.0  792.0      W              NaN      7/29/03   \n",
       "4          1  707.0  776.0    NaN              NaN     11/18/14   \n",
       "\n",
       "              SeqVersion                                        Description  \n",
       "0                7/31/96  Dubious open reading frame; unlikely to encode...  \n",
       "1                7/31/96                                                NaN  \n",
       "2                7/29/03  Dubious open reading frame; unlikely to encode...  \n",
       "3                7/29/03                                                NaN  \n",
       "4  2014-11-18|2007-03-07                  Autonomously Replicating Sequence  "
      ]
     },
     "execution_count": 55,
     "metadata": {},
     "output_type": "execute_result"
    }
   ],
   "source": [
    "features.head()"
   ]
  },
  {
   "cell_type": "code",
   "execution_count": 56,
   "metadata": {},
   "outputs": [],
   "source": [
    "# function to read tsv\n",
    "def read_tsv(fname):\n",
    "        return pd.read_csv(fname, delimiter=\"\\t\")"
   ]
  },
  {
   "cell_type": "markdown",
   "metadata": {},
   "source": [
    "### How many genome features are there in the  yeast genome?"
   ]
  },
  {
   "cell_type": "markdown",
   "metadata": {},
   "source": [
    "### How  many of those features are annotated as \"ORFs\" (open reading frames)?"
   ]
  },
  {
   "cell_type": "code",
   "execution_count": 58,
   "metadata": {
    "scrolled": true
   },
   "outputs": [
    {
     "data": {
      "text/plain": [
       "(6604, 16)"
      ]
     },
     "execution_count": 58,
     "metadata": {},
     "output_type": "execute_result"
    }
   ],
   "source": [
    "orfs = features[features.Type == \"ORF\"]\n",
    "orfs.shape"
   ]
  },
  {
   "cell_type": "code",
   "execution_count": 59,
   "metadata": {},
   "outputs": [
    {
     "data": {
      "text/plain": [
       "(717, 16)"
      ]
     },
     "execution_count": 59,
     "metadata": {},
     "output_type": "execute_result"
    }
   ],
   "source": [
    "dubious_ones = features[features.Qualifier == \"Dubious\"]\n",
    "dubious_ones.shape"
   ]
  },
  {
   "cell_type": "code",
   "execution_count": 61,
   "metadata": {
    "scrolled": true
   },
   "outputs": [
    {
     "data": {
      "text/plain": [
       "(717, 16)"
      ]
     },
     "execution_count": 61,
     "metadata": {},
     "output_type": "execute_result"
    }
   ],
   "source": [
    "dubious = orfs[orfs.Qualifier == \"Dubious\"]\n",
    "dubious.shape"
   ]
  },
  {
   "cell_type": "code",
   "execution_count": 63,
   "metadata": {},
   "outputs": [
    {
     "data": {
      "text/plain": [
       "(5155, 16)"
      ]
     },
     "execution_count": 63,
     "metadata": {},
     "output_type": "execute_result"
    }
   ],
   "source": [
    "validated = orfs[orfs.Qualifier == \"Verified\"]\n",
    "validated.shape"
   ]
  },
  {
   "cell_type": "code",
   "execution_count": null,
   "metadata": {},
   "outputs": [],
   "source": [
    "# 5155 + 717 != 6604, so must be classificiations in between"
   ]
  },
  {
   "cell_type": "markdown",
   "metadata": {},
   "source": [
    "### How many of the ORFS are designated as \"Dubious\"? How many are \"Validated\"?"
   ]
  },
  {
   "cell_type": "code",
   "execution_count": 64,
   "metadata": {
    "scrolled": true
   },
   "outputs": [
    {
     "name": "stderr",
     "output_type": "stream",
     "text": [
      "<ipython-input-64-2ee101a0b9af>:1: SettingWithCopyWarning: \n",
      "A value is trying to be set on a copy of a slice from a DataFrame.\n",
      "Try using .loc[row_indexer,col_indexer] = value instead\n",
      "\n",
      "See the caveats in the documentation: https://pandas.pydata.org/pandas-docs/stable/user_guide/indexing.html#returning-a-view-versus-a-copy\n",
      "  orfs[\"Length\"] = orfs.Stop - orfs.Start\n"
     ]
    }
   ],
   "source": [
    "orfs[\"Length\"] = orfs.Stop - orfs.Start\n",
    "# error code irrelevant, still get Length in orfs"
   ]
  },
  {
   "cell_type": "code",
   "execution_count": 65,
   "metadata": {
    "scrolled": true
   },
   "outputs": [
    {
     "data": {
      "text/html": [
       "<div>\n",
       "<style scoped>\n",
       "    .dataframe tbody tr th:only-of-type {\n",
       "        vertical-align: middle;\n",
       "    }\n",
       "\n",
       "    .dataframe tbody tr th {\n",
       "        vertical-align: top;\n",
       "    }\n",
       "\n",
       "    .dataframe thead th {\n",
       "        text-align: right;\n",
       "    }\n",
       "</style>\n",
       "<table border=\"1\" class=\"dataframe\">\n",
       "  <thead>\n",
       "    <tr style=\"text-align: right;\">\n",
       "      <th></th>\n",
       "      <th>SGDID</th>\n",
       "      <th>Type</th>\n",
       "      <th>Qualifier</th>\n",
       "      <th>Name</th>\n",
       "      <th>Gene</th>\n",
       "      <th>Alias</th>\n",
       "      <th>Parent</th>\n",
       "      <th>Secondary</th>\n",
       "      <th>Chromosome</th>\n",
       "      <th>Start</th>\n",
       "      <th>Stop</th>\n",
       "      <th>Strand</th>\n",
       "      <th>GeneticPosition</th>\n",
       "      <th>CoordVersion</th>\n",
       "      <th>SeqVersion</th>\n",
       "      <th>Description</th>\n",
       "      <th>Length</th>\n",
       "    </tr>\n",
       "  </thead>\n",
       "  <tbody>\n",
       "    <tr>\n",
       "      <th>0</th>\n",
       "      <td>S000002143</td>\n",
       "      <td>ORF</td>\n",
       "      <td>Dubious</td>\n",
       "      <td>YAL069W</td>\n",
       "      <td>NaN</td>\n",
       "      <td>NaN</td>\n",
       "      <td>chromosome 1</td>\n",
       "      <td>NaN</td>\n",
       "      <td>1</td>\n",
       "      <td>335.0</td>\n",
       "      <td>649.0</td>\n",
       "      <td>W</td>\n",
       "      <td>NaN</td>\n",
       "      <td>7/31/96</td>\n",
       "      <td>7/31/96</td>\n",
       "      <td>Dubious open reading frame; unlikely to encode...</td>\n",
       "      <td>314.0</td>\n",
       "    </tr>\n",
       "    <tr>\n",
       "      <th>2</th>\n",
       "      <td>S000028594</td>\n",
       "      <td>ORF</td>\n",
       "      <td>Dubious</td>\n",
       "      <td>YAL068W-A</td>\n",
       "      <td>NaN</td>\n",
       "      <td>NaN</td>\n",
       "      <td>chromosome 1</td>\n",
       "      <td>NaN</td>\n",
       "      <td>1</td>\n",
       "      <td>538.0</td>\n",
       "      <td>792.0</td>\n",
       "      <td>W</td>\n",
       "      <td>NaN</td>\n",
       "      <td>7/29/03</td>\n",
       "      <td>7/29/03</td>\n",
       "      <td>Dubious open reading frame; unlikely to encode...</td>\n",
       "      <td>254.0</td>\n",
       "    </tr>\n",
       "    <tr>\n",
       "      <th>9</th>\n",
       "      <td>S000002142</td>\n",
       "      <td>ORF</td>\n",
       "      <td>Verified</td>\n",
       "      <td>YAL068C</td>\n",
       "      <td>PAU8</td>\n",
       "      <td>seripauperin PAU8</td>\n",
       "      <td>chromosome 1</td>\n",
       "      <td>NaN</td>\n",
       "      <td>1</td>\n",
       "      <td>2169.0</td>\n",
       "      <td>1807.0</td>\n",
       "      <td>C</td>\n",
       "      <td>NaN</td>\n",
       "      <td>7/31/96</td>\n",
       "      <td>7/31/96</td>\n",
       "      <td>Protein of unknown function; member of the ser...</td>\n",
       "      <td>-362.0</td>\n",
       "    </tr>\n",
       "    <tr>\n",
       "      <th>11</th>\n",
       "      <td>S000028593</td>\n",
       "      <td>ORF</td>\n",
       "      <td>Uncharacterized</td>\n",
       "      <td>YAL067W-A</td>\n",
       "      <td>NaN</td>\n",
       "      <td>NaN</td>\n",
       "      <td>chromosome 1</td>\n",
       "      <td>NaN</td>\n",
       "      <td>1</td>\n",
       "      <td>2480.0</td>\n",
       "      <td>2707.0</td>\n",
       "      <td>W</td>\n",
       "      <td>NaN</td>\n",
       "      <td>7/29/03</td>\n",
       "      <td>7/29/03</td>\n",
       "      <td>Putative protein of unknown function; identifi...</td>\n",
       "      <td>227.0</td>\n",
       "    </tr>\n",
       "    <tr>\n",
       "      <th>14</th>\n",
       "      <td>S000000062</td>\n",
       "      <td>ORF</td>\n",
       "      <td>Verified</td>\n",
       "      <td>YAL067C</td>\n",
       "      <td>SEO1</td>\n",
       "      <td>putative permease SEO1</td>\n",
       "      <td>chromosome 1</td>\n",
       "      <td>L000003363</td>\n",
       "      <td>1</td>\n",
       "      <td>9016.0</td>\n",
       "      <td>7235.0</td>\n",
       "      <td>C</td>\n",
       "      <td>NaN</td>\n",
       "      <td>2/3/11</td>\n",
       "      <td>7/31/96</td>\n",
       "      <td>Putative permease; member of the allantoate tr...</td>\n",
       "      <td>-1781.0</td>\n",
       "    </tr>\n",
       "    <tr>\n",
       "      <th>...</th>\n",
       "      <td>...</td>\n",
       "      <td>...</td>\n",
       "      <td>...</td>\n",
       "      <td>...</td>\n",
       "      <td>...</td>\n",
       "      <td>...</td>\n",
       "      <td>...</td>\n",
       "      <td>...</td>\n",
       "      <td>...</td>\n",
       "      <td>...</td>\n",
       "      <td>...</td>\n",
       "      <td>...</td>\n",
       "      <td>...</td>\n",
       "      <td>...</td>\n",
       "      <td>...</td>\n",
       "      <td>...</td>\n",
       "      <td>...</td>\n",
       "    </tr>\n",
       "    <tr>\n",
       "      <th>16372</th>\n",
       "      <td>S000001477</td>\n",
       "      <td>ORF</td>\n",
       "      <td>Verified</td>\n",
       "      <td>YIR038C</td>\n",
       "      <td>GTT1</td>\n",
       "      <td>bifunctional glutathione transferase/peroxidase</td>\n",
       "      <td>chromosome 9</td>\n",
       "      <td>L000004612</td>\n",
       "      <td>9</td>\n",
       "      <td>424513.0</td>\n",
       "      <td>423809.0</td>\n",
       "      <td>C</td>\n",
       "      <td>NaN</td>\n",
       "      <td>2/3/11</td>\n",
       "      <td>12/10/94</td>\n",
       "      <td>ER associated glutathione S-transferase; capab...</td>\n",
       "      <td>-704.0</td>\n",
       "    </tr>\n",
       "    <tr>\n",
       "      <th>16375</th>\n",
       "      <td>S000001478</td>\n",
       "      <td>ORF</td>\n",
       "      <td>Verified</td>\n",
       "      <td>YIR039C</td>\n",
       "      <td>YPS6</td>\n",
       "      <td>aspartyl protease</td>\n",
       "      <td>chromosome 9</td>\n",
       "      <td>L000004386</td>\n",
       "      <td>9</td>\n",
       "      <td>432111.0</td>\n",
       "      <td>430498.0</td>\n",
       "      <td>C</td>\n",
       "      <td>NaN</td>\n",
       "      <td>2/3/11</td>\n",
       "      <td>12/10/94</td>\n",
       "      <td>Putative GPI-anchored aspartic protease; membe...</td>\n",
       "      <td>-1613.0</td>\n",
       "    </tr>\n",
       "    <tr>\n",
       "      <th>16377</th>\n",
       "      <td>S000001479</td>\n",
       "      <td>ORF</td>\n",
       "      <td>Dubious</td>\n",
       "      <td>YIR040C</td>\n",
       "      <td>NaN</td>\n",
       "      <td>NaN</td>\n",
       "      <td>chromosome 9</td>\n",
       "      <td>NaN</td>\n",
       "      <td>9</td>\n",
       "      <td>433721.0</td>\n",
       "      <td>433389.0</td>\n",
       "      <td>C</td>\n",
       "      <td>NaN</td>\n",
       "      <td>2/3/11</td>\n",
       "      <td>12/10/94</td>\n",
       "      <td>Dubious open reading frame; unlikely to encode...</td>\n",
       "      <td>-332.0</td>\n",
       "    </tr>\n",
       "    <tr>\n",
       "      <th>16379</th>\n",
       "      <td>S000001480</td>\n",
       "      <td>ORF</td>\n",
       "      <td>Verified</td>\n",
       "      <td>YIR041W</td>\n",
       "      <td>PAU15</td>\n",
       "      <td>seripauperin PAU15</td>\n",
       "      <td>chromosome 9</td>\n",
       "      <td>NaN</td>\n",
       "      <td>9</td>\n",
       "      <td>433929.0</td>\n",
       "      <td>434303.0</td>\n",
       "      <td>W</td>\n",
       "      <td>NaN</td>\n",
       "      <td>2/3/11</td>\n",
       "      <td>12/10/94</td>\n",
       "      <td>Protein of unknown function; member of the ser...</td>\n",
       "      <td>374.0</td>\n",
       "    </tr>\n",
       "    <tr>\n",
       "      <th>16381</th>\n",
       "      <td>S000001481</td>\n",
       "      <td>ORF</td>\n",
       "      <td>Uncharacterized</td>\n",
       "      <td>YIR042C</td>\n",
       "      <td>NaN</td>\n",
       "      <td>NaN</td>\n",
       "      <td>chromosome 9</td>\n",
       "      <td>NaN</td>\n",
       "      <td>9</td>\n",
       "      <td>435983.0</td>\n",
       "      <td>435273.0</td>\n",
       "      <td>C</td>\n",
       "      <td>NaN</td>\n",
       "      <td>2/3/11</td>\n",
       "      <td>12/10/94</td>\n",
       "      <td>Putative protein of unknown function; YIR042C ...</td>\n",
       "      <td>-710.0</td>\n",
       "    </tr>\n",
       "  </tbody>\n",
       "</table>\n",
       "<p>6604 rows × 17 columns</p>\n",
       "</div>"
      ],
      "text/plain": [
       "            SGDID Type        Qualifier       Name   Gene  \\\n",
       "0      S000002143  ORF          Dubious    YAL069W    NaN   \n",
       "2      S000028594  ORF          Dubious  YAL068W-A    NaN   \n",
       "9      S000002142  ORF         Verified    YAL068C   PAU8   \n",
       "11     S000028593  ORF  Uncharacterized  YAL067W-A    NaN   \n",
       "14     S000000062  ORF         Verified    YAL067C   SEO1   \n",
       "...           ...  ...              ...        ...    ...   \n",
       "16372  S000001477  ORF         Verified    YIR038C   GTT1   \n",
       "16375  S000001478  ORF         Verified    YIR039C   YPS6   \n",
       "16377  S000001479  ORF          Dubious    YIR040C    NaN   \n",
       "16379  S000001480  ORF         Verified    YIR041W  PAU15   \n",
       "16381  S000001481  ORF  Uncharacterized    YIR042C    NaN   \n",
       "\n",
       "                                                 Alias        Parent  \\\n",
       "0                                                  NaN  chromosome 1   \n",
       "2                                                  NaN  chromosome 1   \n",
       "9                                    seripauperin PAU8  chromosome 1   \n",
       "11                                                 NaN  chromosome 1   \n",
       "14                              putative permease SEO1  chromosome 1   \n",
       "...                                                ...           ...   \n",
       "16372  bifunctional glutathione transferase/peroxidase  chromosome 9   \n",
       "16375                                aspartyl protease  chromosome 9   \n",
       "16377                                              NaN  chromosome 9   \n",
       "16379                               seripauperin PAU15  chromosome 9   \n",
       "16381                                              NaN  chromosome 9   \n",
       "\n",
       "        Secondary Chromosome     Start      Stop Strand  GeneticPosition  \\\n",
       "0             NaN          1     335.0     649.0      W              NaN   \n",
       "2             NaN          1     538.0     792.0      W              NaN   \n",
       "9             NaN          1    2169.0    1807.0      C              NaN   \n",
       "11            NaN          1    2480.0    2707.0      W              NaN   \n",
       "14     L000003363          1    9016.0    7235.0      C              NaN   \n",
       "...           ...        ...       ...       ...    ...              ...   \n",
       "16372  L000004612          9  424513.0  423809.0      C              NaN   \n",
       "16375  L000004386          9  432111.0  430498.0      C              NaN   \n",
       "16377         NaN          9  433721.0  433389.0      C              NaN   \n",
       "16379         NaN          9  433929.0  434303.0      W              NaN   \n",
       "16381         NaN          9  435983.0  435273.0      C              NaN   \n",
       "\n",
       "      CoordVersion SeqVersion  \\\n",
       "0          7/31/96    7/31/96   \n",
       "2          7/29/03    7/29/03   \n",
       "9          7/31/96    7/31/96   \n",
       "11         7/29/03    7/29/03   \n",
       "14          2/3/11    7/31/96   \n",
       "...            ...        ...   \n",
       "16372       2/3/11   12/10/94   \n",
       "16375       2/3/11   12/10/94   \n",
       "16377       2/3/11   12/10/94   \n",
       "16379       2/3/11   12/10/94   \n",
       "16381       2/3/11   12/10/94   \n",
       "\n",
       "                                             Description  Length  \n",
       "0      Dubious open reading frame; unlikely to encode...   314.0  \n",
       "2      Dubious open reading frame; unlikely to encode...   254.0  \n",
       "9      Protein of unknown function; member of the ser...  -362.0  \n",
       "11     Putative protein of unknown function; identifi...   227.0  \n",
       "14     Putative permease; member of the allantoate tr... -1781.0  \n",
       "...                                                  ...     ...  \n",
       "16372  ER associated glutathione S-transferase; capab...  -704.0  \n",
       "16375  Putative GPI-anchored aspartic protease; membe... -1613.0  \n",
       "16377  Dubious open reading frame; unlikely to encode...  -332.0  \n",
       "16379  Protein of unknown function; member of the ser...   374.0  \n",
       "16381  Putative protein of unknown function; YIR042C ...  -710.0  \n",
       "\n",
       "[6604 rows x 17 columns]"
      ]
     },
     "execution_count": 65,
     "metadata": {},
     "output_type": "execute_result"
    }
   ],
   "source": [
    "orfs"
   ]
  },
  {
   "cell_type": "code",
   "execution_count": 69,
   "metadata": {},
   "outputs": [
    {
     "ename": "AttributeError",
     "evalue": "'DataFrame' object has no attribute 'Length'",
     "output_type": "error",
     "traceback": [
      "\u001b[1;31m---------------------------------------------------------------------------\u001b[0m",
      "\u001b[1;31mAttributeError\u001b[0m                            Traceback (most recent call last)",
      "\u001b[1;32m<ipython-input-69-ad71a313f29f>\u001b[0m in \u001b[0;36m<module>\u001b[1;34m\u001b[0m\n\u001b[0;32m      1\u001b[0m \u001b[1;31m# plotting distribution of Dubious genes in Verified genes\u001b[0m\u001b[1;33m\u001b[0m\u001b[1;33m\u001b[0m\u001b[1;33m\u001b[0m\u001b[0m\n\u001b[1;32m----> 2\u001b[1;33m \u001b[0mplt\u001b[0m\u001b[1;33m.\u001b[0m\u001b[0mhist\u001b[0m\u001b[1;33m(\u001b[0m\u001b[0mvalidated\u001b[0m\u001b[1;33m.\u001b[0m\u001b[0mLength\u001b[0m\u001b[1;33m,\u001b[0m \u001b[0malpha\u001b[0m \u001b[1;33m=\u001b[0m \u001b[1;36m0.5\u001b[0m\u001b[1;33m)\u001b[0m                    \u001b[1;31m# alpha\u001b[0m\u001b[1;33m\u001b[0m\u001b[1;33m\u001b[0m\u001b[0m\n\u001b[0m",
      "\u001b[1;32m~\\anaconda3\\lib\\site-packages\\pandas\\core\\generic.py\u001b[0m in \u001b[0;36m__getattr__\u001b[1;34m(self, name)\u001b[0m\n\u001b[0;32m   5272\u001b[0m             \u001b[1;32mif\u001b[0m \u001b[0mself\u001b[0m\u001b[1;33m.\u001b[0m\u001b[0m_info_axis\u001b[0m\u001b[1;33m.\u001b[0m\u001b[0m_can_hold_identifiers_and_holds_name\u001b[0m\u001b[1;33m(\u001b[0m\u001b[0mname\u001b[0m\u001b[1;33m)\u001b[0m\u001b[1;33m:\u001b[0m\u001b[1;33m\u001b[0m\u001b[1;33m\u001b[0m\u001b[0m\n\u001b[0;32m   5273\u001b[0m                 \u001b[1;32mreturn\u001b[0m \u001b[0mself\u001b[0m\u001b[1;33m[\u001b[0m\u001b[0mname\u001b[0m\u001b[1;33m]\u001b[0m\u001b[1;33m\u001b[0m\u001b[1;33m\u001b[0m\u001b[0m\n\u001b[1;32m-> 5274\u001b[1;33m             \u001b[1;32mreturn\u001b[0m \u001b[0mobject\u001b[0m\u001b[1;33m.\u001b[0m\u001b[0m__getattribute__\u001b[0m\u001b[1;33m(\u001b[0m\u001b[0mself\u001b[0m\u001b[1;33m,\u001b[0m \u001b[0mname\u001b[0m\u001b[1;33m)\u001b[0m\u001b[1;33m\u001b[0m\u001b[1;33m\u001b[0m\u001b[0m\n\u001b[0m\u001b[0;32m   5275\u001b[0m \u001b[1;33m\u001b[0m\u001b[0m\n\u001b[0;32m   5276\u001b[0m     \u001b[1;32mdef\u001b[0m \u001b[0m__setattr__\u001b[0m\u001b[1;33m(\u001b[0m\u001b[0mself\u001b[0m\u001b[1;33m,\u001b[0m \u001b[0mname\u001b[0m\u001b[1;33m:\u001b[0m \u001b[0mstr\u001b[0m\u001b[1;33m,\u001b[0m \u001b[0mvalue\u001b[0m\u001b[1;33m)\u001b[0m \u001b[1;33m->\u001b[0m \u001b[1;32mNone\u001b[0m\u001b[1;33m:\u001b[0m\u001b[1;33m\u001b[0m\u001b[1;33m\u001b[0m\u001b[0m\n",
      "\u001b[1;31mAttributeError\u001b[0m: 'DataFrame' object has no attribute 'Length'"
     ]
    }
   ],
   "source": [
    "# plotting distribution of Dubious genes in Verified genes\n",
    "plt.hist(validated.Length, alpha = 0.5)\n",
    "# will pick up correcting this error on Tuesday and the fact that some of the outputs are negative"
   ]
  },
  {
   "cell_type": "markdown",
   "metadata": {},
   "source": [
    "### What is the distribution of length of dubious ORFs? What is the distribution of lengths of validate ORFs?"
   ]
  },
  {
   "cell_type": "markdown",
   "metadata": {},
   "source": [
    "### Using the groupby method to calculate aggregate statistics"
   ]
  },
  {
   "cell_type": "code",
   "execution_count": null,
   "metadata": {},
   "outputs": [],
   "source": []
  }
 ],
 "metadata": {
  "kernelspec": {
   "display_name": "Python 3",
   "language": "python",
   "name": "python3"
  },
  "language_info": {
   "codemirror_mode": {
    "name": "ipython",
    "version": 3
   },
   "file_extension": ".py",
   "mimetype": "text/x-python",
   "name": "python",
   "nbconvert_exporter": "python",
   "pygments_lexer": "ipython3",
   "version": "3.8.3"
  }
 },
 "nbformat": 4,
 "nbformat_minor": 4
}
