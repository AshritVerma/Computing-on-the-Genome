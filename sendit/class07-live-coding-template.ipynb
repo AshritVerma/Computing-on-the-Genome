{
 "cells": [
  {
   "cell_type": "code",
   "execution_count": 1,
   "metadata": {},
   "outputs": [],
   "source": [
    "import pandas as pd\n",
    "import numpy as np\n",
    "from matplotlib import pyplot as plt"
   ]
  },
  {
   "cell_type": "markdown",
   "metadata": {},
   "source": [
    "## Working with a table of features from the Saccharomyces Genome Database (SGD)\n",
    "\n",
    "The file [`SGD_features.tsv`](https://github.com/bio208fs-class/bio208fs-lecture/raw/master/data/SGD_features.tsv) is a tab-delimited file I downloaded from SGD that summarizes key pieces of information about genome features in the budding yeast genome.  The original file can be found here: http://sgd-archive.yeastgenome.org/curation/chromosomal_feature/\n",
    "\n",
    "Here's a short summary of the contents of this file, from the \"SGD_features.README\" document:\n",
    "\n",
    "```\n",
    "1. Information on current chromosomal features in SGD, including Dubious ORFs. \n",
    "Also contains coordinates of intron, exons, and other subfeatures that are located within a chromosomal feature.\n",
    "\n",
    "2. The relationship between subfeatures and the feature in which they\n",
    "are located is identified by the feature name in column #7 (parent\n",
    "feature). For example, the parent feature of the intron found in\n",
    "ACT1/YFL039C will be YFL039C. The parent feature of YFL039C is\n",
    "chromosome 6.\n",
    "\n",
    "3. The coordinates of all features are in chromosomal coordinates.\n",
    "\n",
    "Columns within SGD_features.tab:\n",
    "\n",
    "1.   Primary SGDID (mandatory)\n",
    "2.   Feature type (mandatory)\n",
    "3.   Feature qualifier (optional)\n",
    "4.   Feature name (optional)\n",
    "5.   Standard gene name (optional)\n",
    "6.   Alias (optional, multiples separated by |)\n",
    "7.   Parent feature name (optional)\n",
    "8.   Secondary SGDID (optional, multiples separated by |)\n",
    "9.   Chromosome (optional)\n",
    "10.  Start_coordinate (optional)\n",
    "11.  Stop_coordinate (optional)\n",
    "12.  Strand (optional)\n",
    "13.  Genetic position (optional)\n",
    "14.  Coordinate version (optional)\n",
    "15.  Sequence version (optional)\n",
    "16.  Description (optional)\n",
    "\n",
    "Note that \"chromosome 17\" is the mitochondrial chromosome.\n",
    "```\n"
   ]
  },
  {
   "cell_type": "markdown",
   "metadata": {},
   "source": [
    "Download [`SGD_features.tsv`](https://github.com/bio208fs-class/bio208fs-lecture/raw/master/data/SGD_features.tsv) to your computer and then load it using the `read_csv` function, specifying the delimiter argument as a tab:"
   ]
  },
  {
   "cell_type": "code",
   "execution_count": 2,
   "metadata": {},
   "outputs": [],
   "source": [
    "features = pd.read_csv(\"/Users/cleve/OneDrive/Documents/Notes/Notebooks Linked Materials/Duke University/Bio 208 Computing on the Genome/SGD_features.tsv\", delimiter=\"\\t\")"
   ]
  },
  {
   "cell_type": "markdown",
   "metadata": {},
   "source": [
    "## What are the dimensions of this data set?"
   ]
  },
  {
   "cell_type": "code",
   "execution_count": 3,
   "metadata": {},
   "outputs": [
    {
     "data": {
      "text/plain": [
       "(16454, 16)"
      ]
     },
     "execution_count": 3,
     "metadata": {},
     "output_type": "execute_result"
    }
   ],
   "source": [
    "features.shape"
   ]
  },
  {
   "cell_type": "markdown",
   "metadata": {},
   "source": [
    "## What are the columns names and data types?"
   ]
  },
  {
   "cell_type": "code",
   "execution_count": 4,
   "metadata": {},
   "outputs": [
    {
     "data": {
      "text/plain": [
       "Index(['SGDID', 'Type', 'Qualifier', 'Name', 'Gene', 'Alias', 'Parent',\n",
       "       'Secondary', 'Chromosome', 'Start', 'Stop', 'Strand', 'GeneticPosition',\n",
       "       'CoordVersion', 'SeqVersion', 'Description'],\n",
       "      dtype='object')"
      ]
     },
     "execution_count": 4,
     "metadata": {},
     "output_type": "execute_result"
    }
   ],
   "source": [
    "features.columns"
   ]
  },
  {
   "cell_type": "code",
   "execution_count": 10,
   "metadata": {},
   "outputs": [
    {
     "data": {
      "text/plain": [
       "SGDID               object\n",
       "Type                object\n",
       "Qualifier           object\n",
       "Name                object\n",
       "Gene                object\n",
       "Alias               object\n",
       "Parent              object\n",
       "Secondary           object\n",
       "Chromosome          object\n",
       "Start              float64\n",
       "Stop               float64\n",
       "Strand              object\n",
       "GeneticPosition    float64\n",
       "CoordVersion        object\n",
       "SeqVersion          object\n",
       "Description         object\n",
       "dtype: object"
      ]
     },
     "execution_count": 10,
     "metadata": {},
     "output_type": "execute_result"
    }
   ],
   "source": [
    "features.dtypes"
   ]
  },
  {
   "cell_type": "markdown",
   "metadata": {},
   "source": [
    "## How many genome features are there in the  yeast genome?"
   ]
  },
  {
   "cell_type": "code",
   "execution_count": 11,
   "metadata": {},
   "outputs": [
    {
     "data": {
      "text/plain": [
       "16454"
      ]
     },
     "execution_count": 11,
     "metadata": {},
     "output_type": "execute_result"
    }
   ],
   "source": [
    "len(features)  "
   ]
  },
  {
   "cell_type": "markdown",
   "metadata": {},
   "source": [
    "## What are the different feature types?"
   ]
  },
  {
   "cell_type": "code",
   "execution_count": 12,
   "metadata": {},
   "outputs": [
    {
     "data": {
      "text/plain": [
       "array(['ORF', 'CDS', 'ARS', 'telomere', 'telomeric_repeat', 'X_element',\n",
       "       'X_element_combinatorial_repeat', 'long_terminal_repeat',\n",
       "       'ARS_consensus_sequence', 'intron', 'ncRNA_gene', 'noncoding_exon',\n",
       "       'tRNA_gene', 'snoRNA_gene', 'centromere',\n",
       "       'centromere_DNA_Element_I', 'centromere_DNA_Element_II',\n",
       "       'centromere_DNA_Element_III', 'transposable_element_gene',\n",
       "       'LTR_retrotransposon', 'pseudogene', 'Y_prime_element',\n",
       "       'five_prime_UTR_intron', 'plus_1_translational_frameshift',\n",
       "       'matrix_attachment_site', 'gene_group', 'snRNA_gene', 'rRNA_gene',\n",
       "       'external_transcribed_spacer_region',\n",
       "       'internal_transcribed_spacer_region', 'non_transcribed_region',\n",
       "       'blocked_reading_frame', 'origin_of_replication',\n",
       "       'telomerase_RNA_gene', 'silent_mating_type_cassette_array',\n",
       "       'W_region', 'X_region', 'Y_region', 'Z1_region', 'Z2_region',\n",
       "       'mating_type_region', 'intein_encoding_region',\n",
       "       'not physically mapped', 'not in systematic sequence of S288C'],\n",
       "      dtype=object)"
      ]
     },
     "execution_count": 12,
     "metadata": {},
     "output_type": "execute_result"
    }
   ],
   "source": [
    "features.Type.unique()  # gives unique elements in a column\n",
    "#same as saying features[\"Type\"]\n",
    "#"
   ]
  },
  {
   "cell_type": "code",
   "execution_count": 13,
   "metadata": {},
   "outputs": [
    {
     "data": {
      "text/plain": [
       "44"
      ]
     },
     "execution_count": 13,
     "metadata": {},
     "output_type": "execute_result"
    }
   ],
   "source": [
    "len(features.Type.unique())"
   ]
  },
  {
   "cell_type": "markdown",
   "metadata": {},
   "source": [
    "## Check the chromosome designations"
   ]
  },
  {
   "cell_type": "code",
   "execution_count": 14,
   "metadata": {},
   "outputs": [
    {
     "data": {
      "text/plain": [
       "array(['1', '10', '11', '12', '13', '14', '15', '16', '17', '2',\n",
       "       '2-micron', '3', '4', '5', '6', '7', '8', '9', nan], dtype=object)"
      ]
     },
     "execution_count": 14,
     "metadata": {},
     "output_type": "execute_result"
    }
   ],
   "source": [
    "features.Chromosome.unique()\n",
    "#2-micron: selfish genetic element; molecular parasite; has its own origin of replication; \n",
    "        # codes its own genes that helps it propogate"
   ]
  },
  {
   "cell_type": "markdown",
   "metadata": {},
   "source": [
    "## Adding a new column - Length"
   ]
  },
  {
   "cell_type": "code",
   "execution_count": 15,
   "metadata": {},
   "outputs": [],
   "source": [
    "# using np.abs here because for some of the features Start > Stop\n",
    "features[\"Length\"] = np.abs(features.Stop - features.Start)"
   ]
  },
  {
   "cell_type": "code",
   "execution_count": 16,
   "metadata": {},
   "outputs": [
    {
     "data": {
      "text/plain": [
       "dtype('float64')"
      ]
     },
     "execution_count": 16,
     "metadata": {},
     "output_type": "execute_result"
    }
   ],
   "source": [
    "features.Length.dtype"
   ]
  },
  {
   "cell_type": "code",
   "execution_count": 17,
   "metadata": {},
   "outputs": [
    {
     "data": {
      "image/png": "[encoded data removed]",
      "text/plain": [
       "<Figure size 432x288 with 1 Axes>"
      ]
     },
     "metadata": {
      "needs_background": "light"
     },
     "output_type": "display_data"
    }
   ],
   "source": [
    "# create a histogram showing distribution of lengths of features\n",
    "features.Length.plot.hist(bins=100)\n",
    "plt.xlabel(\"Feature length (bp)\")\n",
    "pass"
   ]
  },
  {
   "cell_type": "markdown",
   "metadata": {},
   "source": [
    "## How  many of those features are annotated as \"ORFs\" (open reading frames)?"
   ]
  },
  {
   "cell_type": "code",
   "execution_count": 18,
   "metadata": {},
   "outputs": [
    {
     "data": {
      "text/plain": [
       "6604"
      ]
     },
     "execution_count": 18,
     "metadata": {},
     "output_type": "execute_result"
    }
   ],
   "source": [
    "orfs = features[features.Type == \"ORF\"]\n",
    "len(orfs)"
   ]
  },
  {
   "cell_type": "code",
   "execution_count": 41,
   "metadata": {},
   "outputs": [
    {
     "data": {
      "text/plain": [
       "7074"
      ]
     },
     "execution_count": 41,
     "metadata": {},
     "output_type": "execute_result"
    }
   ],
   "source": [
    "cds = features[features.Type == \"CDS\"]\n",
    "len(cds)"
   ]
  },
  {
   "cell_type": "markdown",
   "metadata": {},
   "source": [
    "## Sorting ORFs based on their length"
   ]
  },
  {
   "cell_type": "code",
   "execution_count": 19,
   "metadata": {},
   "outputs": [
    {
     "data": {
      "text/html": [
       "<div>\n",
       "<style scoped>\n",
       "    .dataframe tbody tr th:only-of-type {\n",
       "        vertical-align: middle;\n",
       "    }\n",
       "\n",
       "    .dataframe tbody tr th {\n",
       "        vertical-align: top;\n",
       "    }\n",
       "\n",
       "    .dataframe thead th {\n",
       "        text-align: right;\n",
       "    }\n",
       "</style>\n",
       "<table border=\"1\" class=\"dataframe\">\n",
       "  <thead>\n",
       "    <tr style=\"text-align: right;\">\n",
       "      <th></th>\n",
       "      <th>SGDID</th>\n",
       "      <th>Chromosome</th>\n",
       "      <th>Gene</th>\n",
       "      <th>Length</th>\n",
       "      <th>Description</th>\n",
       "    </tr>\n",
       "  </thead>\n",
       "  <tbody>\n",
       "    <tr>\n",
       "      <th>1254</th>\n",
       "      <td>S000028557</td>\n",
       "      <td>10</td>\n",
       "      <td>NaN</td>\n",
       "      <td>50.0</td>\n",
       "      <td>Putative protein of unknown function; identifi...</td>\n",
       "    </tr>\n",
       "    <tr>\n",
       "      <th>10332</th>\n",
       "      <td>S000007602</td>\n",
       "      <td>4</td>\n",
       "      <td>NaN</td>\n",
       "      <td>74.0</td>\n",
       "      <td>Dubious open reading frame; unlikely to encode...</td>\n",
       "    </tr>\n",
       "    <tr>\n",
       "      <th>9527</th>\n",
       "      <td>S000007594</td>\n",
       "      <td>2</td>\n",
       "      <td>NaN</td>\n",
       "      <td>74.0</td>\n",
       "      <td>Dubious open reading frame; unlikely to encode...</td>\n",
       "    </tr>\n",
       "    <tr>\n",
       "      <th>10593</th>\n",
       "      <td>S000002293</td>\n",
       "      <td>4</td>\n",
       "      <td>RPL41B</td>\n",
       "      <td>77.0</td>\n",
       "      <td>Ribosomal 60S subunit protein L41B; comprises ...</td>\n",
       "    </tr>\n",
       "    <tr>\n",
       "      <th>7035</th>\n",
       "      <td>S000005828</td>\n",
       "      <td>15</td>\n",
       "      <td>NaN</td>\n",
       "      <td>77.0</td>\n",
       "      <td>CPA1 uORF; Arginine attenuator peptide, regula...</td>\n",
       "    </tr>\n",
       "  </tbody>\n",
       "</table>\n",
       "</div>"
      ],
      "text/plain": [
       "            SGDID Chromosome    Gene  Length  \\\n",
       "1254   S000028557         10     NaN    50.0   \n",
       "10332  S000007602          4     NaN    74.0   \n",
       "9527   S000007594          2     NaN    74.0   \n",
       "10593  S000002293          4  RPL41B    77.0   \n",
       "7035   S000005828         15     NaN    77.0   \n",
       "\n",
       "                                             Description  \n",
       "1254   Putative protein of unknown function; identifi...  \n",
       "10332  Dubious open reading frame; unlikely to encode...  \n",
       "9527   Dubious open reading frame; unlikely to encode...  \n",
       "10593  Ribosomal 60S subunit protein L41B; comprises ...  \n",
       "7035   CPA1 uORF; Arginine attenuator peptide, regula...  "
      ]
     },
     "execution_count": 19,
     "metadata": {},
     "output_type": "execute_result"
    }
   ],
   "source": [
    "orfs.sort_values(\"Length\").loc[:,[\"SGDID\", \"Chromosome\",\n",
    "                                  \"Gene\",\"Length\",\"Description\"]].head()"
   ]
  },
  {
   "cell_type": "code",
   "execution_count": 20,
   "metadata": {},
   "outputs": [
    {
     "data": {
      "text/html": [
       "<div>\n",
       "<style scoped>\n",
       "    .dataframe tbody tr th:only-of-type {\n",
       "        vertical-align: middle;\n",
       "    }\n",
       "\n",
       "    .dataframe tbody tr th {\n",
       "        vertical-align: top;\n",
       "    }\n",
       "\n",
       "    .dataframe thead th {\n",
       "        text-align: right;\n",
       "    }\n",
       "</style>\n",
       "<table border=\"1\" class=\"dataframe\">\n",
       "  <thead>\n",
       "    <tr style=\"text-align: right;\">\n",
       "      <th></th>\n",
       "      <th>SGDID</th>\n",
       "      <th>Chromosome</th>\n",
       "      <th>Gene</th>\n",
       "      <th>Length</th>\n",
       "      <th>Description</th>\n",
       "    </tr>\n",
       "  </thead>\n",
       "  <tbody>\n",
       "    <tr>\n",
       "      <th>2523</th>\n",
       "      <td>S000004096</td>\n",
       "      <td>12</td>\n",
       "      <td>MDN1</td>\n",
       "      <td>14732.0</td>\n",
       "      <td>Huge dynein-related AAA-type ATPase (midasin);...</td>\n",
       "    </tr>\n",
       "    <tr>\n",
       "      <th>8569</th>\n",
       "      <td>S000007260</td>\n",
       "      <td>17</td>\n",
       "      <td>COX1</td>\n",
       "      <td>12883.0</td>\n",
       "      <td>Subunit I of cytochrome c oxidase (Complex IV)...</td>\n",
       "    </tr>\n",
       "    <tr>\n",
       "      <th>1973</th>\n",
       "      <td>S000001762</td>\n",
       "      <td>11</td>\n",
       "      <td>DYN1</td>\n",
       "      <td>12278.0</td>\n",
       "      <td>Cytoplasmic heavy chain dynein; microtubule mo...</td>\n",
       "    </tr>\n",
       "    <tr>\n",
       "      <th>15453</th>\n",
       "      <td>S000001141</td>\n",
       "      <td>8</td>\n",
       "      <td>TRA1</td>\n",
       "      <td>11234.0</td>\n",
       "      <td>Subunit of SAGA and NuA4 histone acetyltransfe...</td>\n",
       "    </tr>\n",
       "    <tr>\n",
       "      <th>12102</th>\n",
       "      <td>S000002865</td>\n",
       "      <td>4</td>\n",
       "      <td>TOM1</td>\n",
       "      <td>9806.0</td>\n",
       "      <td>E3 ubiquitin ligase of the hect-domain class; ...</td>\n",
       "    </tr>\n",
       "  </tbody>\n",
       "</table>\n",
       "</div>"
      ],
      "text/plain": [
       "            SGDID Chromosome  Gene   Length  \\\n",
       "2523   S000004096         12  MDN1  14732.0   \n",
       "8569   S000007260         17  COX1  12883.0   \n",
       "1973   S000001762         11  DYN1  12278.0   \n",
       "15453  S000001141          8  TRA1  11234.0   \n",
       "12102  S000002865          4  TOM1   9806.0   \n",
       "\n",
       "                                             Description  \n",
       "2523   Huge dynein-related AAA-type ATPase (midasin);...  \n",
       "8569   Subunit I of cytochrome c oxidase (Complex IV)...  \n",
       "1973   Cytoplasmic heavy chain dynein; microtubule mo...  \n",
       "15453  Subunit of SAGA and NuA4 histone acetyltransfe...  \n",
       "12102  E3 ubiquitin ligase of the hect-domain class; ...  "
      ]
     },
     "execution_count": 20,
     "metadata": {},
     "output_type": "execute_result"
    }
   ],
   "source": [
    "# sort in descending order\n",
    "orfs.sort_values(\"Length\", ascending=False).loc[:,[\"SGDID\", \"Chromosome\",\n",
    "                                                   \"Gene\",\"Length\",\"Description\"]].head()"
   ]
  },
  {
   "cell_type": "code",
   "execution_count": null,
   "metadata": {},
   "outputs": [],
   "source": [
    "cds = features[features.Type == \"CDS\"]\n",
    "len(cds)"
   ]
  },
  {
   "cell_type": "code",
   "execution_count": null,
   "metadata": {},
   "outputs": [],
   "source": [
    "#ascending order (smallest to largest)\n",
    "orfs.sort_values(\"Length\")"
   ]
  },
  {
   "cell_type": "code",
   "execution_count": null,
   "metadata": {},
   "outputs": [],
   "source": [
    "# sort in descending order\n",
    "orfs.sort_values(\"Length\", ascending=False).loc[:,[\"SGDID\", \"Chromosome\", \"Gene\",\"Length\",\"Description\"]].head(10)"
   ]
  },
  {
   "cell_type": "code",
   "execution_count": null,
   "metadata": {},
   "outputs": [],
   "source": [
    "# sort in descending order\n",
    "orfs.sort_values(\"Length\", ascending=False).loc[:,[\"SGDID\", \"Chromosome\", \"Gene\",\"Length\",\"Description\"]].tail()"
   ]
  },
  {
   "cell_type": "markdown",
   "metadata": {},
   "source": [
    "## Convert the Chromosome data type from object to numerical type"
   ]
  },
  {
   "cell_type": "code",
   "execution_count": 21,
   "metadata": {},
   "outputs": [],
   "source": [
    "# drop the 2-micron from consideration\n",
    "orfs = orfs[orfs.Chromosome != \"2-micron\"].copy() \n",
    "\n",
    "# we use copy above because we're going to make some modifications of the ORF data\n",
    "# so we want an independent copy of the data not a \"view\" into the features DataFrame"
   ]
  },
  {
   "cell_type": "code",
   "execution_count": 22,
   "metadata": {},
   "outputs": [],
   "source": [
    "orfs.loc[:,\"Chromosome\"] = pd.to_numeric(orfs.Chromosome)"
   ]
  },
  {
   "cell_type": "code",
   "execution_count": 23,
   "metadata": {},
   "outputs": [
    {
     "data": {
      "text/plain": [
       "array([ 1, 10, 11, 12, 13, 14, 15, 16, 17,  2,  3,  4,  5,  6,  7,  8,  9],\n",
       "      dtype=int64)"
      ]
     },
     "execution_count": 23,
     "metadata": {},
     "output_type": "execute_result"
    }
   ],
   "source": [
    "orfs.Chromosome.unique()"
   ]
  },
  {
   "cell_type": "markdown",
   "metadata": {},
   "source": [
    "## Distribution of ORF lengths"
   ]
  },
  {
   "cell_type": "code",
   "execution_count": 24,
   "metadata": {},
   "outputs": [
    {
     "data": {
      "image/png": "[encoded data removed]",
      "text/plain": [
       "<Figure size 432x288 with 1 Axes>"
      ]
     },
     "metadata": {
      "needs_background": "light"
     },
     "output_type": "display_data"
    }
   ],
   "source": [
    "\n",
    "plt.hist(orfs.Length, bins=100)\n",
    "plt.xlabel(\"Gene length\")\n",
    "plt.ylabel(\"Frequency\")\n",
    "pass"
   ]
  },
  {
   "cell_type": "markdown",
   "metadata": {},
   "source": [
    "Since lengths differ by several orders of magnitude, a log-transform might be useful"
   ]
  },
  {
   "cell_type": "code",
   "execution_count": 25,
   "metadata": {},
   "outputs": [
    {
     "data": {
      "image/png": "[encoded data removed]",
      "text/plain": [
       "<Figure size 432x288 with 1 Axes>"
      ]
     },
     "metadata": {
      "needs_background": "light"
     },
     "output_type": "display_data"
    }
   ],
   "source": [
    "plt.hist(np.log10(orfs.Length),bins = 100)\n",
    "plt.xlabel(\"log10(Gene length)\")\n",
    "plt.ylabel(\"Frequency\")\n",
    "pass"
   ]
  },
  {
   "cell_type": "markdown",
   "metadata": {},
   "source": [
    "### How many of the ORFS are designated as \"Dubious\"? How many are \"Verified\"?"
   ]
  },
  {
   "cell_type": "code",
   "execution_count": 26,
   "metadata": {},
   "outputs": [
    {
     "data": {
      "text/plain": [
       "717"
      ]
     },
     "execution_count": 26,
     "metadata": {},
     "output_type": "execute_result"
    }
   ],
   "source": [
    "dubious = orfs[orfs.Qualifier == \"Dubious\"]\n",
    "len(dubious)"
   ]
  },
  {
   "cell_type": "code",
   "execution_count": 27,
   "metadata": {},
   "outputs": [
    {
     "data": {
      "text/plain": [
       "5151"
      ]
     },
     "execution_count": 27,
     "metadata": {},
     "output_type": "execute_result"
    }
   ],
   "source": [
    "verified = orfs[orfs.Qualifier == \"Verified\"]\n",
    "len(verified)"
   ]
  },
  {
   "cell_type": "markdown",
   "metadata": {},
   "source": [
    "### What is the distribution of length of dubious ORFs? What is the distribution of lengths of verified ORFs?"
   ]
  },
  {
   "cell_type": "code",
   "execution_count": 28,
   "metadata": {},
   "outputs": [
    {
     "data": {
      "image/png": "[encoded data removed]",
      "text/plain": [
       "<Figure size 432x288 with 1 Axes>"
      ]
     },
     "metadata": {
      "needs_background": "light"
     },
     "output_type": "display_data"
    }
   ],
   "source": [
    "# lengths of verified\n",
    "plt.hist(verified.Length, alpha=0.5, bins=np.arange(0,12000,100))\n",
    "#lengths of dubious\n",
    "plt.hist(dubious.Length, alpha=0.5, bins=np.arange(0,12000,100)) \n",
    "\n",
    "# add labels\n",
    "plt.xlabel(\"ORF length (bp)\")\n",
    "plt.ylabel(\"Frequency\")\n",
    "pass\n"
   ]
  },
  {
   "cell_type": "code",
   "execution_count": 29,
   "metadata": {},
   "outputs": [
    {
     "data": {
      "text/plain": [
       "(347.0, 1283.0)"
      ]
     },
     "execution_count": 29,
     "metadata": {},
     "output_type": "execute_result"
    }
   ],
   "source": [
    "dubious.Length.median(), verified.Length.median()"
   ]
  },
  {
   "cell_type": "code",
   "execution_count": 32,
   "metadata": {},
   "outputs": [
    {
     "data": {
      "image/png": "[encoded data removed]",
      "text/plain": [
       "<Figure size 432x288 with 1 Axes>"
      ]
     },
     "metadata": {
      "needs_background": "light"
     },
     "output_type": "display_data"
    }
   ],
   "source": [
    "# here we're looking at the the log10 of the frequencies NOT the lengths\n",
    "\n",
    "# generate histograms\n",
    "plt.hist(verified.Length, color='red', alpha=0.35, bins=np.arange(0,12000,100),log=True)\n",
    "plt.hist(dubious.Length, color='black', alpha=0.35, bins=np.arange(0,12000,100), log=True)\n",
    "\n",
    "# add dashed lines representing median lengths\n",
    "plt.vlines(dubious.Length.median(), ymin=0, ymax=400, color='black', linestyle=\"dashed\")\n",
    "plt.vlines(verified.Length.median(), ymin=0, ymax=400, color='red', linestyle=\"dashed\")\n",
    "\n",
    "# add labels\n",
    "plt.xlabel(\"ORF length (bp)\")\n",
    "plt.ylabel(\"Log10(Frequency)\")\n",
    "pass"
   ]
  },
  {
   "cell_type": "markdown",
   "metadata": {},
   "source": [
    "## Dubious + Verified is not the full set of ORFS. What are the other Qualifier values?"
   ]
  },
  {
   "cell_type": "code",
   "execution_count": 33,
   "metadata": {},
   "outputs": [
    {
     "data": {
      "text/plain": [
       "array(['Dubious', 'Verified', 'Uncharacterized', 'Verified|silenced_gene'],\n",
       "      dtype=object)"
      ]
     },
     "execution_count": 33,
     "metadata": {},
     "output_type": "execute_result"
    }
   ],
   "source": [
    "orfs.Qualifier.unique()\n",
    "# Uncharacterized and silenced_gene are other qualifier values"
   ]
  },
  {
   "cell_type": "markdown",
   "metadata": {},
   "source": [
    "## Using groupby to get a breakdown of ORFs"
   ]
  },
  {
   "cell_type": "code",
   "execution_count": 34,
   "metadata": {},
   "outputs": [
    {
     "data": {
      "text/plain": [
       "Qualifier\n",
       "Dubious                    717\n",
       "Uncharacterized            728\n",
       "Verified                  5151\n",
       "Verified|silenced_gene       4\n",
       "Name: Qualifier, dtype: int64"
      ]
     },
     "execution_count": 34,
     "metadata": {},
     "output_type": "execute_result"
    }
   ],
   "source": [
    "orfs.groupby(\"Qualifier\").Qualifier.count()"
   ]
  },
  {
   "cell_type": "code",
   "execution_count": 35,
   "metadata": {},
   "outputs": [
    {
     "data": {
      "text/plain": [
       "Verified                  5151\n",
       "Uncharacterized            728\n",
       "Dubious                    717\n",
       "Verified|silenced_gene       4\n",
       "Name: Qualifier, dtype: int64"
      ]
     },
     "execution_count": 35,
     "metadata": {},
     "output_type": "execute_result"
    }
   ],
   "source": [
    "orfs.Qualifier.value_counts()  # short hand for counting things in categories"
   ]
  },
  {
   "cell_type": "markdown",
   "metadata": {},
   "source": [
    "## Using the groupby method to calculate aggregate statistics"
   ]
  },
  {
   "cell_type": "code",
   "execution_count": 36,
   "metadata": {},
   "outputs": [
    {
     "data": {
      "text/plain": [
       "Qualifier\n",
       "Dubious                    347.0\n",
       "Uncharacterized            579.5\n",
       "Verified                  1283.0\n",
       "Verified|silenced_gene     506.5\n",
       "Name: Length, dtype: float64"
      ]
     },
     "execution_count": 36,
     "metadata": {},
     "output_type": "execute_result"
    }
   ],
   "source": [
    "orfs.groupby(\"Qualifier\").Length.median()"
   ]
  },
  {
   "cell_type": "markdown",
   "metadata": {},
   "source": [
    "## Grouping by multiple variables"
   ]
  },
  {
   "cell_type": "code",
   "execution_count": 37,
   "metadata": {
    "scrolled": true
   },
   "outputs": [
    {
     "data": {
      "text/plain": [
       "Chromosome  Qualifier      \n",
       "1           Dubious             25\n",
       "            Uncharacterized     15\n",
       "            Verified            77\n",
       "2           Dubious             51\n",
       "            Uncharacterized     46\n",
       "            Verified           359\n",
       "Name: Qualifier, dtype: int64"
      ]
     },
     "execution_count": 37,
     "metadata": {},
     "output_type": "execute_result"
    }
   ],
   "source": [
    "orfs.groupby([\"Chromosome\", \"Qualifier\"]).Qualifier.count().head(6)\n",
    "# table continues on but I just took the first six values to truncate output"
   ]
  },
  {
   "cell_type": "code",
   "execution_count": 38,
   "metadata": {},
   "outputs": [
    {
     "data": {
      "text/plain": [
       "Chromosome  Qualifier             \n",
       "1           Dubious                    25\n",
       "            Uncharacterized            15\n",
       "            Verified                   77\n",
       "2           Dubious                    51\n",
       "            Uncharacterized            46\n",
       "            Verified                  359\n",
       "3           Dubious                    18\n",
       "            Uncharacterized            30\n",
       "            Verified                  132\n",
       "            Verified|silenced_gene      4\n",
       "4           Dubious                    89\n",
       "            Uncharacterized            70\n",
       "            Verified                  677\n",
       "5           Dubious                    41\n",
       "            Uncharacterized            39\n",
       "            Verified                  243\n",
       "6           Dubious                    14\n",
       "            Uncharacterized            21\n",
       "            Verified                  104\n",
       "7           Dubious                    55\n",
       "            Uncharacterized            69\n",
       "            Verified                  459\n",
       "8           Dubious                    36\n",
       "            Uncharacterized            48\n",
       "            Verified                  237\n",
       "9           Dubious                    31\n",
       "            Uncharacterized            32\n",
       "            Verified                  178\n",
       "10          Dubious                    42\n",
       "            Uncharacterized            46\n",
       "            Verified                  310\n",
       "11          Dubious                    31\n",
       "            Uncharacterized            29\n",
       "            Verified                  288\n",
       "12          Dubious                    72\n",
       "            Uncharacterized            68\n",
       "            Verified                  438\n",
       "13          Dubious                    45\n",
       "            Uncharacterized            59\n",
       "            Verified                  401\n",
       "14          Dubious                    41\n",
       "            Uncharacterized            46\n",
       "            Verified                  348\n",
       "15          Dubious                    65\n",
       "            Uncharacterized            54\n",
       "            Verified                  478\n",
       "16          Dubious                    52\n",
       "            Uncharacterized            54\n",
       "            Verified                  405\n",
       "17          Dubious                     9\n",
       "            Uncharacterized             2\n",
       "            Verified                   17\n",
       "Name: Qualifier, dtype: int64"
      ]
     },
     "execution_count": 38,
     "metadata": {},
     "output_type": "execute_result"
    }
   ],
   "source": [
    "orfs.groupby([\"Chromosome\", \"Qualifier\"]).Qualifier.count()"
   ]
  },
  {
   "cell_type": "code",
   "execution_count": 39,
   "metadata": {},
   "outputs": [
    {
     "data": {
      "text/plain": [
       "Chromosome\n",
       "1      869.0\n",
       "2     1065.5\n",
       "3      942.5\n",
       "4     1106.0\n",
       "5      899.0\n",
       "6     1007.0\n",
       "7     1088.0\n",
       "8     1025.0\n",
       "9      962.0\n",
       "10    1070.0\n",
       "11    1107.5\n",
       "12    1032.5\n",
       "13    1139.0\n",
       "14    1118.0\n",
       "15    1091.0\n",
       "16    1103.0\n",
       "17     794.0\n",
       "Name: Length, dtype: float64"
      ]
     },
     "execution_count": 39,
     "metadata": {},
     "output_type": "execute_result"
    }
   ],
   "source": [
    "orfs.groupby(\"Chromosome\").Length.median()"
   ]
  },
  {
   "cell_type": "code",
   "execution_count": 40,
   "metadata": {},
   "outputs": [
    {
     "data": {
      "text/plain": [
       "Chromosome  Qualifier             \n",
       "1           Dubious                    332.0\n",
       "            Uncharacterized            380.0\n",
       "            Verified                  1373.0\n",
       "2           Dubious                    332.0\n",
       "            Uncharacterized            491.5\n",
       "            Verified                  1292.0\n",
       "3           Dubious                    359.0\n",
       "            Uncharacterized            461.0\n",
       "            Verified                  1200.5\n",
       "            Verified|silenced_gene     506.5\n",
       "4           Dubious                    335.0\n",
       "            Uncharacterized            645.5\n",
       "            Verified                  1292.0\n",
       "5           Dubious                    341.0\n",
       "            Uncharacterized            437.0\n",
       "            Verified                  1292.0\n",
       "6           Dubious                    336.5\n",
       "            Uncharacterized            524.0\n",
       "            Verified                  1343.0\n",
       "7           Dubious                    341.0\n",
       "            Uncharacterized            536.0\n",
       "            Verified                  1253.0\n",
       "8           Dubious                    350.0\n",
       "            Uncharacterized            543.5\n",
       "            Verified                  1235.0\n",
       "9           Dubious                    371.0\n",
       "            Uncharacterized            498.5\n",
       "            Verified                  1182.5\n",
       "10          Dubious                    350.0\n",
       "            Uncharacterized            924.5\n",
       "            Verified                  1229.0\n",
       "11          Dubious                    383.0\n",
       "            Uncharacterized            710.0\n",
       "            Verified                  1302.5\n",
       "12          Dubious                    347.0\n",
       "            Uncharacterized            476.0\n",
       "            Verified                  1271.0\n",
       "13          Dubious                    350.0\n",
       "            Uncharacterized            638.0\n",
       "            Verified                  1331.0\n",
       "14          Dubious                    395.0\n",
       "            Uncharacterized            836.0\n",
       "            Verified                  1265.0\n",
       "15          Dubious                    338.0\n",
       "            Uncharacterized            381.5\n",
       "            Verified                  1304.0\n",
       "16          Dubious                    354.5\n",
       "            Uncharacterized            744.5\n",
       "            Verified                  1304.0\n",
       "17          Dubious                    176.0\n",
       "            Uncharacterized           1294.0\n",
       "            Verified                  2504.0\n",
       "Name: Length, dtype: float64"
      ]
     },
     "execution_count": 40,
     "metadata": {},
     "output_type": "execute_result"
    }
   ],
   "source": [
    "orfs.groupby([\"Chromosome\", \"Qualifier\"]).Length.median()"
   ]
  },
  {
   "cell_type": "markdown",
   "metadata": {},
   "source": [
    "## Visualizations of Chromosomes"
   ]
  },
  {
   "cell_type": "code",
   "execution_count": 31,
   "metadata": {},
   "outputs": [],
   "source": [
    "# load chromosome length data\n",
    "chroms = pd.read_csv(\"/Users/pmagwene/Downloads/chromosome_length.tsv\", \n",
    "                     delimiter=\"\\t\")"
   ]
  },
  {
   "cell_type": "code",
   "execution_count": 32,
   "metadata": {},
   "outputs": [
    {
     "data": {
      "text/html": [
       "<div>\n",
       "<style scoped>\n",
       "    .dataframe tbody tr th:only-of-type {\n",
       "        vertical-align: middle;\n",
       "    }\n",
       "\n",
       "    .dataframe tbody tr th {\n",
       "        vertical-align: top;\n",
       "    }\n",
       "\n",
       "    .dataframe thead th {\n",
       "        text-align: right;\n",
       "    }\n",
       "</style>\n",
       "<table border=\"1\" class=\"dataframe\">\n",
       "  <thead>\n",
       "    <tr style=\"text-align: right;\">\n",
       "      <th></th>\n",
       "      <th>Chromosome</th>\n",
       "      <th>Systematic Name</th>\n",
       "      <th>Length</th>\n",
       "    </tr>\n",
       "  </thead>\n",
       "  <tbody>\n",
       "    <tr>\n",
       "      <th>0</th>\n",
       "      <td>1</td>\n",
       "      <td>NC_001133</td>\n",
       "      <td>230218</td>\n",
       "    </tr>\n",
       "    <tr>\n",
       "      <th>1</th>\n",
       "      <td>2</td>\n",
       "      <td>NC_001134</td>\n",
       "      <td>813184</td>\n",
       "    </tr>\n",
       "    <tr>\n",
       "      <th>2</th>\n",
       "      <td>3</td>\n",
       "      <td>NC_001135</td>\n",
       "      <td>316620</td>\n",
       "    </tr>\n",
       "    <tr>\n",
       "      <th>3</th>\n",
       "      <td>4</td>\n",
       "      <td>NC_001136</td>\n",
       "      <td>1531933</td>\n",
       "    </tr>\n",
       "    <tr>\n",
       "      <th>4</th>\n",
       "      <td>5</td>\n",
       "      <td>NC_001137</td>\n",
       "      <td>576874</td>\n",
       "    </tr>\n",
       "  </tbody>\n",
       "</table>\n",
       "</div>"
      ],
      "text/plain": [
       "   Chromosome Systematic Name   Length\n",
       "0           1       NC_001133   230218\n",
       "1           2       NC_001134   813184\n",
       "2           3       NC_001135   316620\n",
       "3           4       NC_001136  1531933\n",
       "4           5       NC_001137   576874"
      ]
     },
     "execution_count": 32,
     "metadata": {},
     "output_type": "execute_result"
    }
   ],
   "source": [
    "chroms.head()"
   ]
  },
  {
   "cell_type": "code",
   "execution_count": null,
   "metadata": {},
   "outputs": [],
   "source": [
    "x = [1,2,3]\n",
    "y =['a', 'b', 'c']\n",
    "list(zip(x,y))\n",
    "# zip takes two arrays and turns into cuplse"
   ]
  },
  {
   "cell_type": "code",
   "execution_count": 33,
   "metadata": {},
   "outputs": [
    {
     "data": {
      "image/png": "[encoded data removed]",
      "text/plain": [
       "<Figure size 576x864 with 1 Axes>"
      ]
     },
     "metadata": {
      "needs_background": "light"
     },
     "output_type": "display_data"
    }
   ],
   "source": [
    "plt.figure(figsize=(8,12))\n",
    "\n",
    "for (chrnum, length) in zip(chroms.Chromosome, chroms.Length):\n",
    "    plt.barh(chrnum, length, height=0.25, color='steelblue')\n",
    "    \n",
    "plt.xlabel(\"Length (bp)\")\n",
    "plt.ylabel(\"Chromosome\")\n",
    "    \n",
    "pass"
   ]
  },
  {
   "cell_type": "markdown",
   "metadata": {},
   "source": [
    "## Plot the ORFS on a single chromosome"
   ]
  },
  {
   "cell_type": "code",
   "execution_count": 34,
   "metadata": {},
   "outputs": [
    {
     "data": {
      "image/png": "[encoded data removed]",
      "text/plain": [
       "<Figure size 432x288 with 1 Axes>"
      ]
     },
     "metadata": {
      "needs_background": "light"
     },
     "output_type": "display_data"
    }
   ],
   "source": [
    "# plot chromosome 1\n",
    "plt.barh(1, chroms.Length[chroms.Chromosome == 1], height=0.25, color='steelblue')\n",
    "\n",
    "chr01orfs = orfs[orfs.Chromosome == 1]\n",
    "\n",
    "# iterating over start and start values of orfs of chromosome 1\n",
    "for (start, stop) in zip(chr01orfs.Start, chr01orfs.Stop):\n",
    "    left = min(start, stop)\n",
    "    width = abs(stop - start)\n",
    "    plt.barh(1, width, left=left, color='orange', height=0.35)\n",
    "\n",
    "\n",
    "plt.xlabel(\"Position (bp)\")\n",
    "plt.ylabel(\"Chromosome\")\n",
    "    \n",
    "# specify specific y-axis scaling to make this look nice\n",
    "plt.ylim(0,2)\n",
    "pass"
   ]
  },
  {
   "cell_type": "code",
   "execution_count": 35,
   "metadata": {},
   "outputs": [
    {
     "data": {
      "image/png": "[encoded data removed]",
      "text/plain": [
       "<Figure size 432x288 with 1 Axes>"
      ]
     },
     "metadata": {
      "needs_background": "light"
     },
     "output_type": "display_data"
    }
   ],
   "source": [
    "# plot chromosome 1 and 2 orfs\n",
    "\n",
    "plt.barh(1, chroms.Length[chroms.Chromosome == 1], height=0.25, color='steelblue')\n",
    "plt.barh(2, chroms.Length[chroms.Chromosome == 2], height=0.25, color='steelblue')\n",
    "\n",
    "focalorfs = orfs[orfs.Chromosome.isin([1,2])] #difference here\n",
    "\n",
    "for (chrom, start, stop) in zip(focalorfs.Chromosome, focalorfs.Start, focalorfs.Stop):\n",
    "    left = min(start, stop)\n",
    "    width = abs(stop - start)\n",
    "    plt.barh(chrom, width, left=left, color='orange', height=0.35)\n",
    "    \n",
    "plt.xlabel(\"Position (bp)\")\n",
    "plt.ylabel(\"Chromosome\")\n",
    "    \n",
    "# specify specific y-axis scaling to make this look nice\n",
    "plt.ylim(0,3)\n",
    "pass"
   ]
  }
 ],
 "metadata": {
  "kernelspec": {
   "display_name": "Python 3",
   "language": "python",
   "name": "python3"
  },
  "language_info": {
   "codemirror_mode": {
    "name": "ipython",
    "version": 3
   },
   "file_extension": ".py",
   "mimetype": "text/x-python",
   "name": "python",
   "nbconvert_exporter": "python",
   "pygments_lexer": "ipython3",
   "version": "3.8.3"
  }
 },
 "nbformat": 4,
 "nbformat_minor": 4
}
