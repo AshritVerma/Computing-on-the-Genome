{
 "cells": [
  {
   "cell_type": "markdown",
   "metadata": {},
   "source": [
    "\n",
    "## Simulating Population Growth, Mutation, and the fixation of alleles\n",
    "\n"
   ]
  },
  {
   "cell_type": "code",
   "execution_count": 28,
   "metadata": {},
   "outputs": [],
   "source": [
    "import random\n",
    "import numpy as np\n",
    "from matplotlib import pyplot as plt"
   ]
  },
  {
   "cell_type": "markdown",
   "metadata": {},
   "source": [
    "## Exponential growth\n",
    "\n",
    "Write a function, `doublings` which takens as input a single argument, `ngens`, where `ngens` is the number of generations to simulate.\n",
    "\n",
    "Your function should simulate the change in population size over time, given the following constraints:\n",
    "\n",
    "1. The initial population size is 1\n",
    "2. Every individual alive at the beginning of a generation gives rise to one new individual\n",
    "\n",
    "Your function should return a list of the population sizes for each generation of the simulation.\n"
   ]
  },
  {
   "cell_type": "code",
   "execution_count": 55,
   "metadata": {},
   "outputs": [],
   "source": [
    "def doublings(ngens):\n",
    "    return [pow(2, i) for i in range(ngens)]"
   ]
  },
  {
   "cell_type": "markdown",
   "metadata": {},
   "source": [
    "Create a plot of population size over time for 30 generations of the simulation."
   ]
  },
  {
   "cell_type": "code",
   "execution_count": 208,
   "metadata": {},
   "outputs": [
    {
     "name": "stdout",
     "output_type": "stream",
     "text": [
      "[1, 2, 4, 8, 16, 32, 64, 128, 256, 512, 1024, 2048, 4096, 8192, 16384, 32768, 65536, 131072, 262144, 524288, 1048576, 2097152, 4194304, 8388608, 16777216, 33554432, 67108864, 134217728, 268435456, 536870912]\n"
     ]
    },
    {
     "data": {
      "text/plain": [
       "[<matplotlib.lines.Line2D at 0x1f1a54dfa30>]"
      ]
     },
     "execution_count": 208,
     "metadata": {},
     "output_type": "execute_result"
    },
    {
     "data": {
      "image/png": "[encoded data removed]",
      "text/plain": [
       "<Figure size 432x288 with 1 Axes>"
      ]
     },
     "metadata": {
      "needs_background": "light"
     },
     "output_type": "display_data"
    }
   ],
   "source": [
    "x = 30\n",
    "counter = []\n",
    "\n",
    "generations = doublings(x)\n",
    "for i in range(x):\n",
    "    counter += [i]\n",
    "print(generations)\n",
    "plt.plot(counter, generations)"
   ]
  },
  {
   "cell_type": "markdown",
   "metadata": {},
   "source": [
    "## Growth and death"
   ]
  },
  {
   "cell_type": "markdown",
   "metadata": {},
   "source": [
    "Create another function, `doublings_death`, which takens as input two argument, `ngens` and `death_rate`, where `ngens` is the number of generations to simulate and `death_rate` is the fraction of the population that dies each generation (a floating point value between 0 and 1)\n",
    "\n",
    "Your function should simulate the change in population size over time, given the following constraints:\n",
    "\n",
    "1. The initial population size is 1\n",
    "2. Every individual alive at the beginning of a generation gives rise to one new individual\n",
    "3. After reproducing individuals die at a rate given by `death_rate`\n",
    "\n",
    "Your function should return a list of the population sizes for each generation of the simulation.\n"
   ]
  },
  {
   "cell_type": "code",
   "execution_count": 228,
   "metadata": {},
   "outputs": [
    {
     "name": "stdout",
     "output_type": "stream",
     "text": [
      "[1, 2.0, 4.0, 7.0, 12.0, 21.0, 37.0, 65.0, 114.0, 200.0, 350.0, 612.0, 1071.0, 1874.0, 3280.0, 5740.0, 10045.0, 17579.0, 30763.0, 53835.0, 94211.0, 164869.0, 288521.0, 504912.0, 883596.0, 1546293.0, 2706013.0, 4735523.0, 8287165.0, 14502539.0, 25379443.0]\n"
     ]
    }
   ],
   "source": [
    "def doublings_death(ngens, death_rate):\n",
    "    return_list = [1]\n",
    "    for i in range(ngens):\n",
    "        total = np.around(return_list[-1]*2 - death_rate*return_list[-1])\n",
    "        #total = np.around(pow(2, i) - 2*death_rate*return_list[-1])\n",
    "        return_list.append(total)\n",
    "    #return_list.remove(1)\n",
    "    return return_list\n",
    "a = doublings_death(30, .25)\n",
    "print(a)"
   ]
  },
  {
   "cell_type": "markdown",
   "metadata": {},
   "source": [
    "Create plots (on the same axes) of population size over time for 30 generations of the simulation, with death rates of 0.01, 0.1, 0.25.  Compare these to the results from `doublings` above."
   ]
  },
  {
   "cell_type": "code",
   "execution_count": 231,
   "metadata": {},
   "outputs": [
    {
     "name": "stdout",
     "output_type": "stream",
     "text": [
      "[1, 2.0, 4.0, 8.0, 16.0, 32.0, 64.0, 127.0, 253.0, 503.0, 1001.0, 1992.0, 3964.0, 7888.0, 15697.0, 31237.0, 62162.0, 123702.0, 246167.0, 489872.0, 974845.0, 1939942.0, 3860485.0, 7682365.0, 15287906.0, 30422933.0, 60541637.0, 120477858.0, 239750937.0, 477104365.0, 949437686.0]\n"
     ]
    },
    {
     "data": {
      "text/plain": [
       "[<matplotlib.lines.Line2D at 0x1f1a6a17850>]"
      ]
     },
     "execution_count": 231,
     "metadata": {},
     "output_type": "execute_result"
    },
    {
     "data": {
      "image/png": "[encoded data removed]",
      "text/plain": [
       "<Figure size 432x288 with 1 Axes>"
      ]
     },
     "metadata": {
      "needs_background": "light"
     },
     "output_type": "display_data"
    }
   ],
   "source": [
    "x = 30\n",
    "counter = []\n",
    "for i in range(x+1):\n",
    "    counter += [i]\n",
    "\n",
    "generations1 = doublings_death(x, .01)\n",
    "print(generations1)\n",
    "plt.plot(counter, generations1)"
   ]
  },
  {
   "cell_type": "code",
   "execution_count": 232,
   "metadata": {},
   "outputs": [
    {
     "name": "stdout",
     "output_type": "stream",
     "text": [
      "[1, 2.0, 4.0, 8.0, 15.0, 28.0, 53.0, 101.0, 192.0, 365.0, 694.0, 1319.0, 2506.0, 4761.0, 9046.0, 17187.0, 32655.0, 62044.0, 117884.0, 223980.0, 425562.0, 808568.0, 1536279.0, 2918930.0, 5545967.0, 10537337.0, 20020940.0, 38039786.0, 72275593.0, 137323627.0, 260914891.0]\n"
     ]
    },
    {
     "data": {
      "text/plain": [
       "[<matplotlib.lines.Line2D at 0x1f1a6a66b80>]"
      ]
     },
     "execution_count": 232,
     "metadata": {},
     "output_type": "execute_result"
    },
    {
     "data": {
      "image/png": "[encoded data removed]",
      "text/plain": [
       "<Figure size 432x288 with 1 Axes>"
      ]
     },
     "metadata": {
      "needs_background": "light"
     },
     "output_type": "display_data"
    }
   ],
   "source": [
    "generations2 = doublings_death(x, .1)\n",
    "print(generations2)\n",
    "plt.plot(counter, generations2)"
   ]
  },
  {
   "cell_type": "code",
   "execution_count": 233,
   "metadata": {},
   "outputs": [
    {
     "name": "stdout",
     "output_type": "stream",
     "text": [
      "[1, 2.0, 4.0, 7.0, 12.0, 21.0, 37.0, 65.0, 114.0, 200.0, 350.0, 612.0, 1071.0, 1874.0, 3280.0, 5740.0, 10045.0, 17579.0, 30763.0, 53835.0, 94211.0, 164869.0, 288521.0, 504912.0, 883596.0, 1546293.0, 2706013.0, 4735523.0, 8287165.0, 14502539.0, 25379443.0]\n"
     ]
    },
    {
     "data": {
      "text/plain": [
       "[<matplotlib.lines.Line2D at 0x1f1a6abf730>]"
      ]
     },
     "execution_count": 233,
     "metadata": {},
     "output_type": "execute_result"
    },
    {
     "data": {
      "image/png": "[encoded data removed]",
      "text/plain": [
       "<Figure size 432x288 with 1 Axes>"
      ]
     },
     "metadata": {
      "needs_background": "light"
     },
     "output_type": "display_data"
    }
   ],
   "source": [
    "generations3 = doublings_death(x,.25)\n",
    "print(generations3)\n",
    "plt.plot(counter, generations3)"
   ]
  },
  {
   "cell_type": "markdown",
   "metadata": {},
   "source": [
    "## Growth plus density dependent death"
   ]
  },
  {
   "cell_type": "markdown",
   "metadata": {},
   "source": [
    "Create another function, `doublings_density`, which takens as input two argument, `ngens`, `death_rate`, where `ngens` is the number of generations to simulate and `death_rate` is density dependent death rate (see below).\n",
    "\n",
    "Your function should simulate the change in population size over time, given the following constraints:\n",
    "\n",
    "1. The initial population size is 1\n",
    "2. Every individual alive at the beginning of a generation gives rise to one new individual\n",
    "3. After reproduction, individuals die at a rate given by `min(1, death_rate * population size)`\n",
    "\n",
    "Your function should return a list of the population sizes for each generation of the simulation.\n"
   ]
  },
  {
   "cell_type": "code",
   "execution_count": 223,
   "metadata": {
    "scrolled": true
   },
   "outputs": [
    {
     "name": "stdout",
     "output_type": "stream",
     "text": [
      "[1.0, 2.0, 4.0, 7, 15, 31, 63, 127, 255, 511]\n"
     ]
    }
   ],
   "source": [
    "def doublings_density(ngens, death_rate):\n",
    "    return_list = [1]\n",
    "    return_list = [np.around(pow(2,i) - min(1, death_rate * pow(2,i-1))) for i in range(ngens)]\n",
    "    #return_list = [np.around(pow(2,i) - min(1, death_rate * return_list[-1])) for i in range(ngens)]\n",
    "    return return_list\n",
    "generations = doublings_density(10, .25)\n",
    "print(generations)"
   ]
  },
  {
   "cell_type": "markdown",
   "metadata": {},
   "source": [
    "Create plots of population size over time for 30 generations of the simulation, with death rates of 0.01, 0.001, 0.0001, and 0.0001.  Compare these to the results from `doublings` above.  How does the final population size relate to the desnity dependent death rate?"
   ]
  },
  {
   "cell_type": "code",
   "execution_count": 224,
   "metadata": {},
   "outputs": [
    {
     "name": "stdout",
     "output_type": "stream",
     "text": [
      "[1.0, 2.0, 4.0, 8.0, 16.0, 32.0, 64.0, 127.0, 255, 511, 1023, 2047, 4095, 8191, 16383, 32767, 65535, 131071, 262143, 524287, 1048575, 2097151, 4194303, 8388607, 16777215, 33554431, 67108863, 134217727, 268435455, 536870911]\n"
     ]
    },
    {
     "data": {
      "text/plain": [
       "[<matplotlib.lines.Line2D at 0x1f1a6821a60>]"
      ]
     },
     "execution_count": 224,
     "metadata": {},
     "output_type": "execute_result"
    },
    {
     "data": {
      "image/png": "[encoded data removed]",
      "text/plain": [
       "<Figure size 432x288 with 1 Axes>"
      ]
     },
     "metadata": {
      "needs_background": "light"
     },
     "output_type": "display_data"
    }
   ],
   "source": [
    "x = 30\n",
    "counter = []\n",
    "for i in range(x):\n",
    "    counter += [i]\n",
    "\n",
    "generations1 = doublings_density(x, .01)\n",
    "print(generations1)\n",
    "plt.plot(counter, generations1)"
   ]
  },
  {
   "cell_type": "code",
   "execution_count": 225,
   "metadata": {},
   "outputs": [
    {
     "name": "stdout",
     "output_type": "stream",
     "text": [
      "[1.0, 2.0, 4.0, 8.0, 15.0, 31, 63, 127, 255, 511, 1023, 2047, 4095, 8191, 16383, 32767, 65535, 131071, 262143, 524287, 1048575, 2097151, 4194303, 8388607, 16777215, 33554431, 67108863, 134217727, 268435455, 536870911]\n"
     ]
    },
    {
     "data": {
      "text/plain": [
       "[<matplotlib.lines.Line2D at 0x1f1a68782e0>]"
      ]
     },
     "execution_count": 225,
     "metadata": {},
     "output_type": "execute_result"
    },
    {
     "data": {
      "image/png": "[encoded data removed]",
      "text/plain": [
       "<Figure size 432x288 with 1 Axes>"
      ]
     },
     "metadata": {
      "needs_background": "light"
     },
     "output_type": "display_data"
    }
   ],
   "source": [
    "generations2 = doublings_density(x, .1)\n",
    "print(generations2)\n",
    "plt.plot(counter, generations2)"
   ]
  },
  {
   "cell_type": "code",
   "execution_count": 226,
   "metadata": {},
   "outputs": [
    {
     "name": "stdout",
     "output_type": "stream",
     "text": [
      "[1.0, 2.0, 4.0, 7, 15, 31, 63, 127, 255, 511, 1023, 2047, 4095, 8191, 16383, 32767, 65535, 131071, 262143, 524287, 1048575, 2097151, 4194303, 8388607, 16777215, 33554431, 67108863, 134217727, 268435455, 536870911]\n"
     ]
    },
    {
     "data": {
      "text/plain": [
       "[<matplotlib.lines.Line2D at 0x1f1a68c7e50>]"
      ]
     },
     "execution_count": 226,
     "metadata": {},
     "output_type": "execute_result"
    },
    {
     "data": {
      "image/png": "[encoded data removed]",
      "text/plain": [
       "<Figure size 432x288 with 1 Axes>"
      ]
     },
     "metadata": {
      "needs_background": "light"
     },
     "output_type": "display_data"
    }
   ],
   "source": [
    "generations3 = doublings_density(x,.25)\n",
    "print(generations3)\n",
    "plt.plot(counter, generations3)"
   ]
  },
  {
   "cell_type": "markdown",
   "metadata": {},
   "source": [
    "# Simulating a neutral mutation in population with a constant size\n"
   ]
  },
  {
   "cell_type": "markdown",
   "metadata": {},
   "source": [
    "\n",
    "Imagine a new mutation appears is introduced at a fraction $p$ into population of size $N$. Assume that individuals with the mutation reproduce at the same rate as those without the mutation, and that population size stays constant over time (i.e. birth and death rates are equal). Write a function to simulate the fraction of individuals with the mutation over time."
   ]
  },
  {
   "cell_type": "code",
   "execution_count": 26,
   "metadata": {},
   "outputs": [],
   "source": [
    "def neutral_mutation(p, N, ngens):\n",
    "    "
   ]
  },
  {
   "cell_type": "code",
   "execution_count": null,
   "metadata": {},
   "outputs": [],
   "source": []
  }
 ],
 "metadata": {
  "kernelspec": {
   "display_name": "Python 3",
   "language": "python",
   "name": "python3"
  },
  "language_info": {
   "codemirror_mode": {
    "name": "ipython",
    "version": 3
   },
   "file_extension": ".py",
   "mimetype": "text/x-python",
   "name": "python",
   "nbconvert_exporter": "python",
   "pygments_lexer": "ipython3",
   "version": "3.8.3"
  }
 },
 "nbformat": 4,
 "nbformat_minor": 4
}
