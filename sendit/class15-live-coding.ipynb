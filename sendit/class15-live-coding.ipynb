{
 "cells": [
  {
   "cell_type": "code",
   "execution_count": 6,
   "metadata": {},
   "outputs": [
    {
     "data": {
      "text/plain": [
       "2"
      ]
     },
     "execution_count": 6,
     "metadata": {},
     "output_type": "execute_result"
    }
   ],
   "source": [
    "def alignment(a,b):\n",
    "    sum = 0\n",
    "    for i, j in zip(a,b):\n",
    "        if(i != j):\n",
    "            sum += 1;\n",
    "    return sum"
   ]
  },
  {
   "cell_type": "code",
   "execution_count": 7,
   "metadata": {},
   "outputs": [
    {
     "data": {
      "text/plain": [
       "2"
      ]
     },
     "execution_count": 7,
     "metadata": {},
     "output_type": "execute_result"
    }
   ],
   "source": [
    "alignment(\"TCCTA\", \"-ACTA\")"
   ]
  },
  {
   "cell_type": "code",
   "execution_count": 8,
   "metadata": {},
   "outputs": [
    {
     "data": {
      "text/plain": [
       "2"
      ]
     },
     "execution_count": 8,
     "metadata": {},
     "output_type": "execute_result"
    }
   ],
   "source": [
    "alignment(\"TCCTA\", \"A-CTA\")"
   ]
  },
  {
   "cell_type": "code",
   "execution_count": 9,
   "metadata": {},
   "outputs": [
    {
     "data": {
      "text/plain": [
       "2"
      ]
     },
     "execution_count": 9,
     "metadata": {},
     "output_type": "execute_result"
    }
   ],
   "source": [
    "alignment(\"TCCTA\", \"AC-TA\")"
   ]
  },
  {
   "cell_type": "code",
   "execution_count": 10,
   "metadata": {},
   "outputs": [
    {
     "data": {
      "text/plain": [
       "3"
      ]
     },
     "execution_count": 10,
     "metadata": {},
     "output_type": "execute_result"
    }
   ],
   "source": [
    "alignment('TCCTA', 'ACT-A')"
   ]
  },
  {
   "cell_type": "code",
   "execution_count": 11,
   "metadata": {
    "scrolled": true
   },
   "outputs": [
    {
     "data": {
      "text/plain": [
       "4"
      ]
     },
     "execution_count": 11,
     "metadata": {},
     "output_type": "execute_result"
    }
   ],
   "source": [
    "alignment(\"TCCTA\", \"ACTA-\")"
   ]
  },
  {
   "cell_type": "code",
   "execution_count": 34,
   "metadata": {},
   "outputs": [
    {
     "name": "stdout",
     "output_type": "stream",
     "text": [
      "('TCCTA', '-ACTA')\n"
     ]
    }
   ],
   "source": [
    "# to find optimal sequence\n",
    "\n",
    "list1 = [\"TCCTA\", \"TCCTA\", \"TCCTA\", \"TCCTA\", \"TCCTA\"]\n",
    "list2 = [\"-ACTA\", \"A-CTA\", \"AC-TA\", 'ACT-A', \"ACTA-\"]\n",
    "def optimal_alignment(list1, list2):\n",
    "    for i, j in zip(list1, list2):\n",
    "        list3 = [alignment(i, j)]\n",
    "        #print(list3)\n",
    "    index = list3.index(min(list3))\n",
    "    return(list1[index], list2[index])\n",
    "\n",
    "print(optimal_alignment(list1,list2))"
   ]
  },
  {
   "cell_type": "code",
   "execution_count": 36,
   "metadata": {
    "scrolled": true
   },
   "outputs": [
    {
     "data": {
      "text/plain": [
       "8"
      ]
     },
     "execution_count": 36,
     "metadata": {},
     "output_type": "execute_result"
    }
   ],
   "source": [
    "alignment('ATGCATGC', 'TGCATGCA')"
   ]
  },
  {
   "cell_type": "code",
   "execution_count": 35,
   "metadata": {
    "scrolled": false
   },
   "outputs": [
    {
     "data": {
      "text/plain": [
       "2"
      ]
     },
     "execution_count": 35,
     "metadata": {},
     "output_type": "execute_result"
    }
   ],
   "source": [
    "#adding additions and deletions, may give us better alignments\n",
    "alignment(\"ATGCATGC-\", \"-TGCATGCA\") "
   ]
  },
  {
   "cell_type": "code",
   "execution_count": null,
   "metadata": {},
   "outputs": [],
   "source": [
    "#alignemnt sliding\n",
    "#need to add looping structure so that slides can be more than 1\n",
    "def Cost_of_Alignment_Sliding(Seq1, Seq2):\n",
    "    w = 0\n",
    "    counter = 0\n",
    "    onelen = len(Seq1)\n",
    "    twolen = len(Seq2)\n",
    "    bool_which = True\n",
    "    if onelen != twolen:\n",
    "        if onelen > twolen:\n",
    "            bool_which = True\n",
    "        else:\n",
    "            bool_which = False\n",
    "    if bool_which == False:\n",
    "        holderSeq1 = Seq1\n",
    "        Seq1 = Seq2\n",
    "        Seq2 = holderSeq1\n",
    "    StartSlide = Cost_of_Alignment(Seq1[0: twolen - 1],Seq2)\n",
    "    EndSlide = Cost_of_Alignment(Seq1[onelen-twolen : onelen-1],Seq2)\n",
    "    if StartSlide > EndSlide:\n",
    "        Seq2.append(\"-\")\n",
    "        return Cost_of_Alignment(Seq1, Seq2)\n",
    "        \n",
    "    else:\n",
    "        Seq2 = \"-\" + Seq2\n",
    "        return Cost_of_Alignment(Seq1, Seq2)"
   ]
  },
  {
   "cell_type": "code",
   "execution_count": null,
   "metadata": {},
   "outputs": [],
   "source": [
    "#Needleman-Wunsch algorithm\n"
   ]
  }
 ],
 "metadata": {
  "kernelspec": {
   "display_name": "Python 3",
   "language": "python",
   "name": "python3"
  },
  "language_info": {
   "codemirror_mode": {
    "name": "ipython",
    "version": 3
   },
   "file_extension": ".py",
   "mimetype": "text/x-python",
   "name": "python",
   "nbconvert_exporter": "python",
   "pygments_lexer": "ipython3",
   "version": "3.8.3"
  }
 },
 "nbformat": 4,
 "nbformat_minor": 4
}
